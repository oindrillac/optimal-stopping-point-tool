{
 "cells": [
  {
   "cell_type": "markdown",
   "id": "dcf594ab-1dda-4f56-959c-265e069f75de",
   "metadata": {},
   "source": [
    "## Pass and Fail likelihood"
   ]
  },
  {
   "cell_type": "code",
   "execution_count": 1,
   "id": "bf608b52-fcb7-4fd2-9eee-95b373d2022f",
   "metadata": {},
   "outputs": [],
   "source": [
    "## Import libraries\n",
    "import os\n",
    "import gzip\n",
    "import json\n",
    "import datetime\n",
    "import itertools\n",
    "import pandas as pd\n",
    "import numpy as np\n",
    "import matplotlib.pyplot as plt\n",
    "import matplotlib.ticker as ticker\n",
    "\n",
    "import warnings\n",
    "\n",
    "warnings.filterwarnings(\"ignore\")\n",
    "import seaborn as sns\n",
    "from fitter import Fitter, get_common_distributions, get_distributions"
   ]
  },
  {
   "cell_type": "markdown",
   "id": "28448538-e882-408c-b89f-1e3b144c13d2",
   "metadata": {},
   "source": [
    "## Import dataframe"
   ]
  },
  {
   "cell_type": "markdown",
   "id": "59c6bb0f-0a07-4064-afa2-00e134c68f05",
   "metadata": {},
   "source": [
    "### Test 1"
   ]
  },
  {
   "cell_type": "code",
   "execution_count": 2,
   "id": "f6e60ad8-60fe-4b66-972a-23aa6ac31320",
   "metadata": {},
   "outputs": [],
   "source": [
    "test_id = \"28698040\" # Pre-commit test"
   ]
  },
  {
   "cell_type": "code",
   "execution_count": 3,
   "id": "32ec543f-f1f9-48a1-ae3a-406c48a3e845",
   "metadata": {},
   "outputs": [],
   "source": [
    "passing_train = pd.read_csv(\"../data/processed/{}passing_train.csv\".format(test_id))\n",
    "failing_train = pd.read_csv(\"../data/processed/{}failing_train.csv\".format(test_id))"
   ]
  },
  {
   "cell_type": "code",
   "execution_count": 4,
   "id": "3096433d-c3d5-4583-85be-15138d2936a7",
   "metadata": {},
   "outputs": [
    {
     "data": {
      "text/html": [
       "<div>\n",
       "<style scoped>\n",
       "    .dataframe tbody tr th:only-of-type {\n",
       "        vertical-align: middle;\n",
       "    }\n",
       "\n",
       "    .dataframe tbody tr th {\n",
       "        vertical-align: top;\n",
       "    }\n",
       "\n",
       "    .dataframe thead th {\n",
       "        text-align: right;\n",
       "    }\n",
       "</style>\n",
       "<table border=\"1\" class=\"dataframe\">\n",
       "  <thead>\n",
       "    <tr style=\"text-align: right;\">\n",
       "      <th></th>\n",
       "      <th>Unnamed: 0</th>\n",
       "      <th>created_at</th>\n",
       "      <th>updated_at</th>\n",
       "      <th>run_id</th>\n",
       "      <th>status</th>\n",
       "      <th>conclusion</th>\n",
       "      <th>run_duration</th>\n",
       "      <th>test_id</th>\n",
       "    </tr>\n",
       "  </thead>\n",
       "  <tbody>\n",
       "    <tr>\n",
       "      <th>0</th>\n",
       "      <td>12</td>\n",
       "      <td>2022-12-14T15:53:31Z</td>\n",
       "      <td>2022-12-14T15:54:12Z</td>\n",
       "      <td>3696463705</td>\n",
       "      <td>completed</td>\n",
       "      <td>success</td>\n",
       "      <td>41.0</td>\n",
       "      <td>28698040</td>\n",
       "    </tr>\n",
       "    <tr>\n",
       "      <th>1</th>\n",
       "      <td>28</td>\n",
       "      <td>2022-06-29T20:52:20Z</td>\n",
       "      <td>2022-06-29T20:52:49Z</td>\n",
       "      <td>2585823572</td>\n",
       "      <td>completed</td>\n",
       "      <td>success</td>\n",
       "      <td>29.0</td>\n",
       "      <td>28698040</td>\n",
       "    </tr>\n",
       "    <tr>\n",
       "      <th>2</th>\n",
       "      <td>7</td>\n",
       "      <td>2022-10-25T20:59:24Z</td>\n",
       "      <td>2022-10-25T21:00:05Z</td>\n",
       "      <td>3324245010</td>\n",
       "      <td>completed</td>\n",
       "      <td>success</td>\n",
       "      <td>41.0</td>\n",
       "      <td>28698040</td>\n",
       "    </tr>\n",
       "    <tr>\n",
       "      <th>3</th>\n",
       "      <td>6</td>\n",
       "      <td>2022-07-12T21:11:13Z</td>\n",
       "      <td>2022-07-12T21:11:42Z</td>\n",
       "      <td>2659424327</td>\n",
       "      <td>completed</td>\n",
       "      <td>success</td>\n",
       "      <td>29.0</td>\n",
       "      <td>28698040</td>\n",
       "    </tr>\n",
       "    <tr>\n",
       "      <th>4</th>\n",
       "      <td>23</td>\n",
       "      <td>2022-07-05T15:28:26Z</td>\n",
       "      <td>2022-07-05T15:29:06Z</td>\n",
       "      <td>2617219129</td>\n",
       "      <td>completed</td>\n",
       "      <td>success</td>\n",
       "      <td>40.0</td>\n",
       "      <td>28698040</td>\n",
       "    </tr>\n",
       "  </tbody>\n",
       "</table>\n",
       "</div>"
      ],
      "text/plain": [
       "   Unnamed: 0            created_at            updated_at      run_id  \\\n",
       "0          12  2022-12-14T15:53:31Z  2022-12-14T15:54:12Z  3696463705   \n",
       "1          28  2022-06-29T20:52:20Z  2022-06-29T20:52:49Z  2585823572   \n",
       "2           7  2022-10-25T20:59:24Z  2022-10-25T21:00:05Z  3324245010   \n",
       "3           6  2022-07-12T21:11:13Z  2022-07-12T21:11:42Z  2659424327   \n",
       "4          23  2022-07-05T15:28:26Z  2022-07-05T15:29:06Z  2617219129   \n",
       "\n",
       "      status conclusion  run_duration   test_id  \n",
       "0  completed    success          41.0  28698040  \n",
       "1  completed    success          29.0  28698040  \n",
       "2  completed    success          41.0  28698040  \n",
       "3  completed    success          29.0  28698040  \n",
       "4  completed    success          40.0  28698040  "
      ]
     },
     "execution_count": 4,
     "metadata": {},
     "output_type": "execute_result"
    }
   ],
   "source": [
    "passing_train.head()"
   ]
  },
  {
   "cell_type": "code",
   "execution_count": 5,
   "id": "ca3a6320-c1a4-4691-8541-7368ba71caeb",
   "metadata": {},
   "outputs": [
    {
     "data": {
      "text/html": [
       "<div>\n",
       "<style scoped>\n",
       "    .dataframe tbody tr th:only-of-type {\n",
       "        vertical-align: middle;\n",
       "    }\n",
       "\n",
       "    .dataframe tbody tr th {\n",
       "        vertical-align: top;\n",
       "    }\n",
       "\n",
       "    .dataframe thead th {\n",
       "        text-align: right;\n",
       "    }\n",
       "</style>\n",
       "<table border=\"1\" class=\"dataframe\">\n",
       "  <thead>\n",
       "    <tr style=\"text-align: right;\">\n",
       "      <th></th>\n",
       "      <th>Unnamed: 0</th>\n",
       "      <th>created_at</th>\n",
       "      <th>updated_at</th>\n",
       "      <th>run_id</th>\n",
       "      <th>status</th>\n",
       "      <th>conclusion</th>\n",
       "      <th>run_duration</th>\n",
       "      <th>test_id</th>\n",
       "    </tr>\n",
       "  </thead>\n",
       "  <tbody>\n",
       "    <tr>\n",
       "      <th>0</th>\n",
       "      <td>8</td>\n",
       "      <td>2022-10-11T15:27:59Z</td>\n",
       "      <td>2022-10-11T21:30:30Z</td>\n",
       "      <td>3228155174</td>\n",
       "      <td>completed</td>\n",
       "      <td>failure</td>\n",
       "      <td>21751.0</td>\n",
       "      <td>28698040</td>\n",
       "    </tr>\n",
       "    <tr>\n",
       "      <th>1</th>\n",
       "      <td>19</td>\n",
       "      <td>2022-09-27T19:49:11Z</td>\n",
       "      <td>2022-09-27T19:49:59Z</td>\n",
       "      <td>3138511295</td>\n",
       "      <td>completed</td>\n",
       "      <td>failure</td>\n",
       "      <td>48.0</td>\n",
       "      <td>28698040</td>\n",
       "    </tr>\n",
       "    <tr>\n",
       "      <th>2</th>\n",
       "      <td>0</td>\n",
       "      <td>2022-12-01T18:58:49Z</td>\n",
       "      <td>2022-12-01T18:59:25Z</td>\n",
       "      <td>3595655421</td>\n",
       "      <td>completed</td>\n",
       "      <td>failure</td>\n",
       "      <td>36.0</td>\n",
       "      <td>28698040</td>\n",
       "    </tr>\n",
       "    <tr>\n",
       "      <th>3</th>\n",
       "      <td>16</td>\n",
       "      <td>2022-11-16T19:04:40Z</td>\n",
       "      <td>2022-11-16T19:05:09Z</td>\n",
       "      <td>3482315892</td>\n",
       "      <td>completed</td>\n",
       "      <td>failure</td>\n",
       "      <td>29.0</td>\n",
       "      <td>28698040</td>\n",
       "    </tr>\n",
       "    <tr>\n",
       "      <th>4</th>\n",
       "      <td>6</td>\n",
       "      <td>2022-12-08T16:33:31Z</td>\n",
       "      <td>2022-12-08T16:33:57Z</td>\n",
       "      <td>3650200301</td>\n",
       "      <td>completed</td>\n",
       "      <td>failure</td>\n",
       "      <td>26.0</td>\n",
       "      <td>28698040</td>\n",
       "    </tr>\n",
       "  </tbody>\n",
       "</table>\n",
       "</div>"
      ],
      "text/plain": [
       "   Unnamed: 0            created_at            updated_at      run_id  \\\n",
       "0           8  2022-10-11T15:27:59Z  2022-10-11T21:30:30Z  3228155174   \n",
       "1          19  2022-09-27T19:49:11Z  2022-09-27T19:49:59Z  3138511295   \n",
       "2           0  2022-12-01T18:58:49Z  2022-12-01T18:59:25Z  3595655421   \n",
       "3          16  2022-11-16T19:04:40Z  2022-11-16T19:05:09Z  3482315892   \n",
       "4           6  2022-12-08T16:33:31Z  2022-12-08T16:33:57Z  3650200301   \n",
       "\n",
       "      status conclusion  run_duration   test_id  \n",
       "0  completed    failure       21751.0  28698040  \n",
       "1  completed    failure          48.0  28698040  \n",
       "2  completed    failure          36.0  28698040  \n",
       "3  completed    failure          29.0  28698040  \n",
       "4  completed    failure          26.0  28698040  "
      ]
     },
     "execution_count": 5,
     "metadata": {},
     "output_type": "execute_result"
    }
   ],
   "source": [
    "failing_train.head()"
   ]
  },
  {
   "cell_type": "code",
   "execution_count": 6,
   "id": "627fe83d-bc6f-43a7-bccd-a972a782bb0f",
   "metadata": {},
   "outputs": [],
   "source": [
    "ranges = np.arange(0, max(passing_train['run_duration'])+1, 10).tolist()\n",
    "ranges.append(np.inf)"
   ]
  },
  {
   "cell_type": "code",
   "execution_count": 7,
   "id": "857a87cc-9ddd-4246-b219-0651da0cf126",
   "metadata": {},
   "outputs": [],
   "source": [
    "# time bucket passing and failing run durations into buckets of 10 seconds"
   ]
  },
  {
   "cell_type": "code",
   "execution_count": 8,
   "id": "c202110b-e7b0-405a-8763-bcd94ed20905",
   "metadata": {},
   "outputs": [],
   "source": [
    "passing_train['run_duration_ranges'] = pd.cut(passing_train['run_duration'], bins=ranges)"
   ]
  },
  {
   "cell_type": "code",
   "execution_count": 9,
   "id": "d21ba177-54c3-4129-8fd5-6b2912f4e722",
   "metadata": {},
   "outputs": [],
   "source": [
    "failing_train['run_duration_ranges'] = pd.cut(failing_train['run_duration'], bins=ranges)"
   ]
  },
  {
   "cell_type": "code",
   "execution_count": 10,
   "id": "82be8abe-6f1d-4cc8-9f2a-3969848842b3",
   "metadata": {},
   "outputs": [],
   "source": [
    "# get frequency of how many tests lie in those time buckets"
   ]
  },
  {
   "cell_type": "code",
   "execution_count": 11,
   "id": "a8632ebe-e34b-41a5-9789-3e964d22d714",
   "metadata": {},
   "outputs": [],
   "source": [
    "p_vc = pd.DataFrame(passing_train['run_duration_ranges'].value_counts().sort_index())"
   ]
  },
  {
   "cell_type": "code",
   "execution_count": 12,
   "id": "8a0f9f33-cf4b-4e3b-a481-4544a007a808",
   "metadata": {},
   "outputs": [
    {
     "data": {
      "text/html": [
       "<div>\n",
       "<style scoped>\n",
       "    .dataframe tbody tr th:only-of-type {\n",
       "        vertical-align: middle;\n",
       "    }\n",
       "\n",
       "    .dataframe tbody tr th {\n",
       "        vertical-align: top;\n",
       "    }\n",
       "\n",
       "    .dataframe thead th {\n",
       "        text-align: right;\n",
       "    }\n",
       "</style>\n",
       "<table border=\"1\" class=\"dataframe\">\n",
       "  <thead>\n",
       "    <tr style=\"text-align: right;\">\n",
       "      <th></th>\n",
       "      <th>run_duration_ranges</th>\n",
       "    </tr>\n",
       "  </thead>\n",
       "  <tbody>\n",
       "    <tr>\n",
       "      <th>(0.0, 10.0]</th>\n",
       "      <td>0</td>\n",
       "    </tr>\n",
       "    <tr>\n",
       "      <th>(10.0, 20.0]</th>\n",
       "      <td>0</td>\n",
       "    </tr>\n",
       "    <tr>\n",
       "      <th>(20.0, 30.0]</th>\n",
       "      <td>35</td>\n",
       "    </tr>\n",
       "    <tr>\n",
       "      <th>(30.0, 40.0]</th>\n",
       "      <td>38</td>\n",
       "    </tr>\n",
       "    <tr>\n",
       "      <th>(40.0, 50.0]</th>\n",
       "      <td>12</td>\n",
       "    </tr>\n",
       "    <tr>\n",
       "      <th>(50.0, 60.0]</th>\n",
       "      <td>6</td>\n",
       "    </tr>\n",
       "    <tr>\n",
       "      <th>(60.0, 70.0]</th>\n",
       "      <td>5</td>\n",
       "    </tr>\n",
       "    <tr>\n",
       "      <th>(70.0, inf]</th>\n",
       "      <td>1</td>\n",
       "    </tr>\n",
       "  </tbody>\n",
       "</table>\n",
       "</div>"
      ],
      "text/plain": [
       "              run_duration_ranges\n",
       "(0.0, 10.0]                     0\n",
       "(10.0, 20.0]                    0\n",
       "(20.0, 30.0]                   35\n",
       "(30.0, 40.0]                   38\n",
       "(40.0, 50.0]                   12\n",
       "(50.0, 60.0]                    6\n",
       "(60.0, 70.0]                    5\n",
       "(70.0, inf]                     1"
      ]
     },
     "execution_count": 12,
     "metadata": {},
     "output_type": "execute_result"
    }
   ],
   "source": [
    "p_vc"
   ]
  },
  {
   "cell_type": "code",
   "execution_count": 13,
   "id": "a0f8026b-8106-4b7b-a8c3-444860ec2ccd",
   "metadata": {},
   "outputs": [
    {
     "data": {
      "image/png": "[encoded data removed]",
      "text/plain": [
       "<Figure size 432x288 with 1 Axes>"
      ]
     },
     "metadata": {
      "needs_background": "light"
     },
     "output_type": "display_data"
    }
   ],
   "source": [
    "plt.bar(p_vc.index.astype(str), p_vc['run_duration_ranges'].values)\n",
    "\n",
    "# set the x-axis label and title\n",
    "plt.xlabel('Run Duration Ranges')\n",
    "plt.title('Histogram of Run Duration Ranges')\n",
    "plt.xticks(rotation=90) \n",
    "\n",
    "# display the plot\n",
    "plt.show()"
   ]
  },
  {
   "cell_type": "code",
   "execution_count": 14,
   "id": "1fcf534b-4ad3-43e1-ae6c-d3ad10aa1f08",
   "metadata": {},
   "outputs": [],
   "source": [
    "f_vc = pd.DataFrame(failing_train['run_duration_ranges'].value_counts().sort_index())"
   ]
  },
  {
   "cell_type": "code",
   "execution_count": 15,
   "id": "94385efa-82a2-4975-a0d6-cdb86baa5b49",
   "metadata": {},
   "outputs": [
    {
     "data": {
      "image/png": "[encoded data removed]",
      "text/plain": [
       "<Figure size 432x288 with 1 Axes>"
      ]
     },
     "metadata": {
      "needs_background": "light"
     },
     "output_type": "display_data"
    }
   ],
   "source": [
    "plt.bar(f_vc.index.astype(str), f_vc['run_duration_ranges'].values)\n",
    "\n",
    "# set the x-axis label and title\n",
    "plt.xlabel('Run Duration Ranges')\n",
    "plt.title('Histogram of Run Duration Ranges')\n",
    "plt.xticks(rotation=90) \n",
    "\n",
    "# display the plot\n",
    "plt.show()"
   ]
  },
  {
   "cell_type": "code",
   "execution_count": 16,
   "id": "08b0866c-abd3-4c7e-b3dd-21cd40eef129",
   "metadata": {},
   "outputs": [],
   "source": [
    "# for start of each time bucket get total number of tests which pass or fail after that point\n",
    "# get the reverse cumulative sum for that"
   ]
  },
  {
   "cell_type": "code",
   "execution_count": 17,
   "id": "0489e215-eef2-494c-b36d-70355b63fafb",
   "metadata": {},
   "outputs": [],
   "source": [
    "p_vc['prefix_sum'] = p_vc['run_duration_ranges'][::-1].cumsum()[::-1]"
   ]
  },
  {
   "cell_type": "code",
   "execution_count": 18,
   "id": "243d9a66-e261-4301-aa60-37ea03ea5467",
   "metadata": {},
   "outputs": [],
   "source": [
    "f_vc['prefix_sum'] = f_vc['run_duration_ranges'][::-1].cumsum()[::-1]"
   ]
  },
  {
   "cell_type": "code",
   "execution_count": 19,
   "id": "0a243ebd-b115-4487-9b03-81bc1c75b3ec",
   "metadata": {},
   "outputs": [
    {
     "data": {
      "text/html": [
       "<div>\n",
       "<style scoped>\n",
       "    .dataframe tbody tr th:only-of-type {\n",
       "        vertical-align: middle;\n",
       "    }\n",
       "\n",
       "    .dataframe tbody tr th {\n",
       "        vertical-align: top;\n",
       "    }\n",
       "\n",
       "    .dataframe thead th {\n",
       "        text-align: right;\n",
       "    }\n",
       "</style>\n",
       "<table border=\"1\" class=\"dataframe\">\n",
       "  <thead>\n",
       "    <tr style=\"text-align: right;\">\n",
       "      <th></th>\n",
       "      <th>run_duration_ranges</th>\n",
       "      <th>prefix_sum</th>\n",
       "    </tr>\n",
       "  </thead>\n",
       "  <tbody>\n",
       "    <tr>\n",
       "      <th>(0.0, 10.0]</th>\n",
       "      <td>0</td>\n",
       "      <td>97</td>\n",
       "    </tr>\n",
       "    <tr>\n",
       "      <th>(10.0, 20.0]</th>\n",
       "      <td>0</td>\n",
       "      <td>97</td>\n",
       "    </tr>\n",
       "    <tr>\n",
       "      <th>(20.0, 30.0]</th>\n",
       "      <td>35</td>\n",
       "      <td>97</td>\n",
       "    </tr>\n",
       "    <tr>\n",
       "      <th>(30.0, 40.0]</th>\n",
       "      <td>38</td>\n",
       "      <td>62</td>\n",
       "    </tr>\n",
       "    <tr>\n",
       "      <th>(40.0, 50.0]</th>\n",
       "      <td>12</td>\n",
       "      <td>24</td>\n",
       "    </tr>\n",
       "  </tbody>\n",
       "</table>\n",
       "</div>"
      ],
      "text/plain": [
       "              run_duration_ranges  prefix_sum\n",
       "(0.0, 10.0]                     0          97\n",
       "(10.0, 20.0]                    0          97\n",
       "(20.0, 30.0]                   35          97\n",
       "(30.0, 40.0]                   38          62\n",
       "(40.0, 50.0]                   12          24"
      ]
     },
     "execution_count": 19,
     "metadata": {},
     "output_type": "execute_result"
    }
   ],
   "source": [
    "p_vc.head()"
   ]
  },
  {
   "cell_type": "code",
   "execution_count": 20,
   "id": "722cf001-5d8e-4ea1-9a5c-f1103e5a4240",
   "metadata": {},
   "outputs": [
    {
     "data": {
      "text/html": [
       "<div>\n",
       "<style scoped>\n",
       "    .dataframe tbody tr th:only-of-type {\n",
       "        vertical-align: middle;\n",
       "    }\n",
       "\n",
       "    .dataframe tbody tr th {\n",
       "        vertical-align: top;\n",
       "    }\n",
       "\n",
       "    .dataframe thead th {\n",
       "        text-align: right;\n",
       "    }\n",
       "</style>\n",
       "<table border=\"1\" class=\"dataframe\">\n",
       "  <thead>\n",
       "    <tr style=\"text-align: right;\">\n",
       "      <th></th>\n",
       "      <th>run_duration_ranges</th>\n",
       "      <th>prefix_sum</th>\n",
       "    </tr>\n",
       "  </thead>\n",
       "  <tbody>\n",
       "    <tr>\n",
       "      <th>(0.0, 10.0]</th>\n",
       "      <td>0</td>\n",
       "      <td>118</td>\n",
       "    </tr>\n",
       "    <tr>\n",
       "      <th>(10.0, 20.0]</th>\n",
       "      <td>0</td>\n",
       "      <td>118</td>\n",
       "    </tr>\n",
       "    <tr>\n",
       "      <th>(20.0, 30.0]</th>\n",
       "      <td>29</td>\n",
       "      <td>118</td>\n",
       "    </tr>\n",
       "    <tr>\n",
       "      <th>(30.0, 40.0]</th>\n",
       "      <td>23</td>\n",
       "      <td>89</td>\n",
       "    </tr>\n",
       "    <tr>\n",
       "      <th>(40.0, 50.0]</th>\n",
       "      <td>29</td>\n",
       "      <td>66</td>\n",
       "    </tr>\n",
       "  </tbody>\n",
       "</table>\n",
       "</div>"
      ],
      "text/plain": [
       "              run_duration_ranges  prefix_sum\n",
       "(0.0, 10.0]                     0         118\n",
       "(10.0, 20.0]                    0         118\n",
       "(20.0, 30.0]                   29         118\n",
       "(30.0, 40.0]                   23          89\n",
       "(40.0, 50.0]                   29          66"
      ]
     },
     "execution_count": 20,
     "metadata": {},
     "output_type": "execute_result"
    }
   ],
   "source": [
    "f_vc.head()"
   ]
  },
  {
   "cell_type": "code",
   "execution_count": 21,
   "id": "ad8518ab-867c-4354-b184-d51284cf4ab1",
   "metadata": {},
   "outputs": [
    {
     "data": {
      "text/html": [
       "<div>\n",
       "<style scoped>\n",
       "    .dataframe tbody tr th:only-of-type {\n",
       "        vertical-align: middle;\n",
       "    }\n",
       "\n",
       "    .dataframe tbody tr th {\n",
       "        vertical-align: top;\n",
       "    }\n",
       "\n",
       "    .dataframe thead th {\n",
       "        text-align: right;\n",
       "    }\n",
       "</style>\n",
       "<table border=\"1\" class=\"dataframe\">\n",
       "  <thead>\n",
       "    <tr style=\"text-align: right;\">\n",
       "      <th></th>\n",
       "      <th>run_duration_ranges</th>\n",
       "      <th>prefix_sum</th>\n",
       "      <th>prefix_sum_percentage</th>\n",
       "    </tr>\n",
       "  </thead>\n",
       "  <tbody>\n",
       "    <tr>\n",
       "      <th>(0.0, 10.0]</th>\n",
       "      <td>0</td>\n",
       "      <td>97</td>\n",
       "      <td>100.000000</td>\n",
       "    </tr>\n",
       "    <tr>\n",
       "      <th>(10.0, 20.0]</th>\n",
       "      <td>0</td>\n",
       "      <td>97</td>\n",
       "      <td>100.000000</td>\n",
       "    </tr>\n",
       "    <tr>\n",
       "      <th>(20.0, 30.0]</th>\n",
       "      <td>35</td>\n",
       "      <td>97</td>\n",
       "      <td>100.000000</td>\n",
       "    </tr>\n",
       "    <tr>\n",
       "      <th>(30.0, 40.0]</th>\n",
       "      <td>38</td>\n",
       "      <td>62</td>\n",
       "      <td>63.917526</td>\n",
       "    </tr>\n",
       "    <tr>\n",
       "      <th>(40.0, 50.0]</th>\n",
       "      <td>12</td>\n",
       "      <td>24</td>\n",
       "      <td>24.742268</td>\n",
       "    </tr>\n",
       "    <tr>\n",
       "      <th>(50.0, 60.0]</th>\n",
       "      <td>6</td>\n",
       "      <td>12</td>\n",
       "      <td>12.371134</td>\n",
       "    </tr>\n",
       "    <tr>\n",
       "      <th>(60.0, 70.0]</th>\n",
       "      <td>5</td>\n",
       "      <td>6</td>\n",
       "      <td>6.185567</td>\n",
       "    </tr>\n",
       "    <tr>\n",
       "      <th>(70.0, inf]</th>\n",
       "      <td>1</td>\n",
       "      <td>1</td>\n",
       "      <td>1.030928</td>\n",
       "    </tr>\n",
       "  </tbody>\n",
       "</table>\n",
       "</div>"
      ],
      "text/plain": [
       "              run_duration_ranges  prefix_sum  prefix_sum_percentage\n",
       "(0.0, 10.0]                     0          97             100.000000\n",
       "(10.0, 20.0]                    0          97             100.000000\n",
       "(20.0, 30.0]                   35          97             100.000000\n",
       "(30.0, 40.0]                   38          62              63.917526\n",
       "(40.0, 50.0]                   12          24              24.742268\n",
       "(50.0, 60.0]                    6          12              12.371134\n",
       "(60.0, 70.0]                    5           6               6.185567\n",
       "(70.0, inf]                     1           1               1.030928"
      ]
     },
     "execution_count": 21,
     "metadata": {},
     "output_type": "execute_result"
    }
   ],
   "source": [
    "max_duration = max(p_vc['prefix_sum'])\n",
    "p_vc['prefix_sum_percentage'] = p_vc['prefix_sum'] / max_duration * 100\n",
    "p_vc"
   ]
  },
  {
   "cell_type": "code",
   "execution_count": 22,
   "id": "8f33844e-f573-4d5a-9510-effe355a948a",
   "metadata": {},
   "outputs": [
    {
     "data": {
      "text/html": [
       "<div>\n",
       "<style scoped>\n",
       "    .dataframe tbody tr th:only-of-type {\n",
       "        vertical-align: middle;\n",
       "    }\n",
       "\n",
       "    .dataframe tbody tr th {\n",
       "        vertical-align: top;\n",
       "    }\n",
       "\n",
       "    .dataframe thead th {\n",
       "        text-align: right;\n",
       "    }\n",
       "</style>\n",
       "<table border=\"1\" class=\"dataframe\">\n",
       "  <thead>\n",
       "    <tr style=\"text-align: right;\">\n",
       "      <th></th>\n",
       "      <th>run_duration_ranges</th>\n",
       "      <th>prefix_sum</th>\n",
       "      <th>prefix_sum_percentage</th>\n",
       "    </tr>\n",
       "  </thead>\n",
       "  <tbody>\n",
       "    <tr>\n",
       "      <th>(0.0, 10.0]</th>\n",
       "      <td>0</td>\n",
       "      <td>118</td>\n",
       "      <td>100.000000</td>\n",
       "    </tr>\n",
       "    <tr>\n",
       "      <th>(10.0, 20.0]</th>\n",
       "      <td>0</td>\n",
       "      <td>118</td>\n",
       "      <td>100.000000</td>\n",
       "    </tr>\n",
       "    <tr>\n",
       "      <th>(20.0, 30.0]</th>\n",
       "      <td>29</td>\n",
       "      <td>118</td>\n",
       "      <td>100.000000</td>\n",
       "    </tr>\n",
       "    <tr>\n",
       "      <th>(30.0, 40.0]</th>\n",
       "      <td>23</td>\n",
       "      <td>89</td>\n",
       "      <td>75.423729</td>\n",
       "    </tr>\n",
       "    <tr>\n",
       "      <th>(40.0, 50.0]</th>\n",
       "      <td>29</td>\n",
       "      <td>66</td>\n",
       "      <td>55.932203</td>\n",
       "    </tr>\n",
       "    <tr>\n",
       "      <th>(50.0, 60.0]</th>\n",
       "      <td>20</td>\n",
       "      <td>37</td>\n",
       "      <td>31.355932</td>\n",
       "    </tr>\n",
       "    <tr>\n",
       "      <th>(60.0, 70.0]</th>\n",
       "      <td>13</td>\n",
       "      <td>17</td>\n",
       "      <td>14.406780</td>\n",
       "    </tr>\n",
       "    <tr>\n",
       "      <th>(70.0, inf]</th>\n",
       "      <td>4</td>\n",
       "      <td>4</td>\n",
       "      <td>3.389831</td>\n",
       "    </tr>\n",
       "  </tbody>\n",
       "</table>\n",
       "</div>"
      ],
      "text/plain": [
       "              run_duration_ranges  prefix_sum  prefix_sum_percentage\n",
       "(0.0, 10.0]                     0         118             100.000000\n",
       "(10.0, 20.0]                    0         118             100.000000\n",
       "(20.0, 30.0]                   29         118             100.000000\n",
       "(30.0, 40.0]                   23          89              75.423729\n",
       "(40.0, 50.0]                   29          66              55.932203\n",
       "(50.0, 60.0]                   20          37              31.355932\n",
       "(60.0, 70.0]                   13          17              14.406780\n",
       "(70.0, inf]                     4           4               3.389831"
      ]
     },
     "execution_count": 22,
     "metadata": {},
     "output_type": "execute_result"
    }
   ],
   "source": [
    "max_duration = max(f_vc['prefix_sum'])\n",
    "f_vc['prefix_sum_percentage'] = f_vc['prefix_sum'] / max_duration * 100\n",
    "f_vc"
   ]
  },
  {
   "cell_type": "code",
   "execution_count": 23,
   "id": "39c2bca8-a0b6-4d36-94af-c4726e0d9f81",
   "metadata": {},
   "outputs": [],
   "source": [
    "# join dataframes a and b on their index\n",
    "joined = f_vc.join(p_vc, how='outer', lsuffix='_f', rsuffix='_p')"
   ]
  },
  {
   "cell_type": "code",
   "execution_count": 24,
   "id": "6ee7fc85-1ed1-4d8b-897a-4dae310efb8e",
   "metadata": {},
   "outputs": [],
   "source": [
    "total = joined[['prefix_sum_f', 'prefix_sum_p']].sum(axis=1)\n",
    "joined['f_pct'] = joined['prefix_sum_f'] / total * 100\n",
    "joined['p_pct'] = joined['prefix_sum_p'] / total * 100"
   ]
  },
  {
   "cell_type": "code",
   "execution_count": 25,
   "id": "bbd4e618-5b9a-43a0-8e7d-effded7bc154",
   "metadata": {},
   "outputs": [
    {
     "data": {
      "text/plain": [
       "(0.0, 10.0]     54.883721\n",
       "(10.0, 20.0]    54.883721\n",
       "(20.0, 30.0]    54.883721\n",
       "(30.0, 40.0]    58.940397\n",
       "(40.0, 50.0]    73.333333\n",
       "(50.0, 60.0]    75.510204\n",
       "(60.0, 70.0]    73.913043\n",
       "(70.0, inf]     80.000000\n",
       "Name: f_pct, dtype: float64"
      ]
     },
     "execution_count": 25,
     "metadata": {},
     "output_type": "execute_result"
    }
   ],
   "source": [
    "joined['f_pct']"
   ]
  },
  {
   "cell_type": "code",
   "execution_count": 26,
   "id": "eda8fb47-edb0-4f88-9c4d-7ed35cf70c87",
   "metadata": {},
   "outputs": [
    {
     "data": {
      "text/plain": [
       "(0.0, 10.0]     45.116279\n",
       "(10.0, 20.0]    45.116279\n",
       "(20.0, 30.0]    45.116279\n",
       "(30.0, 40.0]    41.059603\n",
       "(40.0, 50.0]    26.666667\n",
       "(50.0, 60.0]    24.489796\n",
       "(60.0, 70.0]    26.086957\n",
       "(70.0, inf]     20.000000\n",
       "Name: p_pct, dtype: float64"
      ]
     },
     "execution_count": 26,
     "metadata": {},
     "output_type": "execute_result"
    }
   ],
   "source": [
    "joined['p_pct']"
   ]
  },
  {
   "cell_type": "code",
   "execution_count": 27,
   "id": "d7c61c3d-76eb-4765-9223-b9cebb9b53d6",
   "metadata": {},
   "outputs": [
    {
     "data": {
      "image/png": "[encoded data removed]",
      "text/plain": [
       "<Figure size 432x288 with 1 Axes>"
      ]
     },
     "metadata": {
      "needs_background": "light"
     },
     "output_type": "display_data"
    }
   ],
   "source": [
    "# plot the two series on the same graph\n",
    "plt.plot(joined.index.astype(str), joined['f_pct'], color='red', label='percent of failure')\n",
    "plt.plot(joined.index.astype(str), joined['p_pct'], color='green', label='percent of passing')\n",
    "\n",
    "# set x and y axis labels\n",
    "plt.xlabel('Run duration buckets')\n",
    "plt.ylabel('Percentage of passing or failing')\n",
    "plt.xticks(rotation=90) \n",
    "\n",
    "# set title and legend\n",
    "plt.title('Percentage contribution of failing and passing to their sum')\n",
    "plt.legend()\n",
    "\n",
    "# show the plot\n",
    "plt.show()"
   ]
  },
  {
   "cell_type": "markdown",
   "id": "f947cbbc-f53d-48aa-8255-d6517a62fe49",
   "metadata": {},
   "source": [
    "### Test 2"
   ]
  },
  {
   "cell_type": "code",
   "execution_count": 28,
   "id": "94eddad4-39df-46ac-bcc6-de832542f84e",
   "metadata": {},
   "outputs": [],
   "source": [
    "# test_id = \"29176617\" # Build and push image\n",
    "test_id = \"37149896\" # File linting"
   ]
  },
  {
   "cell_type": "code",
   "execution_count": 29,
   "id": "1f2b86db-2968-4105-a2ab-7084bb555228",
   "metadata": {},
   "outputs": [],
   "source": [
    "passing_train = pd.read_csv(\"../data/processed/{}passing_train.csv\".format(test_id))\n",
    "failing_train = pd.read_csv(\"../data/processed/{}failing_train.csv\".format(test_id))"
   ]
  },
  {
   "cell_type": "code",
   "execution_count": 30,
   "id": "7f281ee2-c6f7-4b7d-8072-060473929be2",
   "metadata": {},
   "outputs": [],
   "source": [
    "ranges = np.arange(0, max(passing_train['run_duration'])+1, 10).tolist()\n",
    "ranges.append(np.inf)"
   ]
  },
  {
   "cell_type": "code",
   "execution_count": 31,
   "id": "e0b4aec3-3b89-4967-a4b5-b70286bb6a04",
   "metadata": {},
   "outputs": [],
   "source": [
    "passing_train['run_duration_ranges'] = pd.cut(passing_train['run_duration'], bins=ranges)\n",
    "failing_train['run_duration_ranges'] = pd.cut(failing_train['run_duration'], bins=ranges)\n",
    "p_vc = pd.DataFrame(passing_train['run_duration_ranges'].value_counts().sort_index())\n",
    "f_vc = pd.DataFrame(failing_train['run_duration_ranges'].value_counts().sort_index())"
   ]
  },
  {
   "cell_type": "code",
   "execution_count": 32,
   "id": "002a066c-d0f5-41e6-b41c-400e828a615f",
   "metadata": {},
   "outputs": [
    {
     "data": {
      "image/png": "[encoded data removed]",
      "text/plain": [
       "<Figure size 432x288 with 1 Axes>"
      ]
     },
     "metadata": {
      "needs_background": "light"
     },
     "output_type": "display_data"
    }
   ],
   "source": [
    "plt.bar(p_vc.index.astype(str), p_vc['run_duration_ranges'].values)\n",
    "\n",
    "# set the x-axis label and title\n",
    "plt.xlabel('Run Duration Ranges')\n",
    "plt.title('Histogram of Run Duration Ranges')\n",
    "plt.xticks(rotation=90) \n",
    "\n",
    "# display the plot\n",
    "plt.show()"
   ]
  },
  {
   "cell_type": "code",
   "execution_count": 33,
   "id": "e5edee16-bc54-446a-b070-a2539948b50e",
   "metadata": {},
   "outputs": [
    {
     "data": {
      "image/png": "[encoded data removed]",
      "text/plain": [
       "<Figure size 432x288 with 1 Axes>"
      ]
     },
     "metadata": {
      "needs_background": "light"
     },
     "output_type": "display_data"
    }
   ],
   "source": [
    "plt.bar(f_vc.index.astype(str), f_vc['run_duration_ranges'].values)\n",
    "\n",
    "# set the x-axis label and title\n",
    "plt.xlabel('Run Duration Ranges')\n",
    "plt.title('Histogram of Run Duration Ranges')\n",
    "plt.xticks(rotation=90) \n",
    "\n",
    "# display the plot\n",
    "plt.show()"
   ]
  },
  {
   "cell_type": "code",
   "execution_count": 34,
   "id": "5d0e8b2e-9a18-4b4c-a77d-59c11eddcdc2",
   "metadata": {},
   "outputs": [],
   "source": [
    "p_vc['prefix_sum'] = p_vc['run_duration_ranges'][::-1].cumsum()[::-1]\n",
    "f_vc['prefix_sum'] = f_vc['run_duration_ranges'][::-1].cumsum()[::-1]"
   ]
  },
  {
   "cell_type": "code",
   "execution_count": 35,
   "id": "5c013949-13c2-4666-9658-b195cfa731ea",
   "metadata": {},
   "outputs": [
    {
     "data": {
      "text/html": [
       "<div>\n",
       "<style scoped>\n",
       "    .dataframe tbody tr th:only-of-type {\n",
       "        vertical-align: middle;\n",
       "    }\n",
       "\n",
       "    .dataframe tbody tr th {\n",
       "        vertical-align: top;\n",
       "    }\n",
       "\n",
       "    .dataframe thead th {\n",
       "        text-align: right;\n",
       "    }\n",
       "</style>\n",
       "<table border=\"1\" class=\"dataframe\">\n",
       "  <thead>\n",
       "    <tr style=\"text-align: right;\">\n",
       "      <th></th>\n",
       "      <th>run_duration_ranges</th>\n",
       "      <th>prefix_sum</th>\n",
       "      <th>prefix_sum_percentage</th>\n",
       "    </tr>\n",
       "  </thead>\n",
       "  <tbody>\n",
       "    <tr>\n",
       "      <th>(0.0, 10.0]</th>\n",
       "      <td>0</td>\n",
       "      <td>109</td>\n",
       "      <td>100.000000</td>\n",
       "    </tr>\n",
       "    <tr>\n",
       "      <th>(10.0, 20.0]</th>\n",
       "      <td>84</td>\n",
       "      <td>109</td>\n",
       "      <td>100.000000</td>\n",
       "    </tr>\n",
       "    <tr>\n",
       "      <th>(20.0, 30.0]</th>\n",
       "      <td>24</td>\n",
       "      <td>25</td>\n",
       "      <td>22.935780</td>\n",
       "    </tr>\n",
       "    <tr>\n",
       "      <th>(30.0, 40.0]</th>\n",
       "      <td>0</td>\n",
       "      <td>1</td>\n",
       "      <td>0.917431</td>\n",
       "    </tr>\n",
       "    <tr>\n",
       "      <th>(40.0, inf]</th>\n",
       "      <td>1</td>\n",
       "      <td>1</td>\n",
       "      <td>0.917431</td>\n",
       "    </tr>\n",
       "  </tbody>\n",
       "</table>\n",
       "</div>"
      ],
      "text/plain": [
       "              run_duration_ranges  prefix_sum  prefix_sum_percentage\n",
       "(0.0, 10.0]                     0         109             100.000000\n",
       "(10.0, 20.0]                   84         109             100.000000\n",
       "(20.0, 30.0]                   24          25              22.935780\n",
       "(30.0, 40.0]                    0           1               0.917431\n",
       "(40.0, inf]                     1           1               0.917431"
      ]
     },
     "execution_count": 35,
     "metadata": {},
     "output_type": "execute_result"
    }
   ],
   "source": [
    "max_duration = max(p_vc['prefix_sum'])\n",
    "p_vc['prefix_sum_percentage'] = p_vc['prefix_sum'] / max_duration * 100\n",
    "p_vc"
   ]
  },
  {
   "cell_type": "code",
   "execution_count": 36,
   "id": "cef23e5d-fc91-4a5a-bde5-ee4c8408bece",
   "metadata": {},
   "outputs": [
    {
     "data": {
      "text/html": [
       "<div>\n",
       "<style scoped>\n",
       "    .dataframe tbody tr th:only-of-type {\n",
       "        vertical-align: middle;\n",
       "    }\n",
       "\n",
       "    .dataframe tbody tr th {\n",
       "        vertical-align: top;\n",
       "    }\n",
       "\n",
       "    .dataframe thead th {\n",
       "        text-align: right;\n",
       "    }\n",
       "</style>\n",
       "<table border=\"1\" class=\"dataframe\">\n",
       "  <thead>\n",
       "    <tr style=\"text-align: right;\">\n",
       "      <th></th>\n",
       "      <th>run_duration_ranges</th>\n",
       "      <th>prefix_sum</th>\n",
       "      <th>prefix_sum_percentage</th>\n",
       "    </tr>\n",
       "  </thead>\n",
       "  <tbody>\n",
       "    <tr>\n",
       "      <th>(0.0, 10.0]</th>\n",
       "      <td>0</td>\n",
       "      <td>10</td>\n",
       "      <td>100.0</td>\n",
       "    </tr>\n",
       "    <tr>\n",
       "      <th>(10.0, 20.0]</th>\n",
       "      <td>5</td>\n",
       "      <td>10</td>\n",
       "      <td>100.0</td>\n",
       "    </tr>\n",
       "    <tr>\n",
       "      <th>(20.0, 30.0]</th>\n",
       "      <td>4</td>\n",
       "      <td>5</td>\n",
       "      <td>50.0</td>\n",
       "    </tr>\n",
       "    <tr>\n",
       "      <th>(30.0, 40.0]</th>\n",
       "      <td>1</td>\n",
       "      <td>1</td>\n",
       "      <td>10.0</td>\n",
       "    </tr>\n",
       "    <tr>\n",
       "      <th>(40.0, inf]</th>\n",
       "      <td>0</td>\n",
       "      <td>0</td>\n",
       "      <td>0.0</td>\n",
       "    </tr>\n",
       "  </tbody>\n",
       "</table>\n",
       "</div>"
      ],
      "text/plain": [
       "              run_duration_ranges  prefix_sum  prefix_sum_percentage\n",
       "(0.0, 10.0]                     0          10                  100.0\n",
       "(10.0, 20.0]                    5          10                  100.0\n",
       "(20.0, 30.0]                    4           5                   50.0\n",
       "(30.0, 40.0]                    1           1                   10.0\n",
       "(40.0, inf]                     0           0                    0.0"
      ]
     },
     "execution_count": 36,
     "metadata": {},
     "output_type": "execute_result"
    }
   ],
   "source": [
    "max_duration = max(f_vc['prefix_sum'])\n",
    "f_vc['prefix_sum_percentage'] = f_vc['prefix_sum'] / max_duration * 100\n",
    "f_vc"
   ]
  },
  {
   "cell_type": "code",
   "execution_count": 37,
   "id": "41697171-5f0b-4a65-9fb2-1e3cce34198a",
   "metadata": {},
   "outputs": [],
   "source": [
    "# join dataframes a and b on their index\n",
    "joined = f_vc.join(p_vc, how='outer', lsuffix='_f', rsuffix='_p')\n",
    "\n",
    "total = joined[['prefix_sum_f', 'prefix_sum_p']].sum(axis=1)\n",
    "joined['f_pct'] = joined['prefix_sum_f'] / total * 100\n",
    "joined['p_pct'] = joined['prefix_sum_p'] / total * 100"
   ]
  },
  {
   "cell_type": "code",
   "execution_count": 38,
   "id": "5405a153-c355-4cac-831b-0f4b62275fb4",
   "metadata": {},
   "outputs": [
    {
     "data": {
      "image/png": "[encoded data removed]",
      "text/plain": [
       "<Figure size 432x288 with 1 Axes>"
      ]
     },
     "metadata": {
      "needs_background": "light"
     },
     "output_type": "display_data"
    }
   ],
   "source": [
    "# plot the two series on the same graph\n",
    "plt.plot(joined.index.astype(str), joined['f_pct'], color='red', label='percent of failure')\n",
    "plt.plot(joined.index.astype(str), joined['p_pct'], color='green', label='percent of passing')\n",
    "\n",
    "# set x and y axis labels\n",
    "plt.xlabel('Run duration buckets')\n",
    "plt.ylabel('Percentage of passing or failing')\n",
    "plt.xticks(rotation=90) \n",
    "\n",
    "# set title and legend\n",
    "plt.title('Percentage contribution of failing and passing to their sum')\n",
    "plt.legend()\n",
    "\n",
    "# show the plot\n",
    "plt.show()"
   ]
  },
  {
   "cell_type": "markdown",
   "id": "e8d9238c-61ee-4c74-91f7-e59beb6a99de",
   "metadata": {},
   "source": [
    "### Test 3"
   ]
  },
  {
   "cell_type": "code",
   "execution_count": 39,
   "id": "312197ac-f8e1-4809-9150-b2d73db871a7",
   "metadata": {},
   "outputs": [],
   "source": [
    "test_id = \"37149895\" # Spell Check"
   ]
  },
  {
   "cell_type": "code",
   "execution_count": 40,
   "id": "14c66d99-1e9d-4217-b972-3f62730e8d1d",
   "metadata": {},
   "outputs": [],
   "source": [
    "passing_train = pd.read_csv(\"../data/processed/{}passing_train.csv\".format(test_id))\n",
    "failing_train = pd.read_csv(\"../data/processed/{}failing_train.csv\".format(test_id))"
   ]
  },
  {
   "cell_type": "code",
   "execution_count": 41,
   "id": "aa70f554-47ff-477e-af99-36c674f3f46f",
   "metadata": {},
   "outputs": [],
   "source": [
    "ranges = np.arange(0, max(passing_train['run_duration'])+1, 10).tolist()\n",
    "ranges.append(np.inf)\n",
    "passing_train['run_duration_ranges'] = pd.cut(passing_train['run_duration'], bins=ranges)\n",
    "failing_train['run_duration_ranges'] = pd.cut(failing_train['run_duration'], bins=ranges)\n",
    "p_vc = pd.DataFrame(passing_train['run_duration_ranges'].value_counts().sort_index())\n",
    "f_vc = pd.DataFrame(failing_train['run_duration_ranges'].value_counts().sort_index())"
   ]
  },
  {
   "cell_type": "code",
   "execution_count": 42,
   "id": "5fe127a2-b58a-4bf1-a42a-f7592c499f52",
   "metadata": {},
   "outputs": [
    {
     "data": {
      "image/png": "[encoded data removed]",
      "text/plain": [
       "<Figure size 432x288 with 1 Axes>"
      ]
     },
     "metadata": {
      "needs_background": "light"
     },
     "output_type": "display_data"
    }
   ],
   "source": [
    "plt.bar(p_vc.index.astype(str), p_vc['run_duration_ranges'].values)\n",
    "\n",
    "# set the x-axis label and title\n",
    "plt.xlabel('Run Duration Ranges')\n",
    "plt.title('Histogram of Run Duration Ranges')\n",
    "plt.xticks(rotation=90) \n",
    "\n",
    "# display the plot\n",
    "plt.show()"
   ]
  },
  {
   "cell_type": "code",
   "execution_count": 43,
   "id": "617f09b1-7af2-402d-8cfb-359c79afbeb7",
   "metadata": {},
   "outputs": [
    {
     "data": {
      "image/png": "[encoded data removed]",
      "text/plain": [
       "<Figure size 432x288 with 1 Axes>"
      ]
     },
     "metadata": {
      "needs_background": "light"
     },
     "output_type": "display_data"
    }
   ],
   "source": [
    "plt.bar(f_vc.index.astype(str), f_vc['run_duration_ranges'].values)\n",
    "\n",
    "# set the x-axis label and title\n",
    "plt.xlabel('Run Duration Ranges')\n",
    "plt.title('Histogram of Run Duration Ranges')\n",
    "plt.xticks(rotation=90) \n",
    "\n",
    "# display the plot\n",
    "plt.show()"
   ]
  },
  {
   "cell_type": "code",
   "execution_count": 44,
   "id": "f46853a5-8e8a-4b31-860b-75841b250b89",
   "metadata": {},
   "outputs": [],
   "source": [
    "p_vc['prefix_sum'] = p_vc['run_duration_ranges'][::-1].cumsum()[::-1]\n",
    "f_vc['prefix_sum'] = f_vc['run_duration_ranges'][::-1].cumsum()[::-1]"
   ]
  },
  {
   "cell_type": "code",
   "execution_count": 45,
   "id": "26f71648-5ff0-4249-8c57-cd9c02983bf4",
   "metadata": {},
   "outputs": [
    {
     "data": {
      "text/html": [
       "<div>\n",
       "<style scoped>\n",
       "    .dataframe tbody tr th:only-of-type {\n",
       "        vertical-align: middle;\n",
       "    }\n",
       "\n",
       "    .dataframe tbody tr th {\n",
       "        vertical-align: top;\n",
       "    }\n",
       "\n",
       "    .dataframe thead th {\n",
       "        text-align: right;\n",
       "    }\n",
       "</style>\n",
       "<table border=\"1\" class=\"dataframe\">\n",
       "  <thead>\n",
       "    <tr style=\"text-align: right;\">\n",
       "      <th></th>\n",
       "      <th>run_duration_ranges</th>\n",
       "      <th>prefix_sum</th>\n",
       "      <th>prefix_sum_percentage</th>\n",
       "    </tr>\n",
       "  </thead>\n",
       "  <tbody>\n",
       "    <tr>\n",
       "      <th>(0.0, 10.0]</th>\n",
       "      <td>0</td>\n",
       "      <td>95</td>\n",
       "      <td>100.000000</td>\n",
       "    </tr>\n",
       "    <tr>\n",
       "      <th>(10.0, 20.0]</th>\n",
       "      <td>15</td>\n",
       "      <td>95</td>\n",
       "      <td>100.000000</td>\n",
       "    </tr>\n",
       "    <tr>\n",
       "      <th>(20.0, 30.0]</th>\n",
       "      <td>73</td>\n",
       "      <td>80</td>\n",
       "      <td>84.210526</td>\n",
       "    </tr>\n",
       "    <tr>\n",
       "      <th>(30.0, inf]</th>\n",
       "      <td>7</td>\n",
       "      <td>7</td>\n",
       "      <td>7.368421</td>\n",
       "    </tr>\n",
       "  </tbody>\n",
       "</table>\n",
       "</div>"
      ],
      "text/plain": [
       "              run_duration_ranges  prefix_sum  prefix_sum_percentage\n",
       "(0.0, 10.0]                     0          95             100.000000\n",
       "(10.0, 20.0]                   15          95             100.000000\n",
       "(20.0, 30.0]                   73          80              84.210526\n",
       "(30.0, inf]                     7           7               7.368421"
      ]
     },
     "execution_count": 45,
     "metadata": {},
     "output_type": "execute_result"
    }
   ],
   "source": [
    "max_duration = max(p_vc['prefix_sum'])\n",
    "p_vc['prefix_sum_percentage'] = p_vc['prefix_sum'] / max_duration * 100\n",
    "p_vc"
   ]
  },
  {
   "cell_type": "code",
   "execution_count": 46,
   "id": "fa3616bc-7a58-4cf5-9abe-35f338be1a46",
   "metadata": {},
   "outputs": [
    {
     "data": {
      "text/html": [
       "<div>\n",
       "<style scoped>\n",
       "    .dataframe tbody tr th:only-of-type {\n",
       "        vertical-align: middle;\n",
       "    }\n",
       "\n",
       "    .dataframe tbody tr th {\n",
       "        vertical-align: top;\n",
       "    }\n",
       "\n",
       "    .dataframe thead th {\n",
       "        text-align: right;\n",
       "    }\n",
       "</style>\n",
       "<table border=\"1\" class=\"dataframe\">\n",
       "  <thead>\n",
       "    <tr style=\"text-align: right;\">\n",
       "      <th></th>\n",
       "      <th>run_duration_ranges</th>\n",
       "      <th>prefix_sum</th>\n",
       "      <th>prefix_sum_percentage</th>\n",
       "    </tr>\n",
       "  </thead>\n",
       "  <tbody>\n",
       "    <tr>\n",
       "      <th>(0.0, 10.0]</th>\n",
       "      <td>0</td>\n",
       "      <td>24</td>\n",
       "      <td>100.000000</td>\n",
       "    </tr>\n",
       "    <tr>\n",
       "      <th>(10.0, 20.0]</th>\n",
       "      <td>8</td>\n",
       "      <td>24</td>\n",
       "      <td>100.000000</td>\n",
       "    </tr>\n",
       "    <tr>\n",
       "      <th>(20.0, 30.0]</th>\n",
       "      <td>14</td>\n",
       "      <td>16</td>\n",
       "      <td>66.666667</td>\n",
       "    </tr>\n",
       "    <tr>\n",
       "      <th>(30.0, inf]</th>\n",
       "      <td>2</td>\n",
       "      <td>2</td>\n",
       "      <td>8.333333</td>\n",
       "    </tr>\n",
       "  </tbody>\n",
       "</table>\n",
       "</div>"
      ],
      "text/plain": [
       "              run_duration_ranges  prefix_sum  prefix_sum_percentage\n",
       "(0.0, 10.0]                     0          24             100.000000\n",
       "(10.0, 20.0]                    8          24             100.000000\n",
       "(20.0, 30.0]                   14          16              66.666667\n",
       "(30.0, inf]                     2           2               8.333333"
      ]
     },
     "execution_count": 46,
     "metadata": {},
     "output_type": "execute_result"
    }
   ],
   "source": [
    "max_duration = max(f_vc['prefix_sum'])\n",
    "f_vc['prefix_sum_percentage'] = f_vc['prefix_sum'] / max_duration * 100\n",
    "f_vc"
   ]
  },
  {
   "cell_type": "code",
   "execution_count": 47,
   "id": "8ef243fe-4fc7-4d1e-a9a2-a60cad698339",
   "metadata": {},
   "outputs": [],
   "source": [
    "# join dataframes a and b on their index\n",
    "joined = f_vc.join(p_vc, how='outer', lsuffix='_f', rsuffix='_p')\n",
    "\n",
    "total = joined[['prefix_sum_f', 'prefix_sum_p']].sum(axis=1)\n",
    "joined['f_pct'] = joined['prefix_sum_f'] / total * 100\n",
    "joined['p_pct'] = joined['prefix_sum_p'] / total * 100"
   ]
  },
  {
   "cell_type": "code",
   "execution_count": 48,
   "id": "6d9b5da3-21d6-43c0-a237-67e74fb582cd",
   "metadata": {},
   "outputs": [
    {
     "data": {
      "image/png": "[encoded data removed]",
      "text/plain": [
       "<Figure size 432x288 with 1 Axes>"
      ]
     },
     "metadata": {
      "needs_background": "light"
     },
     "output_type": "display_data"
    }
   ],
   "source": [
    "# plot the two series on the same graph\n",
    "plt.plot(joined.index.astype(str), joined['f_pct'], color='red', label='percent of failure')\n",
    "plt.plot(joined.index.astype(str), joined['p_pct'], color='green', label='percent of passing')\n",
    "\n",
    "# set x and y axis labels\n",
    "plt.xlabel('Run duration buckets')\n",
    "plt.ylabel('Percentage of passing or failing')\n",
    "plt.xticks(rotation=90) \n",
    "\n",
    "# set title and legend\n",
    "plt.title('Percentage contribution of failing and passing to their sum')\n",
    "plt.legend()\n",
    "\n",
    "# show the plot\n",
    "plt.show()"
   ]
  },
  {
   "cell_type": "markdown",
   "id": "2283c2da-308e-4925-b367-9f9d561dbcc8",
   "metadata": {},
   "source": [
    "In the above graph we see that most of the tests are passing. The above graph is largely impacted by the number of passing and failing tests amongst all tests ie it is impacted by the number of passes and failures.\n",
    "\n",
    "If we want to ignore the aspect of the number of tests passing and failing and only focus on the trend within the failing tests and the trens within the passing tests, we can get percent of percentages. Lets see how that graph looks."
   ]
  },
  {
   "cell_type": "code",
   "execution_count": 49,
   "id": "66e49103-427a-4c2b-9222-df285f90eab6",
   "metadata": {},
   "outputs": [],
   "source": [
    "# join dataframes a and b on their index\n",
    "joined = f_vc.join(p_vc, how='outer', lsuffix='_f', rsuffix='_p')\n",
    "\n",
    "total = joined[['prefix_sum_percentage_f', 'prefix_sum_percentage_p']].sum(axis=1)\n",
    "joined['f_pct'] = joined['prefix_sum_percentage_f'] / total * 100\n",
    "joined['p_pct'] = joined['prefix_sum_percentage_p'] / total * 100"
   ]
  },
  {
   "cell_type": "code",
   "execution_count": 50,
   "id": "ea2e25a5-86ef-414e-828f-6cee585754df",
   "metadata": {},
   "outputs": [
    {
     "data": {
      "image/png": "[encoded data removed]",
      "text/plain": [
       "<Figure size 432x288 with 1 Axes>"
      ]
     },
     "metadata": {
      "needs_background": "light"
     },
     "output_type": "display_data"
    }
   ],
   "source": [
    "# plot the two series on the same graph\n",
    "plt.plot(joined.index.astype(str), joined['f_pct'], color='red', label='percent of failure')\n",
    "plt.plot(joined.index.astype(str), joined['p_pct'], color='green', label='percent of passing')\n",
    "\n",
    "# set x and y axis labels\n",
    "plt.xlabel('Run duration buckets')\n",
    "plt.ylabel('Percentage of passing or failing')\n",
    "plt.xticks(rotation=90) \n",
    "\n",
    "# set title and legend\n",
    "plt.title('Percentage contribution of failing and passing to their sum')\n",
    "plt.legend()\n",
    "\n",
    "# show the plot\n",
    "plt.show()"
   ]
  },
  {
   "cell_type": "markdown",
   "id": "2716cdab-411c-4634-8581-97b12794f07d",
   "metadata": {},
   "source": [
    "This above plot indicates that at a time duration 25, a test is more likely to fail than pass."
   ]
  },
  {
   "cell_type": "markdown",
   "id": "36efb68b-889d-4e59-b3a8-02d2f3cc6638",
   "metadata": {},
   "source": [
    "### Test 4: Lets do this for a much larger test dataset"
   ]
  },
  {
   "cell_type": "code",
   "execution_count": 51,
   "id": "2c67b65f-88df-4c82-b0aa-71cc37524f5e",
   "metadata": {},
   "outputs": [],
   "source": [
    "# From the repo https://github.com/github/codeql\n",
    "test_id = \"39411153\" #\"Compile all queries using the latest stable CodeQL CLI\""
   ]
  },
  {
   "cell_type": "code",
   "execution_count": 52,
   "id": "d30e1017-9d4f-4073-b653-7186501c8a1b",
   "metadata": {},
   "outputs": [],
   "source": [
    "passing_train = pd.read_csv(\"../data/processed/{}passing_train.csv\".format(test_id))\n",
    "failing_train = pd.read_csv(\"../data/processed/{}failing_train.csv\".format(test_id))"
   ]
  },
  {
   "cell_type": "code",
   "execution_count": 53,
   "id": "98c441ca-5da2-4ac6-b6bd-2a549c905631",
   "metadata": {},
   "outputs": [],
   "source": [
    "# bucketing into 30 second intervals\n",
    "\n",
    "ranges = np.arange(0, max(passing_train['run_duration'])+1, 30).tolist()\n",
    "ranges.append(np.inf)\n",
    "passing_train['run_duration_ranges'] = pd.cut(passing_train['run_duration'], bins=ranges)\n",
    "failing_train['run_duration_ranges'] = pd.cut(failing_train['run_duration'], bins=ranges)\n",
    "p_vc = pd.DataFrame(passing_train['run_duration_ranges'].value_counts().sort_index())\n",
    "f_vc = pd.DataFrame(failing_train['run_duration_ranges'].value_counts().sort_index())"
   ]
  },
  {
   "cell_type": "markdown",
   "id": "031f565b-4531-4e3a-8bee-31cb7567f6c6",
   "metadata": {},
   "source": [
    "---------------------"
   ]
  },
  {
   "cell_type": "markdown",
   "id": "435906d3-62a3-4092-bf11-a63900681298",
   "metadata": {},
   "source": [
    "### IQR method to remove outliers"
   ]
  },
  {
   "cell_type": "code",
   "execution_count": 54,
   "id": "473eaad4-7913-430b-b714-06558f922b39",
   "metadata": {},
   "outputs": [],
   "source": [
    "## Mostly thinking of removing this part, just kept it for now if we need to test out the methods after removing outliers"
   ]
  },
  {
   "cell_type": "code",
   "execution_count": 55,
   "id": "88725452-d8dd-4850-8418-194dcb3de139",
   "metadata": {},
   "outputs": [],
   "source": [
    "# q1 = passing_train['run_duration'].describe()['25%']\n",
    "# q3 = passing_train['run_duration'].describe()['75%']\n",
    "# iqr = q3 - q1\n",
    "# outlier_threshold = q3 + 6.0 * iqr"
   ]
  },
  {
   "cell_type": "code",
   "execution_count": 56,
   "id": "c706ef0c-370c-4a98-88de-92e806ef49a3",
   "metadata": {},
   "outputs": [],
   "source": [
    "# ranges = np.arange(0, int(outlier_threshold)+1, 30).tolist()\n",
    "# ranges.append(np.inf)\n",
    "# passing_train['run_duration_ranges'] = pd.cut(passing_train['run_duration'], bins=ranges)\n",
    "# failing_train['run_duration_ranges'] = pd.cut(failing_train['run_duration'], bins=ranges)\n",
    "# p_vc = pd.DataFrame(passing_train['run_duration_ranges'].value_counts().sort_index())\n",
    "# f_vc = pd.DataFrame(failing_train['run_duration_ranges'].value_counts().sort_index())"
   ]
  },
  {
   "cell_type": "markdown",
   "id": "a57c1062-92e3-4711-bd5e-4ff68d906ce5",
   "metadata": {},
   "source": [
    "------------------"
   ]
  },
  {
   "cell_type": "code",
   "execution_count": 57,
   "id": "41d58961-2322-4fc1-92cb-36a0e0d8ba4b",
   "metadata": {},
   "outputs": [],
   "source": [
    "p_vc['prefix_sum'] = p_vc['run_duration_ranges'][::-1].cumsum()[::-1]\n",
    "f_vc['prefix_sum'] = f_vc['run_duration_ranges'][::-1].cumsum()[::-1]"
   ]
  },
  {
   "cell_type": "code",
   "execution_count": 58,
   "id": "b9fea6ac-1c82-4e9c-9c87-13594e8bc858",
   "metadata": {},
   "outputs": [
    {
     "data": {
      "text/html": [
       "<div>\n",
       "<style scoped>\n",
       "    .dataframe tbody tr th:only-of-type {\n",
       "        vertical-align: middle;\n",
       "    }\n",
       "\n",
       "    .dataframe tbody tr th {\n",
       "        vertical-align: top;\n",
       "    }\n",
       "\n",
       "    .dataframe thead th {\n",
       "        text-align: right;\n",
       "    }\n",
       "</style>\n",
       "<table border=\"1\" class=\"dataframe\">\n",
       "  <thead>\n",
       "    <tr style=\"text-align: right;\">\n",
       "      <th></th>\n",
       "      <th>run_duration_ranges</th>\n",
       "      <th>prefix_sum</th>\n",
       "      <th>prefix_sum_percentage</th>\n",
       "    </tr>\n",
       "  </thead>\n",
       "  <tbody>\n",
       "    <tr>\n",
       "      <th>(0.0, 30.0]</th>\n",
       "      <td>0</td>\n",
       "      <td>4528</td>\n",
       "      <td>100.000000</td>\n",
       "    </tr>\n",
       "    <tr>\n",
       "      <th>(30.0, 60.0]</th>\n",
       "      <td>0</td>\n",
       "      <td>4528</td>\n",
       "      <td>100.000000</td>\n",
       "    </tr>\n",
       "    <tr>\n",
       "      <th>(60.0, 90.0]</th>\n",
       "      <td>8</td>\n",
       "      <td>4528</td>\n",
       "      <td>100.000000</td>\n",
       "    </tr>\n",
       "    <tr>\n",
       "      <th>(90.0, 120.0]</th>\n",
       "      <td>99</td>\n",
       "      <td>4520</td>\n",
       "      <td>99.823322</td>\n",
       "    </tr>\n",
       "    <tr>\n",
       "      <th>(120.0, 150.0]</th>\n",
       "      <td>593</td>\n",
       "      <td>4421</td>\n",
       "      <td>97.636926</td>\n",
       "    </tr>\n",
       "    <tr>\n",
       "      <th>...</th>\n",
       "      <td>...</td>\n",
       "      <td>...</td>\n",
       "      <td>...</td>\n",
       "    </tr>\n",
       "    <tr>\n",
       "      <th>(341820.0, 341850.0]</th>\n",
       "      <td>0</td>\n",
       "      <td>1</td>\n",
       "      <td>0.022085</td>\n",
       "    </tr>\n",
       "    <tr>\n",
       "      <th>(341850.0, 341880.0]</th>\n",
       "      <td>0</td>\n",
       "      <td>1</td>\n",
       "      <td>0.022085</td>\n",
       "    </tr>\n",
       "    <tr>\n",
       "      <th>(341880.0, 341910.0]</th>\n",
       "      <td>0</td>\n",
       "      <td>1</td>\n",
       "      <td>0.022085</td>\n",
       "    </tr>\n",
       "    <tr>\n",
       "      <th>(341910.0, 341940.0]</th>\n",
       "      <td>0</td>\n",
       "      <td>1</td>\n",
       "      <td>0.022085</td>\n",
       "    </tr>\n",
       "    <tr>\n",
       "      <th>(341940.0, inf]</th>\n",
       "      <td>1</td>\n",
       "      <td>1</td>\n",
       "      <td>0.022085</td>\n",
       "    </tr>\n",
       "  </tbody>\n",
       "</table>\n",
       "<p>11399 rows × 3 columns</p>\n",
       "</div>"
      ],
      "text/plain": [
       "                      run_duration_ranges  prefix_sum  prefix_sum_percentage\n",
       "(0.0, 30.0]                             0        4528             100.000000\n",
       "(30.0, 60.0]                            0        4528             100.000000\n",
       "(60.0, 90.0]                            8        4528             100.000000\n",
       "(90.0, 120.0]                          99        4520              99.823322\n",
       "(120.0, 150.0]                        593        4421              97.636926\n",
       "...                                   ...         ...                    ...\n",
       "(341820.0, 341850.0]                    0           1               0.022085\n",
       "(341850.0, 341880.0]                    0           1               0.022085\n",
       "(341880.0, 341910.0]                    0           1               0.022085\n",
       "(341910.0, 341940.0]                    0           1               0.022085\n",
       "(341940.0, inf]                         1           1               0.022085\n",
       "\n",
       "[11399 rows x 3 columns]"
      ]
     },
     "execution_count": 58,
     "metadata": {},
     "output_type": "execute_result"
    }
   ],
   "source": [
    "max_duration = max(p_vc['prefix_sum'])\n",
    "p_vc['prefix_sum_percentage'] = p_vc['prefix_sum'] / max_duration * 100\n",
    "p_vc"
   ]
  },
  {
   "cell_type": "code",
   "execution_count": 59,
   "id": "d95c74d6-0871-4a36-9846-0af227d11bf0",
   "metadata": {},
   "outputs": [
    {
     "data": {
      "text/html": [
       "<div>\n",
       "<style scoped>\n",
       "    .dataframe tbody tr th:only-of-type {\n",
       "        vertical-align: middle;\n",
       "    }\n",
       "\n",
       "    .dataframe tbody tr th {\n",
       "        vertical-align: top;\n",
       "    }\n",
       "\n",
       "    .dataframe thead th {\n",
       "        text-align: right;\n",
       "    }\n",
       "</style>\n",
       "<table border=\"1\" class=\"dataframe\">\n",
       "  <thead>\n",
       "    <tr style=\"text-align: right;\">\n",
       "      <th></th>\n",
       "      <th>run_duration_ranges</th>\n",
       "      <th>prefix_sum</th>\n",
       "      <th>prefix_sum_percentage</th>\n",
       "    </tr>\n",
       "  </thead>\n",
       "  <tbody>\n",
       "    <tr>\n",
       "      <th>(0.0, 30.0]</th>\n",
       "      <td>10</td>\n",
       "      <td>368</td>\n",
       "      <td>100.000000</td>\n",
       "    </tr>\n",
       "    <tr>\n",
       "      <th>(30.0, 60.0]</th>\n",
       "      <td>31</td>\n",
       "      <td>358</td>\n",
       "      <td>97.282609</td>\n",
       "    </tr>\n",
       "    <tr>\n",
       "      <th>(60.0, 90.0]</th>\n",
       "      <td>72</td>\n",
       "      <td>327</td>\n",
       "      <td>88.858696</td>\n",
       "    </tr>\n",
       "    <tr>\n",
       "      <th>(90.0, 120.0]</th>\n",
       "      <td>49</td>\n",
       "      <td>255</td>\n",
       "      <td>69.293478</td>\n",
       "    </tr>\n",
       "    <tr>\n",
       "      <th>(120.0, 150.0]</th>\n",
       "      <td>48</td>\n",
       "      <td>206</td>\n",
       "      <td>55.978261</td>\n",
       "    </tr>\n",
       "    <tr>\n",
       "      <th>...</th>\n",
       "      <td>...</td>\n",
       "      <td>...</td>\n",
       "      <td>...</td>\n",
       "    </tr>\n",
       "    <tr>\n",
       "      <th>(341820.0, 341850.0]</th>\n",
       "      <td>0</td>\n",
       "      <td>2</td>\n",
       "      <td>0.543478</td>\n",
       "    </tr>\n",
       "    <tr>\n",
       "      <th>(341850.0, 341880.0]</th>\n",
       "      <td>0</td>\n",
       "      <td>2</td>\n",
       "      <td>0.543478</td>\n",
       "    </tr>\n",
       "    <tr>\n",
       "      <th>(341880.0, 341910.0]</th>\n",
       "      <td>0</td>\n",
       "      <td>2</td>\n",
       "      <td>0.543478</td>\n",
       "    </tr>\n",
       "    <tr>\n",
       "      <th>(341910.0, 341940.0]</th>\n",
       "      <td>0</td>\n",
       "      <td>2</td>\n",
       "      <td>0.543478</td>\n",
       "    </tr>\n",
       "    <tr>\n",
       "      <th>(341940.0, inf]</th>\n",
       "      <td>2</td>\n",
       "      <td>2</td>\n",
       "      <td>0.543478</td>\n",
       "    </tr>\n",
       "  </tbody>\n",
       "</table>\n",
       "<p>11399 rows × 3 columns</p>\n",
       "</div>"
      ],
      "text/plain": [
       "                      run_duration_ranges  prefix_sum  prefix_sum_percentage\n",
       "(0.0, 30.0]                            10         368             100.000000\n",
       "(30.0, 60.0]                           31         358              97.282609\n",
       "(60.0, 90.0]                           72         327              88.858696\n",
       "(90.0, 120.0]                          49         255              69.293478\n",
       "(120.0, 150.0]                         48         206              55.978261\n",
       "...                                   ...         ...                    ...\n",
       "(341820.0, 341850.0]                    0           2               0.543478\n",
       "(341850.0, 341880.0]                    0           2               0.543478\n",
       "(341880.0, 341910.0]                    0           2               0.543478\n",
       "(341910.0, 341940.0]                    0           2               0.543478\n",
       "(341940.0, inf]                         2           2               0.543478\n",
       "\n",
       "[11399 rows x 3 columns]"
      ]
     },
     "execution_count": 59,
     "metadata": {},
     "output_type": "execute_result"
    }
   ],
   "source": [
    "max_duration = max(f_vc['prefix_sum'])\n",
    "f_vc['prefix_sum_percentage'] = f_vc['prefix_sum'] / max_duration * 100\n",
    "f_vc"
   ]
  },
  {
   "cell_type": "code",
   "execution_count": 60,
   "id": "3a78bff9-887e-4528-917e-75355329a5ca",
   "metadata": {},
   "outputs": [],
   "source": [
    "# join dataframes a and b on their index\n",
    "joined = f_vc.join(p_vc, how='outer', lsuffix='_f', rsuffix='_p')\n",
    "\n",
    "total = joined[['prefix_sum_f', 'prefix_sum_p']].sum(axis=1)\n",
    "joined['f_pct'] = joined['prefix_sum_f'] / total * 100\n",
    "joined['p_pct'] = joined['prefix_sum_p'] / total * 100"
   ]
  },
  {
   "cell_type": "code",
   "execution_count": 61,
   "id": "aab2a94d-05f6-4e77-891d-78b59201ff2f",
   "metadata": {},
   "outputs": [
    {
     "data": {
      "image/png": "[encoded data removed]",
      "text/plain": [
       "<Figure size 720x432 with 1 Axes>"
      ]
     },
     "metadata": {
      "needs_background": "light"
     },
     "output_type": "display_data"
    }
   ],
   "source": [
    "# plot the two series on the same graph\n",
    "\n",
    "tick_spacing = 200\n",
    "\n",
    "plt.figure(figsize=(10, 6))\n",
    "plt.plot(joined.index.astype(str), joined['f_pct'], color='red', label='percent of failure')\n",
    "plt.plot(joined.index.astype(str), joined['p_pct'], color='green', label='percent of passing')\n",
    "\n",
    "# set x and y axis labels\n",
    "plt.xlabel('Run duration buckets')\n",
    "plt.ylabel('Percentage of passing or failing')\n",
    "plt.xticks(rotation=90)\n",
    "plt.xticks(np.arange(0, len(joined.index.astype(str)), tick_spacing), joined.index.astype(str)[::tick_spacing])\n",
    "\n",
    "# set title and legend\n",
    "plt.title('Percentage contribution of failing and passing to their sum')\n",
    "plt.legend()\n",
    "\n",
    "# show the plot\n",
    "plt.show()"
   ]
  },
  {
   "cell_type": "code",
   "execution_count": 62,
   "id": "7fffbd14-3a5c-444e-ad1d-fb557505bdd1",
   "metadata": {},
   "outputs": [],
   "source": [
    "def find_turning_point(s):\n",
    "\n",
    "    # Find the point at which after which the test is 75% likely to fail \n",
    "    # and at all points after then it is never less than 60% likely to fail.\n",
    "    # Can also parameterize these percentages\n",
    "    \n",
    "    sub = pd.Series()\n",
    "    turning_point = 0\n",
    "    for index, value in s[::-1].iteritems():\n",
    "        if value > 60:\n",
    "            sub.loc[index] = value\n",
    "        else:\n",
    "            if sub.empty:\n",
    "                return 0\n",
    "            elif not sub.empty:\n",
    "                turning_point = (sub[::-1] >= 75).idxmax()\n",
    "                return turning_point"
   ]
  },
  {
   "cell_type": "code",
   "execution_count": 63,
   "id": "e8d480d4-77dd-4a9a-9abd-9130426dc4a6",
   "metadata": {},
   "outputs": [],
   "source": [
    "tp = find_turning_point(joined['f_pct'])"
   ]
  },
  {
   "cell_type": "code",
   "execution_count": 64,
   "id": "145b749e-dba4-4ffc-b5d5-b7bd3beca73c",
   "metadata": {},
   "outputs": [
    {
     "data": {
      "image/png": "[encoded data removed]",
      "text/plain": [
       "<Figure size 720x432 with 1 Axes>"
      ]
     },
     "metadata": {
      "needs_background": "light"
     },
     "output_type": "display_data"
    }
   ],
   "source": [
    "# plot the two series on the same graph\n",
    "\n",
    "tick_spacing = 200\n",
    "\n",
    "plt.figure(figsize=(10, 6))\n",
    "plt.plot(joined.index.astype(str), joined['f_pct'], color='red', label='percent of failure')\n",
    "plt.plot(joined.index.astype(str), joined['p_pct'], color='green', label='percent of passing')\n",
    "\n",
    "# set x and y axis labels\n",
    "plt.xlabel('Run duration buckets')\n",
    "plt.ylabel('Percentage of passing or failing')\n",
    "plt.xticks(rotation=90)\n",
    "plt.xticks(np.arange(0, len(joined.index.astype(str)), tick_spacing), joined.index.astype(str)[::tick_spacing])\n",
    "\n",
    "# set title and legend\n",
    "plt.title('Percentage contribution of failing and passing to their sum')\n",
    "plt.legend()\n",
    "\n",
    "\n",
    "x_position = joined.index.astype(str).tolist().index(str(tp))\n",
    "plt.axvline(x=x_position, color='black', linestyle='--')\n",
    "\n",
    "# show the plot\n",
    "plt.show()"
   ]
  },
  {
   "cell_type": "code",
   "execution_count": 65,
   "id": "42ddd38f-20e7-44d0-a177-58e4c4f352c8",
   "metadata": {},
   "outputs": [
    {
     "data": {
      "text/plain": [
       "Interval(229440.0, 229470.0, closed='right')"
      ]
     },
     "execution_count": 65,
     "metadata": {},
     "output_type": "execute_result"
    }
   ],
   "source": [
    "tp"
   ]
  },
  {
   "cell_type": "markdown",
   "id": "7ad064bf-2615-4878-8e06-5a0aedec56c7",
   "metadata": {},
   "source": [
    "Let's say we pick x as the stopping point beyond which y % tests are likely to fail "
   ]
  },
  {
   "cell_type": "markdown",
   "id": "5eeeb528-8640-4248-9696-040d89b0e2c1",
   "metadata": {},
   "source": [
    "Lets evaluate how this does on the test dataset"
   ]
  },
  {
   "cell_type": "code",
   "execution_count": 66,
   "id": "c2f39177-8db5-4a5a-9315-acecba3f2323",
   "metadata": {},
   "outputs": [],
   "source": [
    "passing_test = pd.read_csv(\"../data/processed/{}passing_test.csv\".format(test_id))\n",
    "failing_test = pd.read_csv(\"../data/processed/{}failing_test.csv\".format(test_id))"
   ]
  },
  {
   "cell_type": "code",
   "execution_count": 67,
   "id": "f349b628-e16d-42a7-9fb5-c9e0c4b7312f",
   "metadata": {},
   "outputs": [
    {
     "data": {
      "text/html": [
       "<div>\n",
       "<style scoped>\n",
       "    .dataframe tbody tr th:only-of-type {\n",
       "        vertical-align: middle;\n",
       "    }\n",
       "\n",
       "    .dataframe tbody tr th {\n",
       "        vertical-align: top;\n",
       "    }\n",
       "\n",
       "    .dataframe thead th {\n",
       "        text-align: right;\n",
       "    }\n",
       "</style>\n",
       "<table border=\"1\" class=\"dataframe\">\n",
       "  <thead>\n",
       "    <tr style=\"text-align: right;\">\n",
       "      <th></th>\n",
       "      <th>Unnamed: 0</th>\n",
       "      <th>created_at</th>\n",
       "      <th>updated_at</th>\n",
       "      <th>run_id</th>\n",
       "      <th>status</th>\n",
       "      <th>conclusion</th>\n",
       "      <th>run_duration</th>\n",
       "      <th>test_id</th>\n",
       "    </tr>\n",
       "  </thead>\n",
       "  <tbody>\n",
       "    <tr>\n",
       "      <th>0</th>\n",
       "      <td>8</td>\n",
       "      <td>2023-02-03T15:16:11Z</td>\n",
       "      <td>2023-02-03T15:18:51Z</td>\n",
       "      <td>4085449911</td>\n",
       "      <td>completed</td>\n",
       "      <td>success</td>\n",
       "      <td>160.0</td>\n",
       "      <td>39411153</td>\n",
       "    </tr>\n",
       "    <tr>\n",
       "      <th>1</th>\n",
       "      <td>16</td>\n",
       "      <td>2023-03-09T10:43:24Z</td>\n",
       "      <td>2023-03-09T11:12:31Z</td>\n",
       "      <td>4373589410</td>\n",
       "      <td>completed</td>\n",
       "      <td>success</td>\n",
       "      <td>1747.0</td>\n",
       "      <td>39411153</td>\n",
       "    </tr>\n",
       "    <tr>\n",
       "      <th>2</th>\n",
       "      <td>1</td>\n",
       "      <td>2022-11-16T16:02:40Z</td>\n",
       "      <td>2022-11-16T16:06:19Z</td>\n",
       "      <td>3480995628</td>\n",
       "      <td>completed</td>\n",
       "      <td>success</td>\n",
       "      <td>219.0</td>\n",
       "      <td>39411153</td>\n",
       "    </tr>\n",
       "    <tr>\n",
       "      <th>3</th>\n",
       "      <td>20</td>\n",
       "      <td>2023-03-30T18:33:26Z</td>\n",
       "      <td>2023-03-30T18:35:50Z</td>\n",
       "      <td>4567807931</td>\n",
       "      <td>completed</td>\n",
       "      <td>success</td>\n",
       "      <td>144.0</td>\n",
       "      <td>39411153</td>\n",
       "    </tr>\n",
       "    <tr>\n",
       "      <th>4</th>\n",
       "      <td>29</td>\n",
       "      <td>2023-03-17T17:29:33Z</td>\n",
       "      <td>2023-03-17T17:35:11Z</td>\n",
       "      <td>4450078573</td>\n",
       "      <td>completed</td>\n",
       "      <td>success</td>\n",
       "      <td>338.0</td>\n",
       "      <td>39411153</td>\n",
       "    </tr>\n",
       "  </tbody>\n",
       "</table>\n",
       "</div>"
      ],
      "text/plain": [
       "   Unnamed: 0            created_at            updated_at      run_id  \\\n",
       "0           8  2023-02-03T15:16:11Z  2023-02-03T15:18:51Z  4085449911   \n",
       "1          16  2023-03-09T10:43:24Z  2023-03-09T11:12:31Z  4373589410   \n",
       "2           1  2022-11-16T16:02:40Z  2022-11-16T16:06:19Z  3480995628   \n",
       "3          20  2023-03-30T18:33:26Z  2023-03-30T18:35:50Z  4567807931   \n",
       "4          29  2023-03-17T17:29:33Z  2023-03-17T17:35:11Z  4450078573   \n",
       "\n",
       "      status conclusion  run_duration   test_id  \n",
       "0  completed    success         160.0  39411153  \n",
       "1  completed    success        1747.0  39411153  \n",
       "2  completed    success         219.0  39411153  \n",
       "3  completed    success         144.0  39411153  \n",
       "4  completed    success         338.0  39411153  "
      ]
     },
     "execution_count": 67,
     "metadata": {},
     "output_type": "execute_result"
    }
   ],
   "source": [
    "passing_test.head()"
   ]
  },
  {
   "cell_type": "code",
   "execution_count": 68,
   "id": "03dfab43-56fa-433c-a30f-3c27478710a4",
   "metadata": {},
   "outputs": [
    {
     "data": {
      "text/html": [
       "<div>\n",
       "<style scoped>\n",
       "    .dataframe tbody tr th:only-of-type {\n",
       "        vertical-align: middle;\n",
       "    }\n",
       "\n",
       "    .dataframe tbody tr th {\n",
       "        vertical-align: top;\n",
       "    }\n",
       "\n",
       "    .dataframe thead th {\n",
       "        text-align: right;\n",
       "    }\n",
       "</style>\n",
       "<table border=\"1\" class=\"dataframe\">\n",
       "  <thead>\n",
       "    <tr style=\"text-align: right;\">\n",
       "      <th></th>\n",
       "      <th>Unnamed: 0</th>\n",
       "      <th>created_at</th>\n",
       "      <th>updated_at</th>\n",
       "      <th>run_id</th>\n",
       "      <th>status</th>\n",
       "      <th>conclusion</th>\n",
       "      <th>run_duration</th>\n",
       "      <th>test_id</th>\n",
       "    </tr>\n",
       "  </thead>\n",
       "  <tbody>\n",
       "    <tr>\n",
       "      <th>0</th>\n",
       "      <td>14</td>\n",
       "      <td>2023-03-28T10:39:18Z</td>\n",
       "      <td>2023-03-28T10:40:24Z</td>\n",
       "      <td>4542117817</td>\n",
       "      <td>completed</td>\n",
       "      <td>failure</td>\n",
       "      <td>66.0</td>\n",
       "      <td>39411153</td>\n",
       "    </tr>\n",
       "    <tr>\n",
       "      <th>1</th>\n",
       "      <td>21</td>\n",
       "      <td>2022-11-02T13:39:54Z</td>\n",
       "      <td>2022-11-02T14:04:54Z</td>\n",
       "      <td>3378016721</td>\n",
       "      <td>completed</td>\n",
       "      <td>failure</td>\n",
       "      <td>1500.0</td>\n",
       "      <td>39411153</td>\n",
       "    </tr>\n",
       "    <tr>\n",
       "      <th>2</th>\n",
       "      <td>4</td>\n",
       "      <td>2022-11-28T16:26:30Z</td>\n",
       "      <td>2022-11-28T16:27:25Z</td>\n",
       "      <td>3566698252</td>\n",
       "      <td>completed</td>\n",
       "      <td>failure</td>\n",
       "      <td>55.0</td>\n",
       "      <td>39411153</td>\n",
       "    </tr>\n",
       "    <tr>\n",
       "      <th>3</th>\n",
       "      <td>7</td>\n",
       "      <td>2022-11-28T16:22:30Z</td>\n",
       "      <td>2022-11-28T16:23:25Z</td>\n",
       "      <td>3566666479</td>\n",
       "      <td>completed</td>\n",
       "      <td>failure</td>\n",
       "      <td>55.0</td>\n",
       "      <td>39411153</td>\n",
       "    </tr>\n",
       "    <tr>\n",
       "      <th>4</th>\n",
       "      <td>28</td>\n",
       "      <td>2023-01-26T17:44:53Z</td>\n",
       "      <td>2023-01-26T17:47:31Z</td>\n",
       "      <td>4017737467</td>\n",
       "      <td>completed</td>\n",
       "      <td>failure</td>\n",
       "      <td>158.0</td>\n",
       "      <td>39411153</td>\n",
       "    </tr>\n",
       "  </tbody>\n",
       "</table>\n",
       "</div>"
      ],
      "text/plain": [
       "   Unnamed: 0            created_at            updated_at      run_id  \\\n",
       "0          14  2023-03-28T10:39:18Z  2023-03-28T10:40:24Z  4542117817   \n",
       "1          21  2022-11-02T13:39:54Z  2022-11-02T14:04:54Z  3378016721   \n",
       "2           4  2022-11-28T16:26:30Z  2022-11-28T16:27:25Z  3566698252   \n",
       "3           7  2022-11-28T16:22:30Z  2022-11-28T16:23:25Z  3566666479   \n",
       "4          28  2023-01-26T17:44:53Z  2023-01-26T17:47:31Z  4017737467   \n",
       "\n",
       "      status conclusion  run_duration   test_id  \n",
       "0  completed    failure          66.0  39411153  \n",
       "1  completed    failure        1500.0  39411153  \n",
       "2  completed    failure          55.0  39411153  \n",
       "3  completed    failure          55.0  39411153  \n",
       "4  completed    failure         158.0  39411153  "
      ]
     },
     "execution_count": 68,
     "metadata": {},
     "output_type": "execute_result"
    }
   ],
   "source": [
    "failing_test.head()"
   ]
  },
  {
   "cell_type": "code",
   "execution_count": 69,
   "id": "8f90e65f-081d-4182-866d-d4fd1647d1e8",
   "metadata": {},
   "outputs": [],
   "source": [
    "test_data = pd.concat([passing_test, failing_test], axis=0)"
   ]
  },
  {
   "cell_type": "code",
   "execution_count": 70,
   "id": "3da20d03-23dd-473e-bdf3-78f47135d2cd",
   "metadata": {},
   "outputs": [],
   "source": [
    "# Add new column with \"success\" or \"failure\" based on run_duration\n",
    "test_data['predicted_status'] = np.where(test_data['run_duration'] > tp.left, 'failure', 'success')"
   ]
  },
  {
   "cell_type": "code",
   "execution_count": 71,
   "id": "e1014663-f77c-4583-a885-11ace2967133",
   "metadata": {},
   "outputs": [
    {
     "name": "stdout",
     "output_type": "stream",
     "text": [
      "Match percentage: 92.24%\n"
     ]
    }
   ],
   "source": [
    "# Calculate percentage of rows where \"predicted_status\" matches \"conclusion\"\n",
    "accuracy = (test_data['predicted_status'] == test_data['conclusion']).sum() / len(test_data) * 100\n",
    "print(f\"Accuracy: {accuracy:.2f}%\")"
   ]
  }
 ],
 "metadata": {
  "kernelspec": {
   "display_name": "Python 3",
   "language": "python",
   "name": "python3"
  },
  "language_info": {
   "codemirror_mode": {
    "name": "ipython",
    "version": 3
   },
   "file_extension": ".py",
   "mimetype": "text/x-python",
   "name": "python",
   "nbconvert_exporter": "python",
   "pygments_lexer": "ipython3",
   "version": "3.8.6"
  }
 },
 "nbformat": 4,
 "nbformat_minor": 5
}
