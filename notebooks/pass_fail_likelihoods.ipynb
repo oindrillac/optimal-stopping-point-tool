{
 "cells": [
  {
   "cell_type": "markdown",
   "id": "dcf594ab-1dda-4f56-959c-265e069f75de",
   "metadata": {},
   "source": [
    "## Pass and Fail likelihood"
   ]
  },
  {
   "cell_type": "code",
   "execution_count": 1,
   "id": "bf608b52-fcb7-4fd2-9eee-95b373d2022f",
   "metadata": {},
   "outputs": [],
   "source": [
    "## Import libraries\n",
    "import os\n",
    "import gzip\n",
    "import json\n",
    "import datetime\n",
    "import itertools\n",
    "import pandas as pd\n",
    "import numpy as np\n",
    "import matplotlib.pyplot as plt\n",
    "import matplotlib.ticker as ticker\n",
    "from sklearn.preprocessing import MinMaxScaler\n",
    "from sklearn.metrics import accuracy_score, precision_recall_fscore_support, confusion_matrix\n",
    "\n",
    "import warnings\n",
    "\n",
    "warnings.filterwarnings(\"ignore\")\n",
    "import seaborn as sns\n",
    "from fitter import Fitter, get_common_distributions, get_distributions"
   ]
  },
  {
   "cell_type": "markdown",
   "id": "28448538-e882-408c-b89f-1e3b144c13d2",
   "metadata": {},
   "source": [
    "## Import dataframe"
   ]
  },
  {
   "cell_type": "markdown",
   "id": "59c6bb0f-0a07-4064-afa2-00e134c68f05",
   "metadata": {},
   "source": [
    "### Test 1"
   ]
  },
  {
   "cell_type": "code",
   "execution_count": 2,
   "id": "f6e60ad8-60fe-4b66-972a-23aa6ac31320",
   "metadata": {},
   "outputs": [],
   "source": [
    "test_id = \"28698040\" # Pre-commit test"
   ]
  },
  {
   "cell_type": "code",
   "execution_count": 3,
   "id": "32ec543f-f1f9-48a1-ae3a-406c48a3e845",
   "metadata": {},
   "outputs": [],
   "source": [
    "passing_train = pd.read_csv(\"../data/processed/{}passing_train.csv\".format(test_id))\n",
    "failing_train = pd.read_csv(\"../data/processed/{}failing_train.csv\".format(test_id))"
   ]
  },
  {
   "cell_type": "code",
   "execution_count": 4,
   "id": "3096433d-c3d5-4583-85be-15138d2936a7",
   "metadata": {},
   "outputs": [
    {
     "data": {
      "text/html": [
       "<div>\n",
       "<style scoped>\n",
       "    .dataframe tbody tr th:only-of-type {\n",
       "        vertical-align: middle;\n",
       "    }\n",
       "\n",
       "    .dataframe tbody tr th {\n",
       "        vertical-align: top;\n",
       "    }\n",
       "\n",
       "    .dataframe thead th {\n",
       "        text-align: right;\n",
       "    }\n",
       "</style>\n",
       "<table border=\"1\" class=\"dataframe\">\n",
       "  <thead>\n",
       "    <tr style=\"text-align: right;\">\n",
       "      <th></th>\n",
       "      <th>Unnamed: 0</th>\n",
       "      <th>created_at</th>\n",
       "      <th>updated_at</th>\n",
       "      <th>run_id</th>\n",
       "      <th>status</th>\n",
       "      <th>conclusion</th>\n",
       "      <th>run_duration</th>\n",
       "      <th>test_id</th>\n",
       "    </tr>\n",
       "  </thead>\n",
       "  <tbody>\n",
       "    <tr>\n",
       "      <th>0</th>\n",
       "      <td>12</td>\n",
       "      <td>2022-12-14T15:53:31Z</td>\n",
       "      <td>2022-12-14T15:54:12Z</td>\n",
       "      <td>3696463705</td>\n",
       "      <td>completed</td>\n",
       "      <td>success</td>\n",
       "      <td>41.0</td>\n",
       "      <td>28698040</td>\n",
       "    </tr>\n",
       "    <tr>\n",
       "      <th>1</th>\n",
       "      <td>28</td>\n",
       "      <td>2022-06-29T20:52:20Z</td>\n",
       "      <td>2022-06-29T20:52:49Z</td>\n",
       "      <td>2585823572</td>\n",
       "      <td>completed</td>\n",
       "      <td>success</td>\n",
       "      <td>29.0</td>\n",
       "      <td>28698040</td>\n",
       "    </tr>\n",
       "    <tr>\n",
       "      <th>2</th>\n",
       "      <td>7</td>\n",
       "      <td>2022-10-25T20:59:24Z</td>\n",
       "      <td>2022-10-25T21:00:05Z</td>\n",
       "      <td>3324245010</td>\n",
       "      <td>completed</td>\n",
       "      <td>success</td>\n",
       "      <td>41.0</td>\n",
       "      <td>28698040</td>\n",
       "    </tr>\n",
       "    <tr>\n",
       "      <th>3</th>\n",
       "      <td>6</td>\n",
       "      <td>2022-07-12T21:11:13Z</td>\n",
       "      <td>2022-07-12T21:11:42Z</td>\n",
       "      <td>2659424327</td>\n",
       "      <td>completed</td>\n",
       "      <td>success</td>\n",
       "      <td>29.0</td>\n",
       "      <td>28698040</td>\n",
       "    </tr>\n",
       "    <tr>\n",
       "      <th>4</th>\n",
       "      <td>23</td>\n",
       "      <td>2022-07-05T15:28:26Z</td>\n",
       "      <td>2022-07-05T15:29:06Z</td>\n",
       "      <td>2617219129</td>\n",
       "      <td>completed</td>\n",
       "      <td>success</td>\n",
       "      <td>40.0</td>\n",
       "      <td>28698040</td>\n",
       "    </tr>\n",
       "  </tbody>\n",
       "</table>\n",
       "</div>"
      ],
      "text/plain": [
       "   Unnamed: 0            created_at            updated_at      run_id  \\\n",
       "0          12  2022-12-14T15:53:31Z  2022-12-14T15:54:12Z  3696463705   \n",
       "1          28  2022-06-29T20:52:20Z  2022-06-29T20:52:49Z  2585823572   \n",
       "2           7  2022-10-25T20:59:24Z  2022-10-25T21:00:05Z  3324245010   \n",
       "3           6  2022-07-12T21:11:13Z  2022-07-12T21:11:42Z  2659424327   \n",
       "4          23  2022-07-05T15:28:26Z  2022-07-05T15:29:06Z  2617219129   \n",
       "\n",
       "      status conclusion  run_duration   test_id  \n",
       "0  completed    success          41.0  28698040  \n",
       "1  completed    success          29.0  28698040  \n",
       "2  completed    success          41.0  28698040  \n",
       "3  completed    success          29.0  28698040  \n",
       "4  completed    success          40.0  28698040  "
      ]
     },
     "execution_count": 4,
     "metadata": {},
     "output_type": "execute_result"
    }
   ],
   "source": [
    "passing_train.head()"
   ]
  },
  {
   "cell_type": "code",
   "execution_count": 5,
   "id": "ca3a6320-c1a4-4691-8541-7368ba71caeb",
   "metadata": {},
   "outputs": [
    {
     "data": {
      "text/html": [
       "<div>\n",
       "<style scoped>\n",
       "    .dataframe tbody tr th:only-of-type {\n",
       "        vertical-align: middle;\n",
       "    }\n",
       "\n",
       "    .dataframe tbody tr th {\n",
       "        vertical-align: top;\n",
       "    }\n",
       "\n",
       "    .dataframe thead th {\n",
       "        text-align: right;\n",
       "    }\n",
       "</style>\n",
       "<table border=\"1\" class=\"dataframe\">\n",
       "  <thead>\n",
       "    <tr style=\"text-align: right;\">\n",
       "      <th></th>\n",
       "      <th>Unnamed: 0</th>\n",
       "      <th>created_at</th>\n",
       "      <th>updated_at</th>\n",
       "      <th>run_id</th>\n",
       "      <th>status</th>\n",
       "      <th>conclusion</th>\n",
       "      <th>run_duration</th>\n",
       "      <th>test_id</th>\n",
       "    </tr>\n",
       "  </thead>\n",
       "  <tbody>\n",
       "    <tr>\n",
       "      <th>0</th>\n",
       "      <td>8</td>\n",
       "      <td>2022-10-11T15:27:59Z</td>\n",
       "      <td>2022-10-11T21:30:30Z</td>\n",
       "      <td>3228155174</td>\n",
       "      <td>completed</td>\n",
       "      <td>failure</td>\n",
       "      <td>21751.0</td>\n",
       "      <td>28698040</td>\n",
       "    </tr>\n",
       "    <tr>\n",
       "      <th>1</th>\n",
       "      <td>19</td>\n",
       "      <td>2022-09-27T19:49:11Z</td>\n",
       "      <td>2022-09-27T19:49:59Z</td>\n",
       "      <td>3138511295</td>\n",
       "      <td>completed</td>\n",
       "      <td>failure</td>\n",
       "      <td>48.0</td>\n",
       "      <td>28698040</td>\n",
       "    </tr>\n",
       "    <tr>\n",
       "      <th>2</th>\n",
       "      <td>0</td>\n",
       "      <td>2022-12-01T18:58:49Z</td>\n",
       "      <td>2022-12-01T18:59:25Z</td>\n",
       "      <td>3595655421</td>\n",
       "      <td>completed</td>\n",
       "      <td>failure</td>\n",
       "      <td>36.0</td>\n",
       "      <td>28698040</td>\n",
       "    </tr>\n",
       "    <tr>\n",
       "      <th>3</th>\n",
       "      <td>16</td>\n",
       "      <td>2022-11-16T19:04:40Z</td>\n",
       "      <td>2022-11-16T19:05:09Z</td>\n",
       "      <td>3482315892</td>\n",
       "      <td>completed</td>\n",
       "      <td>failure</td>\n",
       "      <td>29.0</td>\n",
       "      <td>28698040</td>\n",
       "    </tr>\n",
       "    <tr>\n",
       "      <th>4</th>\n",
       "      <td>6</td>\n",
       "      <td>2022-12-08T16:33:31Z</td>\n",
       "      <td>2022-12-08T16:33:57Z</td>\n",
       "      <td>3650200301</td>\n",
       "      <td>completed</td>\n",
       "      <td>failure</td>\n",
       "      <td>26.0</td>\n",
       "      <td>28698040</td>\n",
       "    </tr>\n",
       "  </tbody>\n",
       "</table>\n",
       "</div>"
      ],
      "text/plain": [
       "   Unnamed: 0            created_at            updated_at      run_id  \\\n",
       "0           8  2022-10-11T15:27:59Z  2022-10-11T21:30:30Z  3228155174   \n",
       "1          19  2022-09-27T19:49:11Z  2022-09-27T19:49:59Z  3138511295   \n",
       "2           0  2022-12-01T18:58:49Z  2022-12-01T18:59:25Z  3595655421   \n",
       "3          16  2022-11-16T19:04:40Z  2022-11-16T19:05:09Z  3482315892   \n",
       "4           6  2022-12-08T16:33:31Z  2022-12-08T16:33:57Z  3650200301   \n",
       "\n",
       "      status conclusion  run_duration   test_id  \n",
       "0  completed    failure       21751.0  28698040  \n",
       "1  completed    failure          48.0  28698040  \n",
       "2  completed    failure          36.0  28698040  \n",
       "3  completed    failure          29.0  28698040  \n",
       "4  completed    failure          26.0  28698040  "
      ]
     },
     "execution_count": 5,
     "metadata": {},
     "output_type": "execute_result"
    }
   ],
   "source": [
    "failing_train.head()"
   ]
  },
  {
   "cell_type": "code",
   "execution_count": 6,
   "id": "627fe83d-bc6f-43a7-bccd-a972a782bb0f",
   "metadata": {},
   "outputs": [],
   "source": [
    "ranges = np.arange(0, max(passing_train['run_duration'])+1, 10).tolist()\n",
    "ranges.append(np.inf)"
   ]
  },
  {
   "cell_type": "code",
   "execution_count": 7,
   "id": "857a87cc-9ddd-4246-b219-0651da0cf126",
   "metadata": {},
   "outputs": [],
   "source": [
    "# time bucket passing and failing run durations into buckets of 10 seconds"
   ]
  },
  {
   "cell_type": "code",
   "execution_count": 8,
   "id": "c202110b-e7b0-405a-8763-bcd94ed20905",
   "metadata": {},
   "outputs": [],
   "source": [
    "passing_train['run_duration_ranges'] = pd.cut(passing_train['run_duration'], bins=ranges)"
   ]
  },
  {
   "cell_type": "code",
   "execution_count": 9,
   "id": "d21ba177-54c3-4129-8fd5-6b2912f4e722",
   "metadata": {},
   "outputs": [],
   "source": [
    "failing_train['run_duration_ranges'] = pd.cut(failing_train['run_duration'], bins=ranges)"
   ]
  },
  {
   "cell_type": "code",
   "execution_count": 10,
   "id": "82be8abe-6f1d-4cc8-9f2a-3969848842b3",
   "metadata": {},
   "outputs": [],
   "source": [
    "# get frequency of how many tests lie in those time buckets"
   ]
  },
  {
   "cell_type": "code",
   "execution_count": 11,
   "id": "a8632ebe-e34b-41a5-9789-3e964d22d714",
   "metadata": {},
   "outputs": [],
   "source": [
    "p_vc = pd.DataFrame(passing_train['run_duration_ranges'].value_counts().sort_index())"
   ]
  },
  {
   "cell_type": "code",
   "execution_count": 12,
   "id": "8a0f9f33-cf4b-4e3b-a481-4544a007a808",
   "metadata": {},
   "outputs": [
    {
     "data": {
      "text/html": [
       "<div>\n",
       "<style scoped>\n",
       "    .dataframe tbody tr th:only-of-type {\n",
       "        vertical-align: middle;\n",
       "    }\n",
       "\n",
       "    .dataframe tbody tr th {\n",
       "        vertical-align: top;\n",
       "    }\n",
       "\n",
       "    .dataframe thead th {\n",
       "        text-align: right;\n",
       "    }\n",
       "</style>\n",
       "<table border=\"1\" class=\"dataframe\">\n",
       "  <thead>\n",
       "    <tr style=\"text-align: right;\">\n",
       "      <th></th>\n",
       "      <th>run_duration_ranges</th>\n",
       "    </tr>\n",
       "  </thead>\n",
       "  <tbody>\n",
       "    <tr>\n",
       "      <th>(0.0, 10.0]</th>\n",
       "      <td>0</td>\n",
       "    </tr>\n",
       "    <tr>\n",
       "      <th>(10.0, 20.0]</th>\n",
       "      <td>0</td>\n",
       "    </tr>\n",
       "    <tr>\n",
       "      <th>(20.0, 30.0]</th>\n",
       "      <td>35</td>\n",
       "    </tr>\n",
       "    <tr>\n",
       "      <th>(30.0, 40.0]</th>\n",
       "      <td>38</td>\n",
       "    </tr>\n",
       "    <tr>\n",
       "      <th>(40.0, 50.0]</th>\n",
       "      <td>12</td>\n",
       "    </tr>\n",
       "    <tr>\n",
       "      <th>(50.0, 60.0]</th>\n",
       "      <td>6</td>\n",
       "    </tr>\n",
       "    <tr>\n",
       "      <th>(60.0, 70.0]</th>\n",
       "      <td>5</td>\n",
       "    </tr>\n",
       "    <tr>\n",
       "      <th>(70.0, inf]</th>\n",
       "      <td>1</td>\n",
       "    </tr>\n",
       "  </tbody>\n",
       "</table>\n",
       "</div>"
      ],
      "text/plain": [
       "              run_duration_ranges\n",
       "(0.0, 10.0]                     0\n",
       "(10.0, 20.0]                    0\n",
       "(20.0, 30.0]                   35\n",
       "(30.0, 40.0]                   38\n",
       "(40.0, 50.0]                   12\n",
       "(50.0, 60.0]                    6\n",
       "(60.0, 70.0]                    5\n",
       "(70.0, inf]                     1"
      ]
     },
     "execution_count": 12,
     "metadata": {},
     "output_type": "execute_result"
    }
   ],
   "source": [
    "p_vc"
   ]
  },
  {
   "cell_type": "code",
   "execution_count": 13,
   "id": "a0f8026b-8106-4b7b-a8c3-444860ec2ccd",
   "metadata": {},
   "outputs": [
    {
     "data": {
      "image/png": "[encoded data removed]",
      "text/plain": [
       "<Figure size 432x288 with 1 Axes>"
      ]
     },
     "metadata": {
      "needs_background": "light"
     },
     "output_type": "display_data"
    }
   ],
   "source": [
    "plt.bar(p_vc.index.astype(str), p_vc['run_duration_ranges'].values)\n",
    "\n",
    "# set the x-axis label and title\n",
    "plt.xlabel('Run Duration Ranges')\n",
    "plt.title('Histogram of Run Duration Ranges')\n",
    "plt.xticks(rotation=90) \n",
    "\n",
    "# display the plot\n",
    "plt.show()"
   ]
  },
  {
   "cell_type": "code",
   "execution_count": 14,
   "id": "1fcf534b-4ad3-43e1-ae6c-d3ad10aa1f08",
   "metadata": {},
   "outputs": [],
   "source": [
    "f_vc = pd.DataFrame(failing_train['run_duration_ranges'].value_counts().sort_index())"
   ]
  },
  {
   "cell_type": "code",
   "execution_count": 15,
   "id": "94385efa-82a2-4975-a0d6-cdb86baa5b49",
   "metadata": {},
   "outputs": [
    {
     "data": {
      "image/png": "[encoded data removed]",
      "text/plain": [
       "<Figure size 432x288 with 1 Axes>"
      ]
     },
     "metadata": {
      "needs_background": "light"
     },
     "output_type": "display_data"
    }
   ],
   "source": [
    "plt.bar(f_vc.index.astype(str), f_vc['run_duration_ranges'].values)\n",
    "\n",
    "# set the x-axis label and title\n",
    "plt.xlabel('Run Duration Ranges')\n",
    "plt.title('Histogram of Run Duration Ranges')\n",
    "plt.xticks(rotation=90) \n",
    "\n",
    "# display the plot\n",
    "plt.show()"
   ]
  },
  {
   "cell_type": "code",
   "execution_count": 16,
   "id": "08b0866c-abd3-4c7e-b3dd-21cd40eef129",
   "metadata": {},
   "outputs": [],
   "source": [
    "# for start of each time bucket get total number of tests which pass or fail after that point\n",
    "# get the reverse cumulative sum for that"
   ]
  },
  {
   "cell_type": "code",
   "execution_count": 17,
   "id": "0489e215-eef2-494c-b36d-70355b63fafb",
   "metadata": {},
   "outputs": [],
   "source": [
    "p_vc['prefix_sum'] = p_vc['run_duration_ranges'][::-1].cumsum()[::-1]"
   ]
  },
  {
   "cell_type": "code",
   "execution_count": 18,
   "id": "243d9a66-e261-4301-aa60-37ea03ea5467",
   "metadata": {},
   "outputs": [],
   "source": [
    "f_vc['prefix_sum'] = f_vc['run_duration_ranges'][::-1].cumsum()[::-1]"
   ]
  },
  {
   "cell_type": "code",
   "execution_count": 19,
   "id": "0a243ebd-b115-4487-9b03-81bc1c75b3ec",
   "metadata": {},
   "outputs": [
    {
     "data": {
      "text/html": [
       "<div>\n",
       "<style scoped>\n",
       "    .dataframe tbody tr th:only-of-type {\n",
       "        vertical-align: middle;\n",
       "    }\n",
       "\n",
       "    .dataframe tbody tr th {\n",
       "        vertical-align: top;\n",
       "    }\n",
       "\n",
       "    .dataframe thead th {\n",
       "        text-align: right;\n",
       "    }\n",
       "</style>\n",
       "<table border=\"1\" class=\"dataframe\">\n",
       "  <thead>\n",
       "    <tr style=\"text-align: right;\">\n",
       "      <th></th>\n",
       "      <th>run_duration_ranges</th>\n",
       "      <th>prefix_sum</th>\n",
       "    </tr>\n",
       "  </thead>\n",
       "  <tbody>\n",
       "    <tr>\n",
       "      <th>(0.0, 10.0]</th>\n",
       "      <td>0</td>\n",
       "      <td>97</td>\n",
       "    </tr>\n",
       "    <tr>\n",
       "      <th>(10.0, 20.0]</th>\n",
       "      <td>0</td>\n",
       "      <td>97</td>\n",
       "    </tr>\n",
       "    <tr>\n",
       "      <th>(20.0, 30.0]</th>\n",
       "      <td>35</td>\n",
       "      <td>97</td>\n",
       "    </tr>\n",
       "    <tr>\n",
       "      <th>(30.0, 40.0]</th>\n",
       "      <td>38</td>\n",
       "      <td>62</td>\n",
       "    </tr>\n",
       "    <tr>\n",
       "      <th>(40.0, 50.0]</th>\n",
       "      <td>12</td>\n",
       "      <td>24</td>\n",
       "    </tr>\n",
       "  </tbody>\n",
       "</table>\n",
       "</div>"
      ],
      "text/plain": [
       "              run_duration_ranges  prefix_sum\n",
       "(0.0, 10.0]                     0          97\n",
       "(10.0, 20.0]                    0          97\n",
       "(20.0, 30.0]                   35          97\n",
       "(30.0, 40.0]                   38          62\n",
       "(40.0, 50.0]                   12          24"
      ]
     },
     "execution_count": 19,
     "metadata": {},
     "output_type": "execute_result"
    }
   ],
   "source": [
    "p_vc.head()"
   ]
  },
  {
   "cell_type": "code",
   "execution_count": 20,
   "id": "722cf001-5d8e-4ea1-9a5c-f1103e5a4240",
   "metadata": {},
   "outputs": [
    {
     "data": {
      "text/html": [
       "<div>\n",
       "<style scoped>\n",
       "    .dataframe tbody tr th:only-of-type {\n",
       "        vertical-align: middle;\n",
       "    }\n",
       "\n",
       "    .dataframe tbody tr th {\n",
       "        vertical-align: top;\n",
       "    }\n",
       "\n",
       "    .dataframe thead th {\n",
       "        text-align: right;\n",
       "    }\n",
       "</style>\n",
       "<table border=\"1\" class=\"dataframe\">\n",
       "  <thead>\n",
       "    <tr style=\"text-align: right;\">\n",
       "      <th></th>\n",
       "      <th>run_duration_ranges</th>\n",
       "      <th>prefix_sum</th>\n",
       "    </tr>\n",
       "  </thead>\n",
       "  <tbody>\n",
       "    <tr>\n",
       "      <th>(0.0, 10.0]</th>\n",
       "      <td>0</td>\n",
       "      <td>118</td>\n",
       "    </tr>\n",
       "    <tr>\n",
       "      <th>(10.0, 20.0]</th>\n",
       "      <td>0</td>\n",
       "      <td>118</td>\n",
       "    </tr>\n",
       "    <tr>\n",
       "      <th>(20.0, 30.0]</th>\n",
       "      <td>29</td>\n",
       "      <td>118</td>\n",
       "    </tr>\n",
       "    <tr>\n",
       "      <th>(30.0, 40.0]</th>\n",
       "      <td>23</td>\n",
       "      <td>89</td>\n",
       "    </tr>\n",
       "    <tr>\n",
       "      <th>(40.0, 50.0]</th>\n",
       "      <td>29</td>\n",
       "      <td>66</td>\n",
       "    </tr>\n",
       "  </tbody>\n",
       "</table>\n",
       "</div>"
      ],
      "text/plain": [
       "              run_duration_ranges  prefix_sum\n",
       "(0.0, 10.0]                     0         118\n",
       "(10.0, 20.0]                    0         118\n",
       "(20.0, 30.0]                   29         118\n",
       "(30.0, 40.0]                   23          89\n",
       "(40.0, 50.0]                   29          66"
      ]
     },
     "execution_count": 20,
     "metadata": {},
     "output_type": "execute_result"
    }
   ],
   "source": [
    "f_vc.head()"
   ]
  },
  {
   "cell_type": "code",
   "execution_count": 21,
   "id": "ad8518ab-867c-4354-b184-d51284cf4ab1",
   "metadata": {},
   "outputs": [
    {
     "data": {
      "text/html": [
       "<div>\n",
       "<style scoped>\n",
       "    .dataframe tbody tr th:only-of-type {\n",
       "        vertical-align: middle;\n",
       "    }\n",
       "\n",
       "    .dataframe tbody tr th {\n",
       "        vertical-align: top;\n",
       "    }\n",
       "\n",
       "    .dataframe thead th {\n",
       "        text-align: right;\n",
       "    }\n",
       "</style>\n",
       "<table border=\"1\" class=\"dataframe\">\n",
       "  <thead>\n",
       "    <tr style=\"text-align: right;\">\n",
       "      <th></th>\n",
       "      <th>run_duration_ranges</th>\n",
       "      <th>prefix_sum</th>\n",
       "      <th>prefix_sum_percentage</th>\n",
       "    </tr>\n",
       "  </thead>\n",
       "  <tbody>\n",
       "    <tr>\n",
       "      <th>(0.0, 10.0]</th>\n",
       "      <td>0</td>\n",
       "      <td>97</td>\n",
       "      <td>100.000000</td>\n",
       "    </tr>\n",
       "    <tr>\n",
       "      <th>(10.0, 20.0]</th>\n",
       "      <td>0</td>\n",
       "      <td>97</td>\n",
       "      <td>100.000000</td>\n",
       "    </tr>\n",
       "    <tr>\n",
       "      <th>(20.0, 30.0]</th>\n",
       "      <td>35</td>\n",
       "      <td>97</td>\n",
       "      <td>100.000000</td>\n",
       "    </tr>\n",
       "    <tr>\n",
       "      <th>(30.0, 40.0]</th>\n",
       "      <td>38</td>\n",
       "      <td>62</td>\n",
       "      <td>63.917526</td>\n",
       "    </tr>\n",
       "    <tr>\n",
       "      <th>(40.0, 50.0]</th>\n",
       "      <td>12</td>\n",
       "      <td>24</td>\n",
       "      <td>24.742268</td>\n",
       "    </tr>\n",
       "    <tr>\n",
       "      <th>(50.0, 60.0]</th>\n",
       "      <td>6</td>\n",
       "      <td>12</td>\n",
       "      <td>12.371134</td>\n",
       "    </tr>\n",
       "    <tr>\n",
       "      <th>(60.0, 70.0]</th>\n",
       "      <td>5</td>\n",
       "      <td>6</td>\n",
       "      <td>6.185567</td>\n",
       "    </tr>\n",
       "    <tr>\n",
       "      <th>(70.0, inf]</th>\n",
       "      <td>1</td>\n",
       "      <td>1</td>\n",
       "      <td>1.030928</td>\n",
       "    </tr>\n",
       "  </tbody>\n",
       "</table>\n",
       "</div>"
      ],
      "text/plain": [
       "              run_duration_ranges  prefix_sum  prefix_sum_percentage\n",
       "(0.0, 10.0]                     0          97             100.000000\n",
       "(10.0, 20.0]                    0          97             100.000000\n",
       "(20.0, 30.0]                   35          97             100.000000\n",
       "(30.0, 40.0]                   38          62              63.917526\n",
       "(40.0, 50.0]                   12          24              24.742268\n",
       "(50.0, 60.0]                    6          12              12.371134\n",
       "(60.0, 70.0]                    5           6               6.185567\n",
       "(70.0, inf]                     1           1               1.030928"
      ]
     },
     "execution_count": 21,
     "metadata": {},
     "output_type": "execute_result"
    }
   ],
   "source": [
    "max_duration = max(p_vc['prefix_sum'])\n",
    "p_vc['prefix_sum_percentage'] = p_vc['prefix_sum'] / max_duration * 100\n",
    "p_vc"
   ]
  },
  {
   "cell_type": "code",
   "execution_count": 22,
   "id": "8f33844e-f573-4d5a-9510-effe355a948a",
   "metadata": {},
   "outputs": [
    {
     "data": {
      "text/html": [
       "<div>\n",
       "<style scoped>\n",
       "    .dataframe tbody tr th:only-of-type {\n",
       "        vertical-align: middle;\n",
       "    }\n",
       "\n",
       "    .dataframe tbody tr th {\n",
       "        vertical-align: top;\n",
       "    }\n",
       "\n",
       "    .dataframe thead th {\n",
       "        text-align: right;\n",
       "    }\n",
       "</style>\n",
       "<table border=\"1\" class=\"dataframe\">\n",
       "  <thead>\n",
       "    <tr style=\"text-align: right;\">\n",
       "      <th></th>\n",
       "      <th>run_duration_ranges</th>\n",
       "      <th>prefix_sum</th>\n",
       "      <th>prefix_sum_percentage</th>\n",
       "    </tr>\n",
       "  </thead>\n",
       "  <tbody>\n",
       "    <tr>\n",
       "      <th>(0.0, 10.0]</th>\n",
       "      <td>0</td>\n",
       "      <td>118</td>\n",
       "      <td>100.000000</td>\n",
       "    </tr>\n",
       "    <tr>\n",
       "      <th>(10.0, 20.0]</th>\n",
       "      <td>0</td>\n",
       "      <td>118</td>\n",
       "      <td>100.000000</td>\n",
       "    </tr>\n",
       "    <tr>\n",
       "      <th>(20.0, 30.0]</th>\n",
       "      <td>29</td>\n",
       "      <td>118</td>\n",
       "      <td>100.000000</td>\n",
       "    </tr>\n",
       "    <tr>\n",
       "      <th>(30.0, 40.0]</th>\n",
       "      <td>23</td>\n",
       "      <td>89</td>\n",
       "      <td>75.423729</td>\n",
       "    </tr>\n",
       "    <tr>\n",
       "      <th>(40.0, 50.0]</th>\n",
       "      <td>29</td>\n",
       "      <td>66</td>\n",
       "      <td>55.932203</td>\n",
       "    </tr>\n",
       "    <tr>\n",
       "      <th>(50.0, 60.0]</th>\n",
       "      <td>20</td>\n",
       "      <td>37</td>\n",
       "      <td>31.355932</td>\n",
       "    </tr>\n",
       "    <tr>\n",
       "      <th>(60.0, 70.0]</th>\n",
       "      <td>13</td>\n",
       "      <td>17</td>\n",
       "      <td>14.406780</td>\n",
       "    </tr>\n",
       "    <tr>\n",
       "      <th>(70.0, inf]</th>\n",
       "      <td>4</td>\n",
       "      <td>4</td>\n",
       "      <td>3.389831</td>\n",
       "    </tr>\n",
       "  </tbody>\n",
       "</table>\n",
       "</div>"
      ],
      "text/plain": [
       "              run_duration_ranges  prefix_sum  prefix_sum_percentage\n",
       "(0.0, 10.0]                     0         118             100.000000\n",
       "(10.0, 20.0]                    0         118             100.000000\n",
       "(20.0, 30.0]                   29         118             100.000000\n",
       "(30.0, 40.0]                   23          89              75.423729\n",
       "(40.0, 50.0]                   29          66              55.932203\n",
       "(50.0, 60.0]                   20          37              31.355932\n",
       "(60.0, 70.0]                   13          17              14.406780\n",
       "(70.0, inf]                     4           4               3.389831"
      ]
     },
     "execution_count": 22,
     "metadata": {},
     "output_type": "execute_result"
    }
   ],
   "source": [
    "max_duration = max(f_vc['prefix_sum'])\n",
    "f_vc['prefix_sum_percentage'] = f_vc['prefix_sum'] / max_duration * 100\n",
    "f_vc"
   ]
  },
  {
   "cell_type": "code",
   "execution_count": 23,
   "id": "39c2bca8-a0b6-4d36-94af-c4726e0d9f81",
   "metadata": {},
   "outputs": [],
   "source": [
    "# join dataframes a and b on their index\n",
    "joined = f_vc.join(p_vc, how='outer', lsuffix='_f', rsuffix='_p')"
   ]
  },
  {
   "cell_type": "code",
   "execution_count": 24,
   "id": "6ee7fc85-1ed1-4d8b-897a-4dae310efb8e",
   "metadata": {},
   "outputs": [],
   "source": [
    "total = joined[['prefix_sum_f', 'prefix_sum_p']].sum(axis=1)\n",
    "joined['f_pct'] = joined['prefix_sum_f'] / total * 100\n",
    "joined['p_pct'] = joined['prefix_sum_p'] / total * 100"
   ]
  },
  {
   "cell_type": "code",
   "execution_count": 25,
   "id": "bbd4e618-5b9a-43a0-8e7d-effded7bc154",
   "metadata": {},
   "outputs": [
    {
     "data": {
      "text/plain": [
       "(0.0, 10.0]     54.883721\n",
       "(10.0, 20.0]    54.883721\n",
       "(20.0, 30.0]    54.883721\n",
       "(30.0, 40.0]    58.940397\n",
       "(40.0, 50.0]    73.333333\n",
       "(50.0, 60.0]    75.510204\n",
       "(60.0, 70.0]    73.913043\n",
       "(70.0, inf]     80.000000\n",
       "Name: f_pct, dtype: float64"
      ]
     },
     "execution_count": 25,
     "metadata": {},
     "output_type": "execute_result"
    }
   ],
   "source": [
    "joined['f_pct']"
   ]
  },
  {
   "cell_type": "code",
   "execution_count": 26,
   "id": "eda8fb47-edb0-4f88-9c4d-7ed35cf70c87",
   "metadata": {},
   "outputs": [
    {
     "data": {
      "text/plain": [
       "(0.0, 10.0]     45.116279\n",
       "(10.0, 20.0]    45.116279\n",
       "(20.0, 30.0]    45.116279\n",
       "(30.0, 40.0]    41.059603\n",
       "(40.0, 50.0]    26.666667\n",
       "(50.0, 60.0]    24.489796\n",
       "(60.0, 70.0]    26.086957\n",
       "(70.0, inf]     20.000000\n",
       "Name: p_pct, dtype: float64"
      ]
     },
     "execution_count": 26,
     "metadata": {},
     "output_type": "execute_result"
    }
   ],
   "source": [
    "joined['p_pct']"
   ]
  },
  {
   "cell_type": "code",
   "execution_count": 27,
   "id": "d7c61c3d-76eb-4765-9223-b9cebb9b53d6",
   "metadata": {},
   "outputs": [
    {
     "data": {
      "image/png": "[encoded data removed]",
      "text/plain": [
       "<Figure size 432x288 with 1 Axes>"
      ]
     },
     "metadata": {
      "needs_background": "light"
     },
     "output_type": "display_data"
    }
   ],
   "source": [
    "# plot the two series on the same graph\n",
    "plt.plot(joined.index.astype(str), joined['f_pct'], color='red', label='percent of failure')\n",
    "\n",
    "# set x and y axis labels\n",
    "plt.xlabel('Run duration buckets')\n",
    "plt.ylabel('Percentage of Failure')\n",
    "plt.xticks(rotation=90) \n",
    "\n",
    "# set title and legend\n",
    "plt.title('Chances of a test failing over time')\n",
    "plt.legend()\n",
    "\n",
    "# show the plot\n",
    "plt.show()"
   ]
  },
  {
   "cell_type": "markdown",
   "id": "bea2ba3d-1ea9-44fc-89af-2a5395e608de",
   "metadata": {},
   "source": [
    "This test was more likely to fail than pass since the start. We see that there could be a point beyond which the test is more than 75% likely to fail."
   ]
  },
  {
   "cell_type": "markdown",
   "id": "f947cbbc-f53d-48aa-8255-d6517a62fe49",
   "metadata": {},
   "source": [
    "### Test 2"
   ]
  },
  {
   "cell_type": "code",
   "execution_count": 28,
   "id": "94eddad4-39df-46ac-bcc6-de832542f84e",
   "metadata": {},
   "outputs": [],
   "source": [
    "test_id = \"37149896\" # File linting"
   ]
  },
  {
   "cell_type": "code",
   "execution_count": 29,
   "id": "1f2b86db-2968-4105-a2ab-7084bb555228",
   "metadata": {},
   "outputs": [],
   "source": [
    "passing_train = pd.read_csv(\"../data/processed/{}passing_train.csv\".format(test_id))\n",
    "failing_train = pd.read_csv(\"../data/processed/{}failing_train.csv\".format(test_id))"
   ]
  },
  {
   "cell_type": "code",
   "execution_count": 30,
   "id": "7f281ee2-c6f7-4b7d-8072-060473929be2",
   "metadata": {},
   "outputs": [],
   "source": [
    "ranges = np.arange(0, max(passing_train['run_duration'])+1, 10).tolist()\n",
    "ranges.append(np.inf)"
   ]
  },
  {
   "cell_type": "code",
   "execution_count": 31,
   "id": "e0b4aec3-3b89-4967-a4b5-b70286bb6a04",
   "metadata": {},
   "outputs": [],
   "source": [
    "passing_train['run_duration_ranges'] = pd.cut(passing_train['run_duration'], bins=ranges)\n",
    "failing_train['run_duration_ranges'] = pd.cut(failing_train['run_duration'], bins=ranges)\n",
    "p_vc = pd.DataFrame(passing_train['run_duration_ranges'].value_counts().sort_index())\n",
    "f_vc = pd.DataFrame(failing_train['run_duration_ranges'].value_counts().sort_index())"
   ]
  },
  {
   "cell_type": "code",
   "execution_count": 32,
   "id": "002a066c-d0f5-41e6-b41c-400e828a615f",
   "metadata": {},
   "outputs": [
    {
     "data": {
      "image/png": "[encoded data removed]",
      "text/plain": [
       "<Figure size 432x288 with 1 Axes>"
      ]
     },
     "metadata": {
      "needs_background": "light"
     },
     "output_type": "display_data"
    }
   ],
   "source": [
    "plt.bar(p_vc.index.astype(str), p_vc['run_duration_ranges'].values)\n",
    "\n",
    "# set the x-axis label and title\n",
    "plt.xlabel('Run Duration Ranges')\n",
    "plt.title('Histogram of Run Duration Ranges')\n",
    "plt.xticks(rotation=90) \n",
    "\n",
    "# display the plot\n",
    "plt.show()"
   ]
  },
  {
   "cell_type": "code",
   "execution_count": 33,
   "id": "e5edee16-bc54-446a-b070-a2539948b50e",
   "metadata": {},
   "outputs": [
    {
     "data": {
      "image/png": "[encoded data removed]",
      "text/plain": [
       "<Figure size 432x288 with 1 Axes>"
      ]
     },
     "metadata": {
      "needs_background": "light"
     },
     "output_type": "display_data"
    }
   ],
   "source": [
    "plt.bar(f_vc.index.astype(str), f_vc['run_duration_ranges'].values)\n",
    "\n",
    "# set the x-axis label and title\n",
    "plt.xlabel('Run Duration Ranges')\n",
    "plt.title('Histogram of Run Duration Ranges')\n",
    "plt.xticks(rotation=90) \n",
    "\n",
    "# display the plot\n",
    "plt.show()"
   ]
  },
  {
   "cell_type": "code",
   "execution_count": 34,
   "id": "5d0e8b2e-9a18-4b4c-a77d-59c11eddcdc2",
   "metadata": {},
   "outputs": [],
   "source": [
    "p_vc['prefix_sum'] = p_vc['run_duration_ranges'][::-1].cumsum()[::-1]\n",
    "f_vc['prefix_sum'] = f_vc['run_duration_ranges'][::-1].cumsum()[::-1]"
   ]
  },
  {
   "cell_type": "code",
   "execution_count": 35,
   "id": "5c013949-13c2-4666-9658-b195cfa731ea",
   "metadata": {},
   "outputs": [
    {
     "data": {
      "text/html": [
       "<div>\n",
       "<style scoped>\n",
       "    .dataframe tbody tr th:only-of-type {\n",
       "        vertical-align: middle;\n",
       "    }\n",
       "\n",
       "    .dataframe tbody tr th {\n",
       "        vertical-align: top;\n",
       "    }\n",
       "\n",
       "    .dataframe thead th {\n",
       "        text-align: right;\n",
       "    }\n",
       "</style>\n",
       "<table border=\"1\" class=\"dataframe\">\n",
       "  <thead>\n",
       "    <tr style=\"text-align: right;\">\n",
       "      <th></th>\n",
       "      <th>run_duration_ranges</th>\n",
       "      <th>prefix_sum</th>\n",
       "      <th>prefix_sum_percentage</th>\n",
       "    </tr>\n",
       "  </thead>\n",
       "  <tbody>\n",
       "    <tr>\n",
       "      <th>(0.0, 10.0]</th>\n",
       "      <td>0</td>\n",
       "      <td>109</td>\n",
       "      <td>100.000000</td>\n",
       "    </tr>\n",
       "    <tr>\n",
       "      <th>(10.0, 20.0]</th>\n",
       "      <td>84</td>\n",
       "      <td>109</td>\n",
       "      <td>100.000000</td>\n",
       "    </tr>\n",
       "    <tr>\n",
       "      <th>(20.0, 30.0]</th>\n",
       "      <td>24</td>\n",
       "      <td>25</td>\n",
       "      <td>22.935780</td>\n",
       "    </tr>\n",
       "    <tr>\n",
       "      <th>(30.0, 40.0]</th>\n",
       "      <td>0</td>\n",
       "      <td>1</td>\n",
       "      <td>0.917431</td>\n",
       "    </tr>\n",
       "    <tr>\n",
       "      <th>(40.0, inf]</th>\n",
       "      <td>1</td>\n",
       "      <td>1</td>\n",
       "      <td>0.917431</td>\n",
       "    </tr>\n",
       "  </tbody>\n",
       "</table>\n",
       "</div>"
      ],
      "text/plain": [
       "              run_duration_ranges  prefix_sum  prefix_sum_percentage\n",
       "(0.0, 10.0]                     0         109             100.000000\n",
       "(10.0, 20.0]                   84         109             100.000000\n",
       "(20.0, 30.0]                   24          25              22.935780\n",
       "(30.0, 40.0]                    0           1               0.917431\n",
       "(40.0, inf]                     1           1               0.917431"
      ]
     },
     "execution_count": 35,
     "metadata": {},
     "output_type": "execute_result"
    }
   ],
   "source": [
    "max_duration = max(p_vc['prefix_sum'])\n",
    "p_vc['prefix_sum_percentage'] = p_vc['prefix_sum'] / max_duration * 100\n",
    "p_vc"
   ]
  },
  {
   "cell_type": "code",
   "execution_count": 36,
   "id": "cef23e5d-fc91-4a5a-bde5-ee4c8408bece",
   "metadata": {},
   "outputs": [
    {
     "data": {
      "text/html": [
       "<div>\n",
       "<style scoped>\n",
       "    .dataframe tbody tr th:only-of-type {\n",
       "        vertical-align: middle;\n",
       "    }\n",
       "\n",
       "    .dataframe tbody tr th {\n",
       "        vertical-align: top;\n",
       "    }\n",
       "\n",
       "    .dataframe thead th {\n",
       "        text-align: right;\n",
       "    }\n",
       "</style>\n",
       "<table border=\"1\" class=\"dataframe\">\n",
       "  <thead>\n",
       "    <tr style=\"text-align: right;\">\n",
       "      <th></th>\n",
       "      <th>run_duration_ranges</th>\n",
       "      <th>prefix_sum</th>\n",
       "      <th>prefix_sum_percentage</th>\n",
       "    </tr>\n",
       "  </thead>\n",
       "  <tbody>\n",
       "    <tr>\n",
       "      <th>(0.0, 10.0]</th>\n",
       "      <td>0</td>\n",
       "      <td>10</td>\n",
       "      <td>100.0</td>\n",
       "    </tr>\n",
       "    <tr>\n",
       "      <th>(10.0, 20.0]</th>\n",
       "      <td>5</td>\n",
       "      <td>10</td>\n",
       "      <td>100.0</td>\n",
       "    </tr>\n",
       "    <tr>\n",
       "      <th>(20.0, 30.0]</th>\n",
       "      <td>4</td>\n",
       "      <td>5</td>\n",
       "      <td>50.0</td>\n",
       "    </tr>\n",
       "    <tr>\n",
       "      <th>(30.0, 40.0]</th>\n",
       "      <td>1</td>\n",
       "      <td>1</td>\n",
       "      <td>10.0</td>\n",
       "    </tr>\n",
       "    <tr>\n",
       "      <th>(40.0, inf]</th>\n",
       "      <td>0</td>\n",
       "      <td>0</td>\n",
       "      <td>0.0</td>\n",
       "    </tr>\n",
       "  </tbody>\n",
       "</table>\n",
       "</div>"
      ],
      "text/plain": [
       "              run_duration_ranges  prefix_sum  prefix_sum_percentage\n",
       "(0.0, 10.0]                     0          10                  100.0\n",
       "(10.0, 20.0]                    5          10                  100.0\n",
       "(20.0, 30.0]                    4           5                   50.0\n",
       "(30.0, 40.0]                    1           1                   10.0\n",
       "(40.0, inf]                     0           0                    0.0"
      ]
     },
     "execution_count": 36,
     "metadata": {},
     "output_type": "execute_result"
    }
   ],
   "source": [
    "max_duration = max(f_vc['prefix_sum'])\n",
    "f_vc['prefix_sum_percentage'] = f_vc['prefix_sum'] / max_duration * 100\n",
    "f_vc"
   ]
  },
  {
   "cell_type": "code",
   "execution_count": 37,
   "id": "41697171-5f0b-4a65-9fb2-1e3cce34198a",
   "metadata": {},
   "outputs": [],
   "source": [
    "# join dataframes a and b on their index\n",
    "joined = f_vc.join(p_vc, how='outer', lsuffix='_f', rsuffix='_p')\n",
    "\n",
    "total = joined[['prefix_sum_f', 'prefix_sum_p']].sum(axis=1)\n",
    "joined['f_pct'] = joined['prefix_sum_f'] / total * 100\n",
    "joined['p_pct'] = joined['prefix_sum_p'] / total * 100"
   ]
  },
  {
   "cell_type": "code",
   "execution_count": 38,
   "id": "5405a153-c355-4cac-831b-0f4b62275fb4",
   "metadata": {},
   "outputs": [
    {
     "data": {
      "image/png": "[encoded data removed]",
      "text/plain": [
       "<Figure size 432x288 with 1 Axes>"
      ]
     },
     "metadata": {
      "needs_background": "light"
     },
     "output_type": "display_data"
    }
   ],
   "source": [
    "# plot the two series on the same graph\n",
    "plt.plot(joined.index.astype(str), joined['f_pct'], color='red', label='percent of failure')\n",
    "\n",
    "# set x and y axis labels\n",
    "plt.xlabel('Run duration buckets')\n",
    "plt.ylabel('Percentage of Failure')\n",
    "plt.xticks(rotation=90) \n",
    "\n",
    "# set title and legend\n",
    "plt.title('Chances of a test failing over time')\n",
    "plt.legend()\n",
    "\n",
    "# show the plot\n",
    "plt.show()"
   ]
  },
  {
   "cell_type": "markdown",
   "id": "49030fc8-25b2-41d1-a76d-93a5c30febf8",
   "metadata": {},
   "source": [
    "For this test however there is never a point beyond which is it is more than 50% likely to fail. No optimal stopping point exists for this"
   ]
  },
  {
   "cell_type": "markdown",
   "id": "e8d9238c-61ee-4c74-91f7-e59beb6a99de",
   "metadata": {},
   "source": [
    "### Test 3"
   ]
  },
  {
   "cell_type": "code",
   "execution_count": 39,
   "id": "312197ac-f8e1-4809-9150-b2d73db871a7",
   "metadata": {},
   "outputs": [],
   "source": [
    "test_id = \"37149895\" # Spell Check"
   ]
  },
  {
   "cell_type": "code",
   "execution_count": 40,
   "id": "14c66d99-1e9d-4217-b972-3f62730e8d1d",
   "metadata": {},
   "outputs": [],
   "source": [
    "passing_train = pd.read_csv(\"../data/processed/{}passing_train.csv\".format(test_id))\n",
    "failing_train = pd.read_csv(\"../data/processed/{}failing_train.csv\".format(test_id))"
   ]
  },
  {
   "cell_type": "code",
   "execution_count": 41,
   "id": "aa70f554-47ff-477e-af99-36c674f3f46f",
   "metadata": {},
   "outputs": [],
   "source": [
    "ranges = np.arange(0, max(passing_train['run_duration'])+1, 10).tolist()\n",
    "ranges.append(np.inf)\n",
    "passing_train['run_duration_ranges'] = pd.cut(passing_train['run_duration'], bins=ranges)\n",
    "failing_train['run_duration_ranges'] = pd.cut(failing_train['run_duration'], bins=ranges)\n",
    "p_vc = pd.DataFrame(passing_train['run_duration_ranges'].value_counts().sort_index())\n",
    "f_vc = pd.DataFrame(failing_train['run_duration_ranges'].value_counts().sort_index())"
   ]
  },
  {
   "cell_type": "code",
   "execution_count": 42,
   "id": "5fe127a2-b58a-4bf1-a42a-f7592c499f52",
   "metadata": {},
   "outputs": [
    {
     "data": {
      "image/png": "[encoded data removed]",
      "text/plain": [
       "<Figure size 432x288 with 1 Axes>"
      ]
     },
     "metadata": {
      "needs_background": "light"
     },
     "output_type": "display_data"
    }
   ],
   "source": [
    "plt.bar(p_vc.index.astype(str), p_vc['run_duration_ranges'].values)\n",
    "\n",
    "# set the x-axis label and title\n",
    "plt.xlabel('Run Duration Ranges')\n",
    "plt.title('Histogram of Run Duration Ranges')\n",
    "plt.xticks(rotation=90) \n",
    "\n",
    "# display the plot\n",
    "plt.show()"
   ]
  },
  {
   "cell_type": "code",
   "execution_count": 43,
   "id": "617f09b1-7af2-402d-8cfb-359c79afbeb7",
   "metadata": {},
   "outputs": [
    {
     "data": {
      "image/png": "[encoded data removed]",
      "text/plain": [
       "<Figure size 432x288 with 1 Axes>"
      ]
     },
     "metadata": {
      "needs_background": "light"
     },
     "output_type": "display_data"
    }
   ],
   "source": [
    "plt.bar(f_vc.index.astype(str), f_vc['run_duration_ranges'].values)\n",
    "\n",
    "# set the x-axis label and title\n",
    "plt.xlabel('Run Duration Ranges')\n",
    "plt.title('Histogram of Run Duration Ranges')\n",
    "plt.xticks(rotation=90) \n",
    "\n",
    "# display the plot\n",
    "plt.show()"
   ]
  },
  {
   "cell_type": "code",
   "execution_count": 44,
   "id": "f46853a5-8e8a-4b31-860b-75841b250b89",
   "metadata": {},
   "outputs": [],
   "source": [
    "p_vc['prefix_sum'] = p_vc['run_duration_ranges'][::-1].cumsum()[::-1]\n",
    "f_vc['prefix_sum'] = f_vc['run_duration_ranges'][::-1].cumsum()[::-1]"
   ]
  },
  {
   "cell_type": "code",
   "execution_count": 45,
   "id": "26f71648-5ff0-4249-8c57-cd9c02983bf4",
   "metadata": {},
   "outputs": [
    {
     "data": {
      "text/html": [
       "<div>\n",
       "<style scoped>\n",
       "    .dataframe tbody tr th:only-of-type {\n",
       "        vertical-align: middle;\n",
       "    }\n",
       "\n",
       "    .dataframe tbody tr th {\n",
       "        vertical-align: top;\n",
       "    }\n",
       "\n",
       "    .dataframe thead th {\n",
       "        text-align: right;\n",
       "    }\n",
       "</style>\n",
       "<table border=\"1\" class=\"dataframe\">\n",
       "  <thead>\n",
       "    <tr style=\"text-align: right;\">\n",
       "      <th></th>\n",
       "      <th>run_duration_ranges</th>\n",
       "      <th>prefix_sum</th>\n",
       "      <th>prefix_sum_percentage</th>\n",
       "    </tr>\n",
       "  </thead>\n",
       "  <tbody>\n",
       "    <tr>\n",
       "      <th>(0.0, 10.0]</th>\n",
       "      <td>0</td>\n",
       "      <td>95</td>\n",
       "      <td>100.000000</td>\n",
       "    </tr>\n",
       "    <tr>\n",
       "      <th>(10.0, 20.0]</th>\n",
       "      <td>15</td>\n",
       "      <td>95</td>\n",
       "      <td>100.000000</td>\n",
       "    </tr>\n",
       "    <tr>\n",
       "      <th>(20.0, 30.0]</th>\n",
       "      <td>73</td>\n",
       "      <td>80</td>\n",
       "      <td>84.210526</td>\n",
       "    </tr>\n",
       "    <tr>\n",
       "      <th>(30.0, inf]</th>\n",
       "      <td>7</td>\n",
       "      <td>7</td>\n",
       "      <td>7.368421</td>\n",
       "    </tr>\n",
       "  </tbody>\n",
       "</table>\n",
       "</div>"
      ],
      "text/plain": [
       "              run_duration_ranges  prefix_sum  prefix_sum_percentage\n",
       "(0.0, 10.0]                     0          95             100.000000\n",
       "(10.0, 20.0]                   15          95             100.000000\n",
       "(20.0, 30.0]                   73          80              84.210526\n",
       "(30.0, inf]                     7           7               7.368421"
      ]
     },
     "execution_count": 45,
     "metadata": {},
     "output_type": "execute_result"
    }
   ],
   "source": [
    "max_duration = max(p_vc['prefix_sum'])\n",
    "p_vc['prefix_sum_percentage'] = p_vc['prefix_sum'] / max_duration * 100\n",
    "p_vc"
   ]
  },
  {
   "cell_type": "code",
   "execution_count": 46,
   "id": "fa3616bc-7a58-4cf5-9abe-35f338be1a46",
   "metadata": {},
   "outputs": [
    {
     "data": {
      "text/html": [
       "<div>\n",
       "<style scoped>\n",
       "    .dataframe tbody tr th:only-of-type {\n",
       "        vertical-align: middle;\n",
       "    }\n",
       "\n",
       "    .dataframe tbody tr th {\n",
       "        vertical-align: top;\n",
       "    }\n",
       "\n",
       "    .dataframe thead th {\n",
       "        text-align: right;\n",
       "    }\n",
       "</style>\n",
       "<table border=\"1\" class=\"dataframe\">\n",
       "  <thead>\n",
       "    <tr style=\"text-align: right;\">\n",
       "      <th></th>\n",
       "      <th>run_duration_ranges</th>\n",
       "      <th>prefix_sum</th>\n",
       "      <th>prefix_sum_percentage</th>\n",
       "    </tr>\n",
       "  </thead>\n",
       "  <tbody>\n",
       "    <tr>\n",
       "      <th>(0.0, 10.0]</th>\n",
       "      <td>0</td>\n",
       "      <td>24</td>\n",
       "      <td>100.000000</td>\n",
       "    </tr>\n",
       "    <tr>\n",
       "      <th>(10.0, 20.0]</th>\n",
       "      <td>8</td>\n",
       "      <td>24</td>\n",
       "      <td>100.000000</td>\n",
       "    </tr>\n",
       "    <tr>\n",
       "      <th>(20.0, 30.0]</th>\n",
       "      <td>14</td>\n",
       "      <td>16</td>\n",
       "      <td>66.666667</td>\n",
       "    </tr>\n",
       "    <tr>\n",
       "      <th>(30.0, inf]</th>\n",
       "      <td>2</td>\n",
       "      <td>2</td>\n",
       "      <td>8.333333</td>\n",
       "    </tr>\n",
       "  </tbody>\n",
       "</table>\n",
       "</div>"
      ],
      "text/plain": [
       "              run_duration_ranges  prefix_sum  prefix_sum_percentage\n",
       "(0.0, 10.0]                     0          24             100.000000\n",
       "(10.0, 20.0]                    8          24             100.000000\n",
       "(20.0, 30.0]                   14          16              66.666667\n",
       "(30.0, inf]                     2           2               8.333333"
      ]
     },
     "execution_count": 46,
     "metadata": {},
     "output_type": "execute_result"
    }
   ],
   "source": [
    "max_duration = max(f_vc['prefix_sum'])\n",
    "f_vc['prefix_sum_percentage'] = f_vc['prefix_sum'] / max_duration * 100\n",
    "f_vc"
   ]
  },
  {
   "cell_type": "code",
   "execution_count": 47,
   "id": "8ef243fe-4fc7-4d1e-a9a2-a60cad698339",
   "metadata": {},
   "outputs": [],
   "source": [
    "# join dataframes a and b on their index\n",
    "joined = f_vc.join(p_vc, how='outer', lsuffix='_f', rsuffix='_p')\n",
    "\n",
    "total = joined[['prefix_sum_f', 'prefix_sum_p']].sum(axis=1)\n",
    "joined['f_pct'] = joined['prefix_sum_f'] / total * 100\n",
    "joined['p_pct'] = joined['prefix_sum_p'] / total * 100"
   ]
  },
  {
   "cell_type": "code",
   "execution_count": 48,
   "id": "6d9b5da3-21d6-43c0-a237-67e74fb582cd",
   "metadata": {},
   "outputs": [
    {
     "data": {
      "image/png": "[encoded data removed]",
      "text/plain": [
       "<Figure size 432x288 with 1 Axes>"
      ]
     },
     "metadata": {
      "needs_background": "light"
     },
     "output_type": "display_data"
    }
   ],
   "source": [
    "# plot the two series on the same graph\n",
    "plt.plot(joined.index.astype(str), joined['f_pct'], color='red', label='percent of failure')\n",
    "\n",
    "# set x and y axis labels\n",
    "plt.xlabel('Run duration buckets')\n",
    "plt.ylabel('Percentage of Failure')\n",
    "plt.xticks(rotation=90) \n",
    "\n",
    "# set title and legend\n",
    "plt.title('Chances of a test failing over time')\n",
    "plt.legend()\n",
    "\n",
    "# show the plot\n",
    "plt.show()"
   ]
  },
  {
   "cell_type": "markdown",
   "id": "2283c2da-308e-4925-b367-9f9d561dbcc8",
   "metadata": {},
   "source": [
    "In the above graph we see that the likelihood of a test failing is very low. The above graph is largely impacted by the number of passing and failing tests amongst all tests ie it is impacted by the number of passes and failures.\n",
    "\n",
    "If we want to ignore the aspect of the number of tests passing and failing and only focus on the trend within the failing tests and the trens within the passing tests, we can normalize the tests. Lets see how that graph looks."
   ]
  },
  {
   "cell_type": "code",
   "execution_count": 49,
   "id": "de79bd0b-fb01-479a-900b-e4a656f2b07e",
   "metadata": {},
   "outputs": [],
   "source": [
    "scaler = MinMaxScaler()\n",
    "\n",
    "p_vc['run_duration_ranges'] =  scaler.fit_transform(p_vc[['run_duration_ranges']])\n",
    "f_vc['run_duration_ranges'] = scaler.fit_transform(f_vc[['run_duration_ranges']])"
   ]
  },
  {
   "cell_type": "code",
   "execution_count": 50,
   "id": "6a866bbc-069c-4f57-9256-a0c0cdd24cd7",
   "metadata": {},
   "outputs": [],
   "source": [
    "p_vc['prefix_sum'] = p_vc['run_duration_ranges'][::-1].cumsum()[::-1]\n",
    "f_vc['prefix_sum'] = f_vc['run_duration_ranges'][::-1].cumsum()[::-1]"
   ]
  },
  {
   "cell_type": "code",
   "execution_count": 51,
   "id": "5cdb3a1b-5cb5-4891-9b5c-c9c71e50ec85",
   "metadata": {},
   "outputs": [],
   "source": [
    "# join dataframes a and b on their index\n",
    "joined = f_vc.join(p_vc, how='outer', lsuffix='_f', rsuffix='_p')\n",
    "\n",
    "total = joined[['prefix_sum_f', 'prefix_sum_p']].sum(axis=1)\n",
    "joined['f_pct'] = joined['prefix_sum_f'] / total * 100\n",
    "joined['p_pct'] = joined['prefix_sum_p'] / total * 100"
   ]
  },
  {
   "cell_type": "code",
   "execution_count": 52,
   "id": "fdda4aff-246c-4945-9cc2-c2b9ca4514ba",
   "metadata": {},
   "outputs": [
    {
     "data": {
      "image/png": "[encoded data removed]",
      "text/plain": [
       "<Figure size 720x432 with 1 Axes>"
      ]
     },
     "metadata": {
      "needs_background": "light"
     },
     "output_type": "display_data"
    }
   ],
   "source": [
    "# plot the two series on the same graph\n",
    "\n",
    "tick_spacing = 200\n",
    "\n",
    "plt.figure(figsize=(10, 6))\n",
    "plt.plot(joined.index.astype(str), joined['f_pct'], color='red', label='percent of failure')\n",
    "\n",
    "# set x and y axis labels\n",
    "plt.xlabel('Run duration buckets')\n",
    "plt.ylabel('Percentage of failing')\n",
    "plt.xticks(rotation=90)\n",
    "plt.xticks(np.arange(0, len(joined.index.astype(str)), tick_spacing), joined.index.astype(str)[::tick_spacing])\n",
    "\n",
    "# set title and legend\n",
    "plt.title('Chances of a test failing over time')\n",
    "plt.legend()\n",
    "\n",
    "# show the plot\n",
    "plt.show()"
   ]
  },
  {
   "cell_type": "markdown",
   "id": "7a66c20b-e916-421a-b7a5-ad00fd1f45a1",
   "metadata": {},
   "source": [
    "Upon normalizing, we see that the failure percentage has increased coz now the result is less impacted by the absolute number of passing and failing tests. But the chances of failure is never more than 60%"
   ]
  },
  {
   "cell_type": "markdown",
   "id": "36efb68b-889d-4e59-b3a8-02d2f3cc6638",
   "metadata": {},
   "source": [
    "### Test 4: Lets do this for a much larger test dataset"
   ]
  },
  {
   "cell_type": "code",
   "execution_count": 53,
   "id": "2c67b65f-88df-4c82-b0aa-71cc37524f5e",
   "metadata": {},
   "outputs": [],
   "source": [
    "# From the repo https://github.com/github/codeql\n",
    "test_id = \"39411153\" #\"Compile all queries using the latest stable CodeQL CLI\""
   ]
  },
  {
   "cell_type": "code",
   "execution_count": 54,
   "id": "d30e1017-9d4f-4073-b653-7186501c8a1b",
   "metadata": {},
   "outputs": [],
   "source": [
    "passing_train = pd.read_csv(\"../data/processed/{}passing_train.csv\".format(test_id))\n",
    "failing_train = pd.read_csv(\"../data/processed/{}failing_train.csv\".format(test_id))"
   ]
  },
  {
   "cell_type": "code",
   "execution_count": 55,
   "id": "98c441ca-5da2-4ac6-b6bd-2a549c905631",
   "metadata": {},
   "outputs": [],
   "source": [
    "# bucketing into 30 second intervals\n",
    "\n",
    "ranges = np.arange(0, max(passing_train['run_duration'])+1, 30).tolist()\n",
    "ranges.append(np.inf)\n",
    "passing_train['run_duration_ranges'] = pd.cut(passing_train['run_duration'], bins=ranges)\n",
    "failing_train['run_duration_ranges'] = pd.cut(failing_train['run_duration'], bins=ranges)\n",
    "p_vc = pd.DataFrame(passing_train['run_duration_ranges'].value_counts().sort_index())\n",
    "f_vc = pd.DataFrame(failing_train['run_duration_ranges'].value_counts().sort_index())"
   ]
  },
  {
   "cell_type": "markdown",
   "id": "031f565b-4531-4e3a-8bee-31cb7567f6c6",
   "metadata": {},
   "source": [
    "---------------------"
   ]
  },
  {
   "cell_type": "markdown",
   "id": "435906d3-62a3-4092-bf11-a63900681298",
   "metadata": {},
   "source": [
    "#### IQR method to remove outliers"
   ]
  },
  {
   "cell_type": "code",
   "execution_count": 56,
   "id": "473eaad4-7913-430b-b714-06558f922b39",
   "metadata": {},
   "outputs": [],
   "source": [
    "## Mostly thinking of removing this part, just kept it for now if we need to test out the methods after removing outliers"
   ]
  },
  {
   "cell_type": "code",
   "execution_count": 57,
   "id": "88725452-d8dd-4850-8418-194dcb3de139",
   "metadata": {},
   "outputs": [],
   "source": [
    "# q1 = passing_train['run_duration'].describe()['25%']\n",
    "# q3 = passing_train['run_duration'].describe()['75%']\n",
    "# iqr = q3 - q1\n",
    "# outlier_threshold = q3 + 6.0 * iqr"
   ]
  },
  {
   "cell_type": "code",
   "execution_count": 58,
   "id": "c706ef0c-370c-4a98-88de-92e806ef49a3",
   "metadata": {},
   "outputs": [],
   "source": [
    "# ranges = np.arange(0, int(outlier_threshold)+1, 30).tolist()\n",
    "# ranges.append(np.inf)\n",
    "# passing_train['run_duration_ranges'] = pd.cut(passing_train['run_duration'], bins=ranges)\n",
    "# failing_train['run_duration_ranges'] = pd.cut(failing_train['run_duration'], bins=ranges)\n",
    "# p_vc = pd.DataFrame(passing_train['run_duration_ranges'].value_counts().sort_index())\n",
    "# f_vc = pd.DataFrame(failing_train['run_duration_ranges'].value_counts().sort_index())"
   ]
  },
  {
   "cell_type": "markdown",
   "id": "a57c1062-92e3-4711-bd5e-4ff68d906ce5",
   "metadata": {},
   "source": [
    "------------------"
   ]
  },
  {
   "cell_type": "code",
   "execution_count": 59,
   "id": "41d58961-2322-4fc1-92cb-36a0e0d8ba4b",
   "metadata": {},
   "outputs": [],
   "source": [
    "p_vc['prefix_sum'] = p_vc['run_duration_ranges'][::-1].cumsum()[::-1]\n",
    "f_vc['prefix_sum'] = f_vc['run_duration_ranges'][::-1].cumsum()[::-1]"
   ]
  },
  {
   "cell_type": "code",
   "execution_count": 60,
   "id": "b9fea6ac-1c82-4e9c-9c87-13594e8bc858",
   "metadata": {},
   "outputs": [
    {
     "data": {
      "text/html": [
       "<div>\n",
       "<style scoped>\n",
       "    .dataframe tbody tr th:only-of-type {\n",
       "        vertical-align: middle;\n",
       "    }\n",
       "\n",
       "    .dataframe tbody tr th {\n",
       "        vertical-align: top;\n",
       "    }\n",
       "\n",
       "    .dataframe thead th {\n",
       "        text-align: right;\n",
       "    }\n",
       "</style>\n",
       "<table border=\"1\" class=\"dataframe\">\n",
       "  <thead>\n",
       "    <tr style=\"text-align: right;\">\n",
       "      <th></th>\n",
       "      <th>run_duration_ranges</th>\n",
       "      <th>prefix_sum</th>\n",
       "      <th>prefix_sum_percentage</th>\n",
       "    </tr>\n",
       "  </thead>\n",
       "  <tbody>\n",
       "    <tr>\n",
       "      <th>(0.0, 30.0]</th>\n",
       "      <td>0</td>\n",
       "      <td>4590</td>\n",
       "      <td>100.000000</td>\n",
       "    </tr>\n",
       "    <tr>\n",
       "      <th>(30.0, 60.0]</th>\n",
       "      <td>0</td>\n",
       "      <td>4590</td>\n",
       "      <td>100.000000</td>\n",
       "    </tr>\n",
       "    <tr>\n",
       "      <th>(60.0, 90.0]</th>\n",
       "      <td>6</td>\n",
       "      <td>4590</td>\n",
       "      <td>100.000000</td>\n",
       "    </tr>\n",
       "    <tr>\n",
       "      <th>(90.0, 120.0]</th>\n",
       "      <td>97</td>\n",
       "      <td>4584</td>\n",
       "      <td>99.869281</td>\n",
       "    </tr>\n",
       "    <tr>\n",
       "      <th>(120.0, 150.0]</th>\n",
       "      <td>591</td>\n",
       "      <td>4487</td>\n",
       "      <td>97.755991</td>\n",
       "    </tr>\n",
       "    <tr>\n",
       "      <th>...</th>\n",
       "      <td>...</td>\n",
       "      <td>...</td>\n",
       "      <td>...</td>\n",
       "    </tr>\n",
       "    <tr>\n",
       "      <th>(524460.0, 524490.0]</th>\n",
       "      <td>0</td>\n",
       "      <td>1</td>\n",
       "      <td>0.021786</td>\n",
       "    </tr>\n",
       "    <tr>\n",
       "      <th>(524490.0, 524520.0]</th>\n",
       "      <td>0</td>\n",
       "      <td>1</td>\n",
       "      <td>0.021786</td>\n",
       "    </tr>\n",
       "    <tr>\n",
       "      <th>(524520.0, 524550.0]</th>\n",
       "      <td>0</td>\n",
       "      <td>1</td>\n",
       "      <td>0.021786</td>\n",
       "    </tr>\n",
       "    <tr>\n",
       "      <th>(524550.0, 524580.0]</th>\n",
       "      <td>0</td>\n",
       "      <td>1</td>\n",
       "      <td>0.021786</td>\n",
       "    </tr>\n",
       "    <tr>\n",
       "      <th>(524580.0, inf]</th>\n",
       "      <td>1</td>\n",
       "      <td>1</td>\n",
       "      <td>0.021786</td>\n",
       "    </tr>\n",
       "  </tbody>\n",
       "</table>\n",
       "<p>17487 rows × 3 columns</p>\n",
       "</div>"
      ],
      "text/plain": [
       "                      run_duration_ranges  prefix_sum  prefix_sum_percentage\n",
       "(0.0, 30.0]                             0        4590             100.000000\n",
       "(30.0, 60.0]                            0        4590             100.000000\n",
       "(60.0, 90.0]                            6        4590             100.000000\n",
       "(90.0, 120.0]                          97        4584              99.869281\n",
       "(120.0, 150.0]                        591        4487              97.755991\n",
       "...                                   ...         ...                    ...\n",
       "(524460.0, 524490.0]                    0           1               0.021786\n",
       "(524490.0, 524520.0]                    0           1               0.021786\n",
       "(524520.0, 524550.0]                    0           1               0.021786\n",
       "(524550.0, 524580.0]                    0           1               0.021786\n",
       "(524580.0, inf]                         1           1               0.021786\n",
       "\n",
       "[17487 rows x 3 columns]"
      ]
     },
     "execution_count": 60,
     "metadata": {},
     "output_type": "execute_result"
    }
   ],
   "source": [
    "max_duration = max(p_vc['prefix_sum'])\n",
    "p_vc['prefix_sum_percentage'] = p_vc['prefix_sum'] / max_duration * 100\n",
    "p_vc"
   ]
  },
  {
   "cell_type": "code",
   "execution_count": 61,
   "id": "d95c74d6-0871-4a36-9846-0af227d11bf0",
   "metadata": {},
   "outputs": [
    {
     "data": {
      "text/html": [
       "<div>\n",
       "<style scoped>\n",
       "    .dataframe tbody tr th:only-of-type {\n",
       "        vertical-align: middle;\n",
       "    }\n",
       "\n",
       "    .dataframe tbody tr th {\n",
       "        vertical-align: top;\n",
       "    }\n",
       "\n",
       "    .dataframe thead th {\n",
       "        text-align: right;\n",
       "    }\n",
       "</style>\n",
       "<table border=\"1\" class=\"dataframe\">\n",
       "  <thead>\n",
       "    <tr style=\"text-align: right;\">\n",
       "      <th></th>\n",
       "      <th>run_duration_ranges</th>\n",
       "      <th>prefix_sum</th>\n",
       "      <th>prefix_sum_percentage</th>\n",
       "    </tr>\n",
       "  </thead>\n",
       "  <tbody>\n",
       "    <tr>\n",
       "      <th>(0.0, 30.0]</th>\n",
       "      <td>7</td>\n",
       "      <td>374</td>\n",
       "      <td>100.000000</td>\n",
       "    </tr>\n",
       "    <tr>\n",
       "      <th>(30.0, 60.0]</th>\n",
       "      <td>32</td>\n",
       "      <td>367</td>\n",
       "      <td>98.128342</td>\n",
       "    </tr>\n",
       "    <tr>\n",
       "      <th>(60.0, 90.0]</th>\n",
       "      <td>72</td>\n",
       "      <td>335</td>\n",
       "      <td>89.572193</td>\n",
       "    </tr>\n",
       "    <tr>\n",
       "      <th>(90.0, 120.0]</th>\n",
       "      <td>53</td>\n",
       "      <td>263</td>\n",
       "      <td>70.320856</td>\n",
       "    </tr>\n",
       "    <tr>\n",
       "      <th>(120.0, 150.0]</th>\n",
       "      <td>56</td>\n",
       "      <td>210</td>\n",
       "      <td>56.149733</td>\n",
       "    </tr>\n",
       "    <tr>\n",
       "      <th>...</th>\n",
       "      <td>...</td>\n",
       "      <td>...</td>\n",
       "      <td>...</td>\n",
       "    </tr>\n",
       "    <tr>\n",
       "      <th>(524460.0, 524490.0]</th>\n",
       "      <td>0</td>\n",
       "      <td>2</td>\n",
       "      <td>0.534759</td>\n",
       "    </tr>\n",
       "    <tr>\n",
       "      <th>(524490.0, 524520.0]</th>\n",
       "      <td>0</td>\n",
       "      <td>2</td>\n",
       "      <td>0.534759</td>\n",
       "    </tr>\n",
       "    <tr>\n",
       "      <th>(524520.0, 524550.0]</th>\n",
       "      <td>0</td>\n",
       "      <td>2</td>\n",
       "      <td>0.534759</td>\n",
       "    </tr>\n",
       "    <tr>\n",
       "      <th>(524550.0, 524580.0]</th>\n",
       "      <td>0</td>\n",
       "      <td>2</td>\n",
       "      <td>0.534759</td>\n",
       "    </tr>\n",
       "    <tr>\n",
       "      <th>(524580.0, inf]</th>\n",
       "      <td>2</td>\n",
       "      <td>2</td>\n",
       "      <td>0.534759</td>\n",
       "    </tr>\n",
       "  </tbody>\n",
       "</table>\n",
       "<p>17487 rows × 3 columns</p>\n",
       "</div>"
      ],
      "text/plain": [
       "                      run_duration_ranges  prefix_sum  prefix_sum_percentage\n",
       "(0.0, 30.0]                             7         374             100.000000\n",
       "(30.0, 60.0]                           32         367              98.128342\n",
       "(60.0, 90.0]                           72         335              89.572193\n",
       "(90.0, 120.0]                          53         263              70.320856\n",
       "(120.0, 150.0]                         56         210              56.149733\n",
       "...                                   ...         ...                    ...\n",
       "(524460.0, 524490.0]                    0           2               0.534759\n",
       "(524490.0, 524520.0]                    0           2               0.534759\n",
       "(524520.0, 524550.0]                    0           2               0.534759\n",
       "(524550.0, 524580.0]                    0           2               0.534759\n",
       "(524580.0, inf]                         2           2               0.534759\n",
       "\n",
       "[17487 rows x 3 columns]"
      ]
     },
     "execution_count": 61,
     "metadata": {},
     "output_type": "execute_result"
    }
   ],
   "source": [
    "max_duration = max(f_vc['prefix_sum'])\n",
    "f_vc['prefix_sum_percentage'] = f_vc['prefix_sum'] / max_duration * 100\n",
    "f_vc"
   ]
  },
  {
   "cell_type": "code",
   "execution_count": 62,
   "id": "3a78bff9-887e-4528-917e-75355329a5ca",
   "metadata": {},
   "outputs": [],
   "source": [
    "# join dataframes a and b on their index\n",
    "joined = f_vc.join(p_vc, how='outer', lsuffix='_f', rsuffix='_p')\n",
    "\n",
    "total = joined[['prefix_sum_f', 'prefix_sum_p']].sum(axis=1)\n",
    "joined['f_pct'] = joined['prefix_sum_f'] / total * 100\n",
    "joined['p_pct'] = joined['prefix_sum_p'] / total * 100"
   ]
  },
  {
   "cell_type": "code",
   "execution_count": 63,
   "id": "aab2a94d-05f6-4e77-891d-78b59201ff2f",
   "metadata": {},
   "outputs": [
    {
     "data": {
      "image/png": "[encoded data removed]",
      "text/plain": [
       "<Figure size 720x432 with 1 Axes>"
      ]
     },
     "metadata": {
      "needs_background": "light"
     },
     "output_type": "display_data"
    }
   ],
   "source": [
    "# plot the two series on the same graph\n",
    "\n",
    "tick_spacing = 200\n",
    "\n",
    "plt.figure(figsize=(10, 6))\n",
    "plt.plot(joined.index.astype(str), joined['f_pct'], color='red', label='percent of failure')\n",
    "\n",
    "# set x and y axis labels\n",
    "plt.xlabel('Run duration buckets')\n",
    "plt.ylabel('Percentage of failing')\n",
    "plt.xticks(rotation=90)\n",
    "plt.xticks(np.arange(0, len(joined.index.astype(str)), tick_spacing), joined.index.astype(str)[::tick_spacing])\n",
    "\n",
    "# set title and legend\n",
    "plt.title('Chances of a test failing over time')\n",
    "plt.legend()\n",
    "\n",
    "# show the plot\n",
    "plt.show()"
   ]
  },
  {
   "cell_type": "markdown",
   "id": "2141cdff-78aa-41cf-9d70-2e91d391ccb6",
   "metadata": {},
   "source": [
    "From this graph the chances of a test failing increases over time and we can tell that after a certain time, its roughly 70% likely to fail rather than pass, lets get this turning point programatically"
   ]
  },
  {
   "cell_type": "code",
   "execution_count": 64,
   "id": "7fffbd14-3a5c-444e-ad1d-fb557505bdd1",
   "metadata": {},
   "outputs": [],
   "source": [
    "def find_turning_point(s, lower, upper):\n",
    "\n",
    "    # Find the point at which after which the test is 75% likely to fail \n",
    "    # and at all points after then it is never less than 60% likely to fail.\n",
    "    # Can also parameterize these percentages\n",
    "    \n",
    "    sub = pd.Series()\n",
    "    turning_point = 0\n",
    "    for index, value in s[::-1].iteritems():\n",
    "        if value > lower:\n",
    "            sub.loc[index] = value\n",
    "        else:\n",
    "            if sub.empty:\n",
    "                return 0\n",
    "            elif not sub.empty:\n",
    "                turning_point = (sub[::-1] >= upper).idxmax()\n",
    "                return turning_point"
   ]
  },
  {
   "cell_type": "code",
   "execution_count": 65,
   "id": "e8d480d4-77dd-4a9a-9abd-9130426dc4a6",
   "metadata": {},
   "outputs": [],
   "source": [
    "tp = find_turning_point(joined['f_pct'], 60, 75)"
   ]
  },
  {
   "cell_type": "code",
   "execution_count": 66,
   "id": "39ed6fb6-d540-4b32-967c-12d957f2ae4f",
   "metadata": {},
   "outputs": [
    {
     "data": {
      "text/plain": [
       "Interval(411810.0, 411840.0, closed='right')"
      ]
     },
     "execution_count": 66,
     "metadata": {},
     "output_type": "execute_result"
    }
   ],
   "source": [
    "tp"
   ]
  },
  {
   "cell_type": "code",
   "execution_count": 67,
   "id": "145b749e-dba4-4ffc-b5d5-b7bd3beca73c",
   "metadata": {},
   "outputs": [
    {
     "data": {
      "image/png": "[encoded data removed]",
      "text/plain": [
       "<Figure size 720x432 with 1 Axes>"
      ]
     },
     "metadata": {
      "needs_background": "light"
     },
     "output_type": "display_data"
    }
   ],
   "source": [
    "# plot the two series on the same graph\n",
    "\n",
    "tick_spacing = 200\n",
    "\n",
    "plt.figure(figsize=(10, 6))\n",
    "plt.plot(joined.index.astype(str), joined['f_pct'], color='red', label='percent of failure')\n",
    "\n",
    "# set x and y axis labels\n",
    "plt.xlabel('Run duration buckets')\n",
    "plt.ylabel('Percentage of failing')\n",
    "plt.xticks(rotation=90)\n",
    "plt.xticks(np.arange(0, len(joined.index.astype(str)), tick_spacing), joined.index.astype(str)[::tick_spacing])\n",
    "\n",
    "# set title and legend\n",
    "plt.title('Chances of a test failing over time')\n",
    "plt.legend()\n",
    "\n",
    "\n",
    "x_position = joined.index.astype(str).tolist().index(str(tp))\n",
    "plt.axvline(x=x_position, color='black', linestyle='--')\n",
    "\n",
    "# show the plot\n",
    "plt.show()"
   ]
  },
  {
   "cell_type": "markdown",
   "id": "7ad064bf-2615-4878-8e06-5a0aedec56c7",
   "metadata": {},
   "source": [
    "Let's say we pick 229440.0 as the stopping point beyond which 75 % tests are likely to fail "
   ]
  },
  {
   "cell_type": "markdown",
   "id": "5eeeb528-8640-4248-9696-040d89b0e2c1",
   "metadata": {},
   "source": [
    "Lets evaluate how this does on the test dataset"
   ]
  },
  {
   "cell_type": "code",
   "execution_count": 68,
   "id": "c2f39177-8db5-4a5a-9315-acecba3f2323",
   "metadata": {},
   "outputs": [],
   "source": [
    "passing_test = pd.read_csv(\"../data/processed/{}passing_test.csv\".format(test_id))\n",
    "failing_test = pd.read_csv(\"../data/processed/{}failing_test.csv\".format(test_id))"
   ]
  },
  {
   "cell_type": "code",
   "execution_count": 69,
   "id": "f349b628-e16d-42a7-9fb5-c9e0c4b7312f",
   "metadata": {},
   "outputs": [
    {
     "data": {
      "text/html": [
       "<div>\n",
       "<style scoped>\n",
       "    .dataframe tbody tr th:only-of-type {\n",
       "        vertical-align: middle;\n",
       "    }\n",
       "\n",
       "    .dataframe tbody tr th {\n",
       "        vertical-align: top;\n",
       "    }\n",
       "\n",
       "    .dataframe thead th {\n",
       "        text-align: right;\n",
       "    }\n",
       "</style>\n",
       "<table border=\"1\" class=\"dataframe\">\n",
       "  <thead>\n",
       "    <tr style=\"text-align: right;\">\n",
       "      <th></th>\n",
       "      <th>Unnamed: 0</th>\n",
       "      <th>created_at</th>\n",
       "      <th>updated_at</th>\n",
       "      <th>run_id</th>\n",
       "      <th>status</th>\n",
       "      <th>conclusion</th>\n",
       "      <th>run_duration</th>\n",
       "      <th>test_id</th>\n",
       "    </tr>\n",
       "  </thead>\n",
       "  <tbody>\n",
       "    <tr>\n",
       "      <th>0</th>\n",
       "      <td>29</td>\n",
       "      <td>2023-02-27T12:39:43Z</td>\n",
       "      <td>2023-02-27T12:55:48Z</td>\n",
       "      <td>4282452008</td>\n",
       "      <td>completed</td>\n",
       "      <td>success</td>\n",
       "      <td>965.0</td>\n",
       "      <td>39411153</td>\n",
       "    </tr>\n",
       "    <tr>\n",
       "      <th>1</th>\n",
       "      <td>14</td>\n",
       "      <td>2022-11-29T11:54:34Z</td>\n",
       "      <td>2022-11-29T12:01:33Z</td>\n",
       "      <td>3573813896</td>\n",
       "      <td>completed</td>\n",
       "      <td>success</td>\n",
       "      <td>419.0</td>\n",
       "      <td>39411153</td>\n",
       "    </tr>\n",
       "    <tr>\n",
       "      <th>2</th>\n",
       "      <td>14</td>\n",
       "      <td>2023-03-24T08:37:26Z</td>\n",
       "      <td>2023-03-24T08:39:43Z</td>\n",
       "      <td>4509293343</td>\n",
       "      <td>completed</td>\n",
       "      <td>success</td>\n",
       "      <td>137.0</td>\n",
       "      <td>39411153</td>\n",
       "    </tr>\n",
       "    <tr>\n",
       "      <th>3</th>\n",
       "      <td>10</td>\n",
       "      <td>2022-11-29T09:44:02Z</td>\n",
       "      <td>2022-11-29T10:01:15Z</td>\n",
       "      <td>3572857928</td>\n",
       "      <td>completed</td>\n",
       "      <td>success</td>\n",
       "      <td>1033.0</td>\n",
       "      <td>39411153</td>\n",
       "    </tr>\n",
       "    <tr>\n",
       "      <th>4</th>\n",
       "      <td>24</td>\n",
       "      <td>2022-12-14T15:21:31Z</td>\n",
       "      <td>2022-12-14T15:24:19Z</td>\n",
       "      <td>3696199152</td>\n",
       "      <td>completed</td>\n",
       "      <td>success</td>\n",
       "      <td>168.0</td>\n",
       "      <td>39411153</td>\n",
       "    </tr>\n",
       "  </tbody>\n",
       "</table>\n",
       "</div>"
      ],
      "text/plain": [
       "   Unnamed: 0            created_at            updated_at      run_id  \\\n",
       "0          29  2023-02-27T12:39:43Z  2023-02-27T12:55:48Z  4282452008   \n",
       "1          14  2022-11-29T11:54:34Z  2022-11-29T12:01:33Z  3573813896   \n",
       "2          14  2023-03-24T08:37:26Z  2023-03-24T08:39:43Z  4509293343   \n",
       "3          10  2022-11-29T09:44:02Z  2022-11-29T10:01:15Z  3572857928   \n",
       "4          24  2022-12-14T15:21:31Z  2022-12-14T15:24:19Z  3696199152   \n",
       "\n",
       "      status conclusion  run_duration   test_id  \n",
       "0  completed    success         965.0  39411153  \n",
       "1  completed    success         419.0  39411153  \n",
       "2  completed    success         137.0  39411153  \n",
       "3  completed    success        1033.0  39411153  \n",
       "4  completed    success         168.0  39411153  "
      ]
     },
     "execution_count": 69,
     "metadata": {},
     "output_type": "execute_result"
    }
   ],
   "source": [
    "passing_test.head()"
   ]
  },
  {
   "cell_type": "code",
   "execution_count": 70,
   "id": "03dfab43-56fa-433c-a30f-3c27478710a4",
   "metadata": {},
   "outputs": [
    {
     "data": {
      "text/html": [
       "<div>\n",
       "<style scoped>\n",
       "    .dataframe tbody tr th:only-of-type {\n",
       "        vertical-align: middle;\n",
       "    }\n",
       "\n",
       "    .dataframe tbody tr th {\n",
       "        vertical-align: top;\n",
       "    }\n",
       "\n",
       "    .dataframe thead th {\n",
       "        text-align: right;\n",
       "    }\n",
       "</style>\n",
       "<table border=\"1\" class=\"dataframe\">\n",
       "  <thead>\n",
       "    <tr style=\"text-align: right;\">\n",
       "      <th></th>\n",
       "      <th>Unnamed: 0</th>\n",
       "      <th>created_at</th>\n",
       "      <th>updated_at</th>\n",
       "      <th>run_id</th>\n",
       "      <th>status</th>\n",
       "      <th>conclusion</th>\n",
       "      <th>run_duration</th>\n",
       "      <th>test_id</th>\n",
       "    </tr>\n",
       "  </thead>\n",
       "  <tbody>\n",
       "    <tr>\n",
       "      <th>0</th>\n",
       "      <td>3</td>\n",
       "      <td>2022-11-04T10:44:16Z</td>\n",
       "      <td>2022-11-04T10:44:42Z</td>\n",
       "      <td>3393142619</td>\n",
       "      <td>completed</td>\n",
       "      <td>failure</td>\n",
       "      <td>26.0</td>\n",
       "      <td>39411153</td>\n",
       "    </tr>\n",
       "    <tr>\n",
       "      <th>1</th>\n",
       "      <td>5</td>\n",
       "      <td>2022-11-23T19:38:51Z</td>\n",
       "      <td>2022-11-23T19:42:48Z</td>\n",
       "      <td>3535166257</td>\n",
       "      <td>completed</td>\n",
       "      <td>failure</td>\n",
       "      <td>237.0</td>\n",
       "      <td>39411153</td>\n",
       "    </tr>\n",
       "    <tr>\n",
       "      <th>2</th>\n",
       "      <td>15</td>\n",
       "      <td>2023-02-05T13:37:46Z</td>\n",
       "      <td>2023-02-08T19:28:39Z</td>\n",
       "      <td>4096860330</td>\n",
       "      <td>completed</td>\n",
       "      <td>failure</td>\n",
       "      <td>280253.0</td>\n",
       "      <td>39411153</td>\n",
       "    </tr>\n",
       "    <tr>\n",
       "      <th>3</th>\n",
       "      <td>16</td>\n",
       "      <td>2023-01-30T15:22:03Z</td>\n",
       "      <td>2023-01-30T15:25:00Z</td>\n",
       "      <td>4045344853</td>\n",
       "      <td>completed</td>\n",
       "      <td>failure</td>\n",
       "      <td>177.0</td>\n",
       "      <td>39411153</td>\n",
       "    </tr>\n",
       "    <tr>\n",
       "      <th>4</th>\n",
       "      <td>5</td>\n",
       "      <td>2022-11-04T14:35:32Z</td>\n",
       "      <td>2022-11-04T14:36:09Z</td>\n",
       "      <td>3394648195</td>\n",
       "      <td>completed</td>\n",
       "      <td>failure</td>\n",
       "      <td>37.0</td>\n",
       "      <td>39411153</td>\n",
       "    </tr>\n",
       "  </tbody>\n",
       "</table>\n",
       "</div>"
      ],
      "text/plain": [
       "   Unnamed: 0            created_at            updated_at      run_id  \\\n",
       "0           3  2022-11-04T10:44:16Z  2022-11-04T10:44:42Z  3393142619   \n",
       "1           5  2022-11-23T19:38:51Z  2022-11-23T19:42:48Z  3535166257   \n",
       "2          15  2023-02-05T13:37:46Z  2023-02-08T19:28:39Z  4096860330   \n",
       "3          16  2023-01-30T15:22:03Z  2023-01-30T15:25:00Z  4045344853   \n",
       "4           5  2022-11-04T14:35:32Z  2022-11-04T14:36:09Z  3394648195   \n",
       "\n",
       "      status conclusion  run_duration   test_id  \n",
       "0  completed    failure          26.0  39411153  \n",
       "1  completed    failure         237.0  39411153  \n",
       "2  completed    failure      280253.0  39411153  \n",
       "3  completed    failure         177.0  39411153  \n",
       "4  completed    failure          37.0  39411153  "
      ]
     },
     "execution_count": 70,
     "metadata": {},
     "output_type": "execute_result"
    }
   ],
   "source": [
    "failing_test.head()"
   ]
  },
  {
   "cell_type": "code",
   "execution_count": 71,
   "id": "8f90e65f-081d-4182-866d-d4fd1647d1e8",
   "metadata": {},
   "outputs": [],
   "source": [
    "test_data = pd.concat([passing_test, failing_test], axis=0)"
   ]
  },
  {
   "cell_type": "code",
   "execution_count": 72,
   "id": "3da20d03-23dd-473e-bdf3-78f47135d2cd",
   "metadata": {},
   "outputs": [],
   "source": [
    "# Add new column with \"success\" or \"failure\" based on run_duration\n",
    "test_data['predicted_status'] = np.where(test_data['run_duration'] > tp.left, 'failure', 'success')"
   ]
  },
  {
   "cell_type": "code",
   "execution_count": 73,
   "id": "e1014663-f77c-4583-a885-11ace2967133",
   "metadata": {},
   "outputs": [
    {
     "name": "stdout",
     "output_type": "stream",
     "text": [
      "Accuracy: 92.43%\n"
     ]
    }
   ],
   "source": [
    "# Calculate percentage of rows where \"predicted_status\" matches \"conclusion\"\n",
    "accuracy = (test_data['predicted_status'] == test_data['conclusion']).sum() / len(test_data) * 100\n",
    "print(f\"Accuracy: {accuracy:.2f}%\")"
   ]
  },
  {
   "cell_type": "code",
   "execution_count": 74,
   "id": "4421aa64-0bff-4d04-b56c-1dbbf20d8c3f",
   "metadata": {},
   "outputs": [],
   "source": [
    "precision, recall, f1_score, support = precision_recall_fscore_support(test_data['predicted_status'], test_data['conclusion'], average='binary', pos_label='success')"
   ]
  },
  {
   "cell_type": "code",
   "execution_count": 75,
   "id": "2bf204ea-3d7b-447f-9bb8-b1eb06187575",
   "metadata": {},
   "outputs": [
    {
     "data": {
      "text/plain": [
       "1.0"
      ]
     },
     "execution_count": 75,
     "metadata": {},
     "output_type": "execute_result"
    }
   ],
   "source": [
    "precision"
   ]
  },
  {
   "cell_type": "code",
   "execution_count": 76,
   "id": "a72d8c36-7dac-492d-9c59-c468dccd4e06",
   "metadata": {},
   "outputs": [
    {
     "data": {
      "text/plain": [
       "0.9243156199677939"
      ]
     },
     "execution_count": 76,
     "metadata": {},
     "output_type": "execute_result"
    }
   ],
   "source": [
    "recall"
   ]
  },
  {
   "cell_type": "code",
   "execution_count": 77,
   "id": "0aec5674-0e11-41af-9fe8-d9241b751132",
   "metadata": {},
   "outputs": [
    {
     "data": {
      "text/plain": [
       "0.9606694560669455"
      ]
     },
     "execution_count": 77,
     "metadata": {},
     "output_type": "execute_result"
    }
   ],
   "source": [
    "f1_score"
   ]
  },
  {
   "cell_type": "markdown",
   "id": "144b1ac0-515b-404e-8761-2235895f0980",
   "metadata": {},
   "source": [
    "#### Normalize"
   ]
  },
  {
   "cell_type": "markdown",
   "id": "c5ed3e8b-a616-4925-bacb-62ab1a0afff9",
   "metadata": {},
   "source": [
    "Above can be impacted by the absolute number of passing and failing tests. Lets normalize the dataset"
   ]
  },
  {
   "cell_type": "code",
   "execution_count": 78,
   "id": "6990e013-93f8-49b8-a9c6-e184cb794806",
   "metadata": {},
   "outputs": [],
   "source": [
    "# From the repo https://github.com/github/codeql\n",
    "test_id = \"39411153\" #\"Compile all queries using the latest stable CodeQL CLI\""
   ]
  },
  {
   "cell_type": "code",
   "execution_count": 79,
   "id": "74a08282-a847-480d-87a1-f1c2f38aa564",
   "metadata": {},
   "outputs": [],
   "source": [
    "passing_train = pd.read_csv(\"../data/processed/{}passing_train.csv\".format(test_id))\n",
    "failing_train = pd.read_csv(\"../data/processed/{}failing_train.csv\".format(test_id))"
   ]
  },
  {
   "cell_type": "code",
   "execution_count": 80,
   "id": "f42632f6-1dac-4bfe-9149-9ceae2efe0ab",
   "metadata": {},
   "outputs": [],
   "source": [
    "# bucketing into 30 second intervals\n",
    "\n",
    "ranges = np.arange(0, max(passing_train['run_duration'])+1, 30).tolist()\n",
    "ranges.append(np.inf)\n",
    "passing_train['run_duration_ranges'] = pd.cut(passing_train['run_duration'], bins=ranges)\n",
    "failing_train['run_duration_ranges'] = pd.cut(failing_train['run_duration'], bins=ranges)\n",
    "p_vc = pd.DataFrame(passing_train['run_duration_ranges'].value_counts().sort_index())\n",
    "f_vc = pd.DataFrame(failing_train['run_duration_ranges'].value_counts().sort_index())"
   ]
  },
  {
   "cell_type": "code",
   "execution_count": 81,
   "id": "32729e22-f574-479b-a5f8-756898a9dec4",
   "metadata": {},
   "outputs": [],
   "source": [
    "scaler = MinMaxScaler()\n",
    "\n",
    "p_vc['run_duration_ranges'] =  scaler.fit_transform(p_vc[['run_duration_ranges']])\n",
    "f_vc['run_duration_ranges'] = scaler.fit_transform(f_vc[['run_duration_ranges']])"
   ]
  },
  {
   "cell_type": "code",
   "execution_count": 82,
   "id": "674a1735-a8a3-4ef5-bbc8-f3220fb09cdf",
   "metadata": {},
   "outputs": [
    {
     "data": {
      "text/html": [
       "<div>\n",
       "<style scoped>\n",
       "    .dataframe tbody tr th:only-of-type {\n",
       "        vertical-align: middle;\n",
       "    }\n",
       "\n",
       "    .dataframe tbody tr th {\n",
       "        vertical-align: top;\n",
       "    }\n",
       "\n",
       "    .dataframe thead th {\n",
       "        text-align: right;\n",
       "    }\n",
       "</style>\n",
       "<table border=\"1\" class=\"dataframe\">\n",
       "  <thead>\n",
       "    <tr style=\"text-align: right;\">\n",
       "      <th></th>\n",
       "      <th>run_duration_ranges</th>\n",
       "    </tr>\n",
       "  </thead>\n",
       "  <tbody>\n",
       "    <tr>\n",
       "      <th>(0.0, 30.0]</th>\n",
       "      <td>0.000000</td>\n",
       "    </tr>\n",
       "    <tr>\n",
       "      <th>(30.0, 60.0]</th>\n",
       "      <td>0.000000</td>\n",
       "    </tr>\n",
       "    <tr>\n",
       "      <th>(60.0, 90.0]</th>\n",
       "      <td>0.007673</td>\n",
       "    </tr>\n",
       "    <tr>\n",
       "      <th>(90.0, 120.0]</th>\n",
       "      <td>0.124041</td>\n",
       "    </tr>\n",
       "    <tr>\n",
       "      <th>(120.0, 150.0]</th>\n",
       "      <td>0.755754</td>\n",
       "    </tr>\n",
       "    <tr>\n",
       "      <th>...</th>\n",
       "      <td>...</td>\n",
       "    </tr>\n",
       "    <tr>\n",
       "      <th>(524460.0, 524490.0]</th>\n",
       "      <td>0.000000</td>\n",
       "    </tr>\n",
       "    <tr>\n",
       "      <th>(524490.0, 524520.0]</th>\n",
       "      <td>0.000000</td>\n",
       "    </tr>\n",
       "    <tr>\n",
       "      <th>(524520.0, 524550.0]</th>\n",
       "      <td>0.000000</td>\n",
       "    </tr>\n",
       "    <tr>\n",
       "      <th>(524550.0, 524580.0]</th>\n",
       "      <td>0.000000</td>\n",
       "    </tr>\n",
       "    <tr>\n",
       "      <th>(524580.0, inf]</th>\n",
       "      <td>0.001279</td>\n",
       "    </tr>\n",
       "  </tbody>\n",
       "</table>\n",
       "<p>17487 rows × 1 columns</p>\n",
       "</div>"
      ],
      "text/plain": [
       "                      run_duration_ranges\n",
       "(0.0, 30.0]                      0.000000\n",
       "(30.0, 60.0]                     0.000000\n",
       "(60.0, 90.0]                     0.007673\n",
       "(90.0, 120.0]                    0.124041\n",
       "(120.0, 150.0]                   0.755754\n",
       "...                                   ...\n",
       "(524460.0, 524490.0]             0.000000\n",
       "(524490.0, 524520.0]             0.000000\n",
       "(524520.0, 524550.0]             0.000000\n",
       "(524550.0, 524580.0]             0.000000\n",
       "(524580.0, inf]                  0.001279\n",
       "\n",
       "[17487 rows x 1 columns]"
      ]
     },
     "execution_count": 82,
     "metadata": {},
     "output_type": "execute_result"
    }
   ],
   "source": [
    "p_vc"
   ]
  },
  {
   "cell_type": "code",
   "execution_count": 83,
   "id": "62e5cb00-b9a1-4370-8090-2706ff0764d3",
   "metadata": {},
   "outputs": [
    {
     "data": {
      "text/html": [
       "<div>\n",
       "<style scoped>\n",
       "    .dataframe tbody tr th:only-of-type {\n",
       "        vertical-align: middle;\n",
       "    }\n",
       "\n",
       "    .dataframe tbody tr th {\n",
       "        vertical-align: top;\n",
       "    }\n",
       "\n",
       "    .dataframe thead th {\n",
       "        text-align: right;\n",
       "    }\n",
       "</style>\n",
       "<table border=\"1\" class=\"dataframe\">\n",
       "  <thead>\n",
       "    <tr style=\"text-align: right;\">\n",
       "      <th></th>\n",
       "      <th>run_duration_ranges</th>\n",
       "    </tr>\n",
       "  </thead>\n",
       "  <tbody>\n",
       "    <tr>\n",
       "      <th>(0.0, 30.0]</th>\n",
       "      <td>0.097222</td>\n",
       "    </tr>\n",
       "    <tr>\n",
       "      <th>(30.0, 60.0]</th>\n",
       "      <td>0.444444</td>\n",
       "    </tr>\n",
       "    <tr>\n",
       "      <th>(60.0, 90.0]</th>\n",
       "      <td>1.000000</td>\n",
       "    </tr>\n",
       "    <tr>\n",
       "      <th>(90.0, 120.0]</th>\n",
       "      <td>0.736111</td>\n",
       "    </tr>\n",
       "    <tr>\n",
       "      <th>(120.0, 150.0]</th>\n",
       "      <td>0.777778</td>\n",
       "    </tr>\n",
       "    <tr>\n",
       "      <th>...</th>\n",
       "      <td>...</td>\n",
       "    </tr>\n",
       "    <tr>\n",
       "      <th>(524460.0, 524490.0]</th>\n",
       "      <td>0.000000</td>\n",
       "    </tr>\n",
       "    <tr>\n",
       "      <th>(524490.0, 524520.0]</th>\n",
       "      <td>0.000000</td>\n",
       "    </tr>\n",
       "    <tr>\n",
       "      <th>(524520.0, 524550.0]</th>\n",
       "      <td>0.000000</td>\n",
       "    </tr>\n",
       "    <tr>\n",
       "      <th>(524550.0, 524580.0]</th>\n",
       "      <td>0.000000</td>\n",
       "    </tr>\n",
       "    <tr>\n",
       "      <th>(524580.0, inf]</th>\n",
       "      <td>0.027778</td>\n",
       "    </tr>\n",
       "  </tbody>\n",
       "</table>\n",
       "<p>17487 rows × 1 columns</p>\n",
       "</div>"
      ],
      "text/plain": [
       "                      run_duration_ranges\n",
       "(0.0, 30.0]                      0.097222\n",
       "(30.0, 60.0]                     0.444444\n",
       "(60.0, 90.0]                     1.000000\n",
       "(90.0, 120.0]                    0.736111\n",
       "(120.0, 150.0]                   0.777778\n",
       "...                                   ...\n",
       "(524460.0, 524490.0]             0.000000\n",
       "(524490.0, 524520.0]             0.000000\n",
       "(524520.0, 524550.0]             0.000000\n",
       "(524550.0, 524580.0]             0.000000\n",
       "(524580.0, inf]                  0.027778\n",
       "\n",
       "[17487 rows x 1 columns]"
      ]
     },
     "execution_count": 83,
     "metadata": {},
     "output_type": "execute_result"
    }
   ],
   "source": [
    "f_vc"
   ]
  },
  {
   "cell_type": "code",
   "execution_count": 84,
   "id": "eb49b76f-e6b4-42ce-b701-5cfc347a7381",
   "metadata": {},
   "outputs": [],
   "source": [
    "p_vc['prefix_sum'] = p_vc['run_duration_ranges'][::-1].cumsum()[::-1]\n",
    "f_vc['prefix_sum'] = f_vc['run_duration_ranges'][::-1].cumsum()[::-1]"
   ]
  },
  {
   "cell_type": "code",
   "execution_count": 85,
   "id": "9d9d7e7f-ca7c-4534-b0c4-3873d34d087f",
   "metadata": {},
   "outputs": [
    {
     "data": {
      "text/html": [
       "<div>\n",
       "<style scoped>\n",
       "    .dataframe tbody tr th:only-of-type {\n",
       "        vertical-align: middle;\n",
       "    }\n",
       "\n",
       "    .dataframe tbody tr th {\n",
       "        vertical-align: top;\n",
       "    }\n",
       "\n",
       "    .dataframe thead th {\n",
       "        text-align: right;\n",
       "    }\n",
       "</style>\n",
       "<table border=\"1\" class=\"dataframe\">\n",
       "  <thead>\n",
       "    <tr style=\"text-align: right;\">\n",
       "      <th></th>\n",
       "      <th>run_duration_ranges</th>\n",
       "      <th>prefix_sum</th>\n",
       "    </tr>\n",
       "  </thead>\n",
       "  <tbody>\n",
       "    <tr>\n",
       "      <th>(0.0, 30.0]</th>\n",
       "      <td>0.000000</td>\n",
       "      <td>5.869565</td>\n",
       "    </tr>\n",
       "    <tr>\n",
       "      <th>(30.0, 60.0]</th>\n",
       "      <td>0.000000</td>\n",
       "      <td>5.869565</td>\n",
       "    </tr>\n",
       "    <tr>\n",
       "      <th>(60.0, 90.0]</th>\n",
       "      <td>0.007673</td>\n",
       "      <td>5.869565</td>\n",
       "    </tr>\n",
       "    <tr>\n",
       "      <th>(90.0, 120.0]</th>\n",
       "      <td>0.124041</td>\n",
       "      <td>5.861893</td>\n",
       "    </tr>\n",
       "    <tr>\n",
       "      <th>(120.0, 150.0]</th>\n",
       "      <td>0.755754</td>\n",
       "      <td>5.737852</td>\n",
       "    </tr>\n",
       "    <tr>\n",
       "      <th>...</th>\n",
       "      <td>...</td>\n",
       "      <td>...</td>\n",
       "    </tr>\n",
       "    <tr>\n",
       "      <th>(524460.0, 524490.0]</th>\n",
       "      <td>0.000000</td>\n",
       "      <td>0.001279</td>\n",
       "    </tr>\n",
       "    <tr>\n",
       "      <th>(524490.0, 524520.0]</th>\n",
       "      <td>0.000000</td>\n",
       "      <td>0.001279</td>\n",
       "    </tr>\n",
       "    <tr>\n",
       "      <th>(524520.0, 524550.0]</th>\n",
       "      <td>0.000000</td>\n",
       "      <td>0.001279</td>\n",
       "    </tr>\n",
       "    <tr>\n",
       "      <th>(524550.0, 524580.0]</th>\n",
       "      <td>0.000000</td>\n",
       "      <td>0.001279</td>\n",
       "    </tr>\n",
       "    <tr>\n",
       "      <th>(524580.0, inf]</th>\n",
       "      <td>0.001279</td>\n",
       "      <td>0.001279</td>\n",
       "    </tr>\n",
       "  </tbody>\n",
       "</table>\n",
       "<p>17487 rows × 2 columns</p>\n",
       "</div>"
      ],
      "text/plain": [
       "                      run_duration_ranges  prefix_sum\n",
       "(0.0, 30.0]                      0.000000    5.869565\n",
       "(30.0, 60.0]                     0.000000    5.869565\n",
       "(60.0, 90.0]                     0.007673    5.869565\n",
       "(90.0, 120.0]                    0.124041    5.861893\n",
       "(120.0, 150.0]                   0.755754    5.737852\n",
       "...                                   ...         ...\n",
       "(524460.0, 524490.0]             0.000000    0.001279\n",
       "(524490.0, 524520.0]             0.000000    0.001279\n",
       "(524520.0, 524550.0]             0.000000    0.001279\n",
       "(524550.0, 524580.0]             0.000000    0.001279\n",
       "(524580.0, inf]                  0.001279    0.001279\n",
       "\n",
       "[17487 rows x 2 columns]"
      ]
     },
     "execution_count": 85,
     "metadata": {},
     "output_type": "execute_result"
    }
   ],
   "source": [
    "p_vc"
   ]
  },
  {
   "cell_type": "code",
   "execution_count": 86,
   "id": "e26ff707-ee61-4e92-84d8-39577ed0651a",
   "metadata": {},
   "outputs": [
    {
     "data": {
      "text/html": [
       "<div>\n",
       "<style scoped>\n",
       "    .dataframe tbody tr th:only-of-type {\n",
       "        vertical-align: middle;\n",
       "    }\n",
       "\n",
       "    .dataframe tbody tr th {\n",
       "        vertical-align: top;\n",
       "    }\n",
       "\n",
       "    .dataframe thead th {\n",
       "        text-align: right;\n",
       "    }\n",
       "</style>\n",
       "<table border=\"1\" class=\"dataframe\">\n",
       "  <thead>\n",
       "    <tr style=\"text-align: right;\">\n",
       "      <th></th>\n",
       "      <th>run_duration_ranges</th>\n",
       "      <th>prefix_sum</th>\n",
       "    </tr>\n",
       "  </thead>\n",
       "  <tbody>\n",
       "    <tr>\n",
       "      <th>(0.0, 30.0]</th>\n",
       "      <td>0.097222</td>\n",
       "      <td>5.194444</td>\n",
       "    </tr>\n",
       "    <tr>\n",
       "      <th>(30.0, 60.0]</th>\n",
       "      <td>0.444444</td>\n",
       "      <td>5.097222</td>\n",
       "    </tr>\n",
       "    <tr>\n",
       "      <th>(60.0, 90.0]</th>\n",
       "      <td>1.000000</td>\n",
       "      <td>4.652778</td>\n",
       "    </tr>\n",
       "    <tr>\n",
       "      <th>(90.0, 120.0]</th>\n",
       "      <td>0.736111</td>\n",
       "      <td>3.652778</td>\n",
       "    </tr>\n",
       "    <tr>\n",
       "      <th>(120.0, 150.0]</th>\n",
       "      <td>0.777778</td>\n",
       "      <td>2.916667</td>\n",
       "    </tr>\n",
       "    <tr>\n",
       "      <th>...</th>\n",
       "      <td>...</td>\n",
       "      <td>...</td>\n",
       "    </tr>\n",
       "    <tr>\n",
       "      <th>(524460.0, 524490.0]</th>\n",
       "      <td>0.000000</td>\n",
       "      <td>0.027778</td>\n",
       "    </tr>\n",
       "    <tr>\n",
       "      <th>(524490.0, 524520.0]</th>\n",
       "      <td>0.000000</td>\n",
       "      <td>0.027778</td>\n",
       "    </tr>\n",
       "    <tr>\n",
       "      <th>(524520.0, 524550.0]</th>\n",
       "      <td>0.000000</td>\n",
       "      <td>0.027778</td>\n",
       "    </tr>\n",
       "    <tr>\n",
       "      <th>(524550.0, 524580.0]</th>\n",
       "      <td>0.000000</td>\n",
       "      <td>0.027778</td>\n",
       "    </tr>\n",
       "    <tr>\n",
       "      <th>(524580.0, inf]</th>\n",
       "      <td>0.027778</td>\n",
       "      <td>0.027778</td>\n",
       "    </tr>\n",
       "  </tbody>\n",
       "</table>\n",
       "<p>17487 rows × 2 columns</p>\n",
       "</div>"
      ],
      "text/plain": [
       "                      run_duration_ranges  prefix_sum\n",
       "(0.0, 30.0]                      0.097222    5.194444\n",
       "(30.0, 60.0]                     0.444444    5.097222\n",
       "(60.0, 90.0]                     1.000000    4.652778\n",
       "(90.0, 120.0]                    0.736111    3.652778\n",
       "(120.0, 150.0]                   0.777778    2.916667\n",
       "...                                   ...         ...\n",
       "(524460.0, 524490.0]             0.000000    0.027778\n",
       "(524490.0, 524520.0]             0.000000    0.027778\n",
       "(524520.0, 524550.0]             0.000000    0.027778\n",
       "(524550.0, 524580.0]             0.000000    0.027778\n",
       "(524580.0, inf]                  0.027778    0.027778\n",
       "\n",
       "[17487 rows x 2 columns]"
      ]
     },
     "execution_count": 86,
     "metadata": {},
     "output_type": "execute_result"
    }
   ],
   "source": [
    "f_vc"
   ]
  },
  {
   "cell_type": "code",
   "execution_count": 87,
   "id": "b5c36a9a-4063-4fb6-9527-36242a942f3c",
   "metadata": {},
   "outputs": [],
   "source": [
    "# join dataframes a and b on their index\n",
    "joined = f_vc.join(p_vc, how='outer', lsuffix='_f', rsuffix='_p')\n",
    "\n",
    "total = joined[['prefix_sum_f', 'prefix_sum_p']].sum(axis=1)\n",
    "joined['f_pct'] = joined['prefix_sum_f'] / total * 100\n",
    "joined['p_pct'] = joined['prefix_sum_p'] / total * 100"
   ]
  },
  {
   "cell_type": "code",
   "execution_count": 88,
   "id": "42763897-c3c0-4f22-82bf-1eee5aed7014",
   "metadata": {},
   "outputs": [
    {
     "data": {
      "image/png": "[encoded data removed]",
      "text/plain": [
       "<Figure size 720x432 with 1 Axes>"
      ]
     },
     "metadata": {
      "needs_background": "light"
     },
     "output_type": "display_data"
    }
   ],
   "source": [
    "# plot the two series on the same graph\n",
    "\n",
    "tick_spacing = 200\n",
    "\n",
    "plt.figure(figsize=(10, 6))\n",
    "plt.plot(joined.index.astype(str), joined['f_pct'], color='red', label='percent of failure')\n",
    "\n",
    "# set x and y axis labels\n",
    "plt.xlabel('Run duration buckets')\n",
    "plt.ylabel('Percentage of failing')\n",
    "plt.xticks(rotation=90)\n",
    "plt.xticks(np.arange(0, len(joined.index.astype(str)), tick_spacing), joined.index.astype(str)[::tick_spacing])\n",
    "\n",
    "# set title and legend\n",
    "plt.title('Chances of a test failing over time')\n",
    "plt.legend()\n",
    "\n",
    "# show the plot\n",
    "plt.show()"
   ]
  },
  {
   "cell_type": "code",
   "execution_count": 89,
   "id": "7b8716d6-3d0f-41e8-8258-e90c53021f32",
   "metadata": {},
   "outputs": [],
   "source": [
    "tp = find_turning_point(joined['f_pct'], 60, 75)"
   ]
  },
  {
   "cell_type": "code",
   "execution_count": 90,
   "id": "400eb098-83f1-439a-a6c7-b959ed0f70dd",
   "metadata": {},
   "outputs": [
    {
     "data": {
      "text/plain": [
       "Interval(4080.0, 4110.0, closed='right')"
      ]
     },
     "execution_count": 90,
     "metadata": {},
     "output_type": "execute_result"
    }
   ],
   "source": [
    "tp"
   ]
  },
  {
   "cell_type": "code",
   "execution_count": 91,
   "id": "fd4e5f82-b51a-49be-bb1c-506458201703",
   "metadata": {},
   "outputs": [],
   "source": [
    "test_data = pd.concat([passing_test, failing_test], axis=0)"
   ]
  },
  {
   "cell_type": "code",
   "execution_count": 92,
   "id": "b7ee7d4e-8a86-44b8-ac8b-0613b5fb4512",
   "metadata": {},
   "outputs": [],
   "source": [
    "# Add new column with \"success\" or \"failure\" based on run_duration\n",
    "test_data['predicted_status'] = np.where(test_data['run_duration'] > tp.left, 'failure', 'success')"
   ]
  },
  {
   "cell_type": "code",
   "execution_count": 93,
   "id": "58ddc8a0-1489-4e3a-aa8c-ad559d426663",
   "metadata": {},
   "outputs": [
    {
     "name": "stdout",
     "output_type": "stream",
     "text": [
      "Accuracy: 90.98%\n"
     ]
    }
   ],
   "source": [
    "# Calculate percentage of rows where \"predicted_status\" matches \"conclusion\"\n",
    "accuracy = (test_data['predicted_status'] == test_data['conclusion']).sum() / len(test_data) * 100\n",
    "print(f\"Accuracy: {accuracy:.2f}%\")"
   ]
  },
  {
   "cell_type": "code",
   "execution_count": 94,
   "id": "c231288e-7583-473f-bf88-0a1c65d7d61a",
   "metadata": {},
   "outputs": [],
   "source": [
    "precision, recall, f1_score, support = precision_recall_fscore_support(test_data['predicted_status'], test_data['conclusion'], average='binary', pos_label='success')"
   ]
  },
  {
   "cell_type": "code",
   "execution_count": 95,
   "id": "7cbf2633-423e-4dd0-9812-74b9e5183e76",
   "metadata": {},
   "outputs": [
    {
     "data": {
      "text/plain": [
       "0.9834494773519163"
      ]
     },
     "execution_count": 95,
     "metadata": {},
     "output_type": "execute_result"
    }
   ],
   "source": [
    "precision"
   ]
  },
  {
   "cell_type": "code",
   "execution_count": 96,
   "id": "6f22a095-7259-4cae-a378-911734b22ad5",
   "metadata": {},
   "outputs": [
    {
     "data": {
      "text/plain": [
       "0.9238952536824877"
      ]
     },
     "execution_count": 96,
     "metadata": {},
     "output_type": "execute_result"
    }
   ],
   "source": [
    "recall"
   ]
  },
  {
   "cell_type": "code",
   "execution_count": 97,
   "id": "6490101a-2081-447e-96d5-3e792efd5cf4",
   "metadata": {},
   "outputs": [
    {
     "data": {
      "text/plain": [
       "0.9527426160337553"
      ]
     },
     "execution_count": 97,
     "metadata": {},
     "output_type": "execute_result"
    }
   ],
   "source": [
    "f1_score"
   ]
  },
  {
   "cell_type": "markdown",
   "id": "f2e2bd94-fbae-42c1-baf9-80c5758fef93",
   "metadata": {},
   "source": [
    "### Test 5: Another larger test dataset"
   ]
  },
  {
   "cell_type": "code",
   "execution_count": 98,
   "id": "b6986e7b-01f2-4ecc-b303-d0d114569d02",
   "metadata": {},
   "outputs": [],
   "source": [
    "test_id = \"19425791\" # \"CodeQL tests\""
   ]
  },
  {
   "cell_type": "code",
   "execution_count": 99,
   "id": "dea3d1c3-4bc3-4762-91c3-0e7cc313423e",
   "metadata": {},
   "outputs": [],
   "source": [
    "passing_train = pd.read_csv(\"../data/processed/{}passing_train.csv\".format(test_id))\n",
    "failing_train = pd.read_csv(\"../data/processed/{}failing_train.csv\".format(test_id))"
   ]
  },
  {
   "cell_type": "code",
   "execution_count": 100,
   "id": "92eeb8a2-e0a8-42d5-9eed-bc3ffb62e156",
   "metadata": {},
   "outputs": [],
   "source": [
    "# bucketing into 30 second intervals\n",
    "\n",
    "ranges = np.arange(0, max(passing_train['run_duration'])+1, 10).tolist()\n",
    "ranges.append(np.inf)\n",
    "passing_train['run_duration_ranges'] = pd.cut(passing_train['run_duration'], bins=ranges)\n",
    "failing_train['run_duration_ranges'] = pd.cut(failing_train['run_duration'], bins=ranges)\n",
    "p_vc = pd.DataFrame(passing_train['run_duration_ranges'].value_counts().sort_index())\n",
    "f_vc = pd.DataFrame(failing_train['run_duration_ranges'].value_counts().sort_index())"
   ]
  },
  {
   "cell_type": "code",
   "execution_count": 101,
   "id": "81fc93b5-ae47-4653-9025-0fae109c4538",
   "metadata": {},
   "outputs": [],
   "source": [
    "p_vc['prefix_sum'] = p_vc['run_duration_ranges'][::-1].cumsum()[::-1]\n",
    "f_vc['prefix_sum'] = f_vc['run_duration_ranges'][::-1].cumsum()[::-1]"
   ]
  },
  {
   "cell_type": "code",
   "execution_count": 102,
   "id": "5a01bb4f-b3e4-4d6d-85e7-a341ef893ef6",
   "metadata": {},
   "outputs": [
    {
     "data": {
      "text/html": [
       "<div>\n",
       "<style scoped>\n",
       "    .dataframe tbody tr th:only-of-type {\n",
       "        vertical-align: middle;\n",
       "    }\n",
       "\n",
       "    .dataframe tbody tr th {\n",
       "        vertical-align: top;\n",
       "    }\n",
       "\n",
       "    .dataframe thead th {\n",
       "        text-align: right;\n",
       "    }\n",
       "</style>\n",
       "<table border=\"1\" class=\"dataframe\">\n",
       "  <thead>\n",
       "    <tr style=\"text-align: right;\">\n",
       "      <th></th>\n",
       "      <th>run_duration_ranges</th>\n",
       "      <th>prefix_sum</th>\n",
       "      <th>prefix_sum_percentage</th>\n",
       "    </tr>\n",
       "  </thead>\n",
       "  <tbody>\n",
       "    <tr>\n",
       "      <th>(0.0, 10.0]</th>\n",
       "      <td>0</td>\n",
       "      <td>2623</td>\n",
       "      <td>100.000000</td>\n",
       "    </tr>\n",
       "    <tr>\n",
       "      <th>(10.0, 20.0]</th>\n",
       "      <td>0</td>\n",
       "      <td>2623</td>\n",
       "      <td>100.000000</td>\n",
       "    </tr>\n",
       "    <tr>\n",
       "      <th>(20.0, 30.0]</th>\n",
       "      <td>0</td>\n",
       "      <td>2623</td>\n",
       "      <td>100.000000</td>\n",
       "    </tr>\n",
       "    <tr>\n",
       "      <th>(30.0, 40.0]</th>\n",
       "      <td>0</td>\n",
       "      <td>2623</td>\n",
       "      <td>100.000000</td>\n",
       "    </tr>\n",
       "    <tr>\n",
       "      <th>(40.0, 50.0]</th>\n",
       "      <td>0</td>\n",
       "      <td>2623</td>\n",
       "      <td>100.000000</td>\n",
       "    </tr>\n",
       "    <tr>\n",
       "      <th>...</th>\n",
       "      <td>...</td>\n",
       "      <td>...</td>\n",
       "      <td>...</td>\n",
       "    </tr>\n",
       "    <tr>\n",
       "      <th>(4680.0, 4690.0]</th>\n",
       "      <td>0</td>\n",
       "      <td>1</td>\n",
       "      <td>0.038124</td>\n",
       "    </tr>\n",
       "    <tr>\n",
       "      <th>(4690.0, 4700.0]</th>\n",
       "      <td>0</td>\n",
       "      <td>1</td>\n",
       "      <td>0.038124</td>\n",
       "    </tr>\n",
       "    <tr>\n",
       "      <th>(4700.0, 4710.0]</th>\n",
       "      <td>0</td>\n",
       "      <td>1</td>\n",
       "      <td>0.038124</td>\n",
       "    </tr>\n",
       "    <tr>\n",
       "      <th>(4710.0, 4720.0]</th>\n",
       "      <td>1</td>\n",
       "      <td>1</td>\n",
       "      <td>0.038124</td>\n",
       "    </tr>\n",
       "    <tr>\n",
       "      <th>(4720.0, inf]</th>\n",
       "      <td>0</td>\n",
       "      <td>0</td>\n",
       "      <td>0.000000</td>\n",
       "    </tr>\n",
       "  </tbody>\n",
       "</table>\n",
       "<p>473 rows × 3 columns</p>\n",
       "</div>"
      ],
      "text/plain": [
       "                  run_duration_ranges  prefix_sum  prefix_sum_percentage\n",
       "(0.0, 10.0]                         0        2623             100.000000\n",
       "(10.0, 20.0]                        0        2623             100.000000\n",
       "(20.0, 30.0]                        0        2623             100.000000\n",
       "(30.0, 40.0]                        0        2623             100.000000\n",
       "(40.0, 50.0]                        0        2623             100.000000\n",
       "...                               ...         ...                    ...\n",
       "(4680.0, 4690.0]                    0           1               0.038124\n",
       "(4690.0, 4700.0]                    0           1               0.038124\n",
       "(4700.0, 4710.0]                    0           1               0.038124\n",
       "(4710.0, 4720.0]                    1           1               0.038124\n",
       "(4720.0, inf]                       0           0               0.000000\n",
       "\n",
       "[473 rows x 3 columns]"
      ]
     },
     "execution_count": 102,
     "metadata": {},
     "output_type": "execute_result"
    }
   ],
   "source": [
    "max_duration = max(p_vc['prefix_sum'])\n",
    "p_vc['prefix_sum_percentage'] = p_vc['prefix_sum'] / max_duration * 100\n",
    "p_vc"
   ]
  },
  {
   "cell_type": "code",
   "execution_count": 103,
   "id": "997820f7-81ba-42b2-b182-28515accf409",
   "metadata": {},
   "outputs": [
    {
     "data": {
      "text/html": [
       "<div>\n",
       "<style scoped>\n",
       "    .dataframe tbody tr th:only-of-type {\n",
       "        vertical-align: middle;\n",
       "    }\n",
       "\n",
       "    .dataframe tbody tr th {\n",
       "        vertical-align: top;\n",
       "    }\n",
       "\n",
       "    .dataframe thead th {\n",
       "        text-align: right;\n",
       "    }\n",
       "</style>\n",
       "<table border=\"1\" class=\"dataframe\">\n",
       "  <thead>\n",
       "    <tr style=\"text-align: right;\">\n",
       "      <th></th>\n",
       "      <th>run_duration_ranges</th>\n",
       "      <th>prefix_sum</th>\n",
       "      <th>prefix_sum_percentage</th>\n",
       "    </tr>\n",
       "  </thead>\n",
       "  <tbody>\n",
       "    <tr>\n",
       "      <th>(0.0, 10.0]</th>\n",
       "      <td>0</td>\n",
       "      <td>15</td>\n",
       "      <td>100.000000</td>\n",
       "    </tr>\n",
       "    <tr>\n",
       "      <th>(10.0, 20.0]</th>\n",
       "      <td>1</td>\n",
       "      <td>15</td>\n",
       "      <td>100.000000</td>\n",
       "    </tr>\n",
       "    <tr>\n",
       "      <th>(20.0, 30.0]</th>\n",
       "      <td>0</td>\n",
       "      <td>14</td>\n",
       "      <td>93.333333</td>\n",
       "    </tr>\n",
       "    <tr>\n",
       "      <th>(30.0, 40.0]</th>\n",
       "      <td>0</td>\n",
       "      <td>14</td>\n",
       "      <td>93.333333</td>\n",
       "    </tr>\n",
       "    <tr>\n",
       "      <th>(40.0, 50.0]</th>\n",
       "      <td>1</td>\n",
       "      <td>14</td>\n",
       "      <td>93.333333</td>\n",
       "    </tr>\n",
       "    <tr>\n",
       "      <th>...</th>\n",
       "      <td>...</td>\n",
       "      <td>...</td>\n",
       "      <td>...</td>\n",
       "    </tr>\n",
       "    <tr>\n",
       "      <th>(4680.0, 4690.0]</th>\n",
       "      <td>0</td>\n",
       "      <td>1</td>\n",
       "      <td>6.666667</td>\n",
       "    </tr>\n",
       "    <tr>\n",
       "      <th>(4690.0, 4700.0]</th>\n",
       "      <td>0</td>\n",
       "      <td>1</td>\n",
       "      <td>6.666667</td>\n",
       "    </tr>\n",
       "    <tr>\n",
       "      <th>(4700.0, 4710.0]</th>\n",
       "      <td>0</td>\n",
       "      <td>1</td>\n",
       "      <td>6.666667</td>\n",
       "    </tr>\n",
       "    <tr>\n",
       "      <th>(4710.0, 4720.0]</th>\n",
       "      <td>0</td>\n",
       "      <td>1</td>\n",
       "      <td>6.666667</td>\n",
       "    </tr>\n",
       "    <tr>\n",
       "      <th>(4720.0, inf]</th>\n",
       "      <td>1</td>\n",
       "      <td>1</td>\n",
       "      <td>6.666667</td>\n",
       "    </tr>\n",
       "  </tbody>\n",
       "</table>\n",
       "<p>473 rows × 3 columns</p>\n",
       "</div>"
      ],
      "text/plain": [
       "                  run_duration_ranges  prefix_sum  prefix_sum_percentage\n",
       "(0.0, 10.0]                         0          15             100.000000\n",
       "(10.0, 20.0]                        1          15             100.000000\n",
       "(20.0, 30.0]                        0          14              93.333333\n",
       "(30.0, 40.0]                        0          14              93.333333\n",
       "(40.0, 50.0]                        1          14              93.333333\n",
       "...                               ...         ...                    ...\n",
       "(4680.0, 4690.0]                    0           1               6.666667\n",
       "(4690.0, 4700.0]                    0           1               6.666667\n",
       "(4700.0, 4710.0]                    0           1               6.666667\n",
       "(4710.0, 4720.0]                    0           1               6.666667\n",
       "(4720.0, inf]                       1           1               6.666667\n",
       "\n",
       "[473 rows x 3 columns]"
      ]
     },
     "execution_count": 103,
     "metadata": {},
     "output_type": "execute_result"
    }
   ],
   "source": [
    "max_duration = max(f_vc['prefix_sum'])\n",
    "f_vc['prefix_sum_percentage'] = f_vc['prefix_sum'] / max_duration * 100\n",
    "f_vc"
   ]
  },
  {
   "cell_type": "code",
   "execution_count": 104,
   "id": "86131bf0-9204-4394-930a-9f9be2944615",
   "metadata": {},
   "outputs": [],
   "source": [
    "# join dataframes a and b on their index\n",
    "joined = f_vc.join(p_vc, how='outer', lsuffix='_f', rsuffix='_p')\n",
    "\n",
    "total = joined[['prefix_sum_f', 'prefix_sum_p']].sum(axis=1)\n",
    "joined['f_pct'] = joined['prefix_sum_f'] / total * 100\n",
    "joined['p_pct'] = joined['prefix_sum_p'] / total * 100"
   ]
  },
  {
   "cell_type": "code",
   "execution_count": 105,
   "id": "7e9079f8-f9dc-4f84-9f90-77f1cba87b2e",
   "metadata": {},
   "outputs": [
    {
     "data": {
      "image/png": "[encoded data removed]",
      "text/plain": [
       "<Figure size 720x432 with 1 Axes>"
      ]
     },
     "metadata": {
      "needs_background": "light"
     },
     "output_type": "display_data"
    }
   ],
   "source": [
    "# plot the two series on the same graph\n",
    "\n",
    "tick_spacing = 200\n",
    "\n",
    "plt.figure(figsize=(10, 6))\n",
    "plt.plot(joined.index.astype(str), joined['f_pct'], color='red', label='percent of failure')\n",
    "\n",
    "# set x and y axis labels\n",
    "plt.xlabel('Run duration buckets')\n",
    "plt.ylabel('Percentage of failing')\n",
    "plt.xticks(rotation=90)\n",
    "plt.xticks(np.arange(0, len(joined.index.astype(str)), tick_spacing), joined.index.astype(str)[::tick_spacing])\n",
    "\n",
    "# set title and legend\n",
    "plt.title('Chances of a test failing over time')\n",
    "plt.legend()\n",
    "\n",
    "# show the plot\n",
    "plt.show()"
   ]
  },
  {
   "cell_type": "code",
   "execution_count": 106,
   "id": "3289c466-e350-453c-bab7-6850ed435281",
   "metadata": {},
   "outputs": [],
   "source": [
    "tp = find_turning_point(joined['f_pct'], 60, 75)"
   ]
  },
  {
   "cell_type": "code",
   "execution_count": 107,
   "id": "5315a130-13ab-423b-87ba-cf991a333aa5",
   "metadata": {},
   "outputs": [
    {
     "data": {
      "text/plain": [
       "Interval(4720.0, inf, closed='right')"
      ]
     },
     "execution_count": 107,
     "metadata": {},
     "output_type": "execute_result"
    }
   ],
   "source": [
    "tp"
   ]
  },
  {
   "cell_type": "code",
   "execution_count": 108,
   "id": "ab48210c-8166-4df0-9642-305479553827",
   "metadata": {},
   "outputs": [],
   "source": [
    "passing_test = pd.read_csv(\"../data/processed/{}passing_test.csv\".format(test_id))\n",
    "failing_test = pd.read_csv(\"../data/processed/{}failing_test.csv\".format(test_id))\n",
    "test_data = pd.concat([passing_test, failing_test], axis=0)"
   ]
  },
  {
   "cell_type": "code",
   "execution_count": 109,
   "id": "858f4050-aa59-4a62-8e1b-a558032a61b4",
   "metadata": {},
   "outputs": [],
   "source": [
    "# Add new column with \"success\" or \"failure\" based on run_duration\n",
    "test_data['predicted_status'] = np.where(test_data['run_duration'] > tp.left, 'failure', 'success')\n",
    "precision, recall, f1_score, support = precision_recall_fscore_support(test_data['predicted_status'], test_data['conclusion'], average='binary', pos_label='success')"
   ]
  },
  {
   "cell_type": "code",
   "execution_count": 110,
   "id": "aa27a83c-c4ab-4f42-9d43-742a29e08dee",
   "metadata": {},
   "outputs": [
    {
     "data": {
      "text/plain": [
       "0.9984756097560976"
      ]
     },
     "execution_count": 110,
     "metadata": {},
     "output_type": "execute_result"
    }
   ],
   "source": [
    "precision"
   ]
  },
  {
   "cell_type": "code",
   "execution_count": 111,
   "id": "b428f525-3e78-4ce7-bd8d-69ff2b801b66",
   "metadata": {},
   "outputs": [
    {
     "data": {
      "text/plain": [
       "0.9924242424242424"
      ]
     },
     "execution_count": 111,
     "metadata": {},
     "output_type": "execute_result"
    }
   ],
   "source": [
    "recall"
   ]
  },
  {
   "cell_type": "code",
   "execution_count": 112,
   "id": "cfa32227-ee5d-42de-a985-b6028044b53b",
   "metadata": {},
   "outputs": [
    {
     "data": {
      "text/plain": [
       "0.9954407294832827"
      ]
     },
     "execution_count": 112,
     "metadata": {},
     "output_type": "execute_result"
    }
   ],
   "source": [
    "f1_score"
   ]
  },
  {
   "cell_type": "markdown",
   "id": "4955fe63-3f59-41de-9f8f-963f38f1c45d",
   "metadata": {},
   "source": [
    "#### Normalize"
   ]
  },
  {
   "cell_type": "code",
   "execution_count": 113,
   "id": "9b6a8c7e-3fbb-4ec8-bef7-23fb51f0c66b",
   "metadata": {},
   "outputs": [],
   "source": [
    "scaler = MinMaxScaler()\n",
    "\n",
    "p_vc['run_duration_ranges'] =  scaler.fit_transform(p_vc[['run_duration_ranges']])\n",
    "f_vc['run_duration_ranges'] = scaler.fit_transform(f_vc[['run_duration_ranges']])"
   ]
  },
  {
   "cell_type": "code",
   "execution_count": 114,
   "id": "dccd3bb7-241c-4bb8-b9c2-c414c631a1bc",
   "metadata": {},
   "outputs": [],
   "source": [
    "p_vc['prefix_sum'] = p_vc['run_duration_ranges'][::-1].cumsum()[::-1]\n",
    "f_vc['prefix_sum'] = f_vc['run_duration_ranges'][::-1].cumsum()[::-1]"
   ]
  },
  {
   "cell_type": "code",
   "execution_count": 115,
   "id": "7cc56589-4c39-4fac-b45a-d7c4aa05307a",
   "metadata": {},
   "outputs": [],
   "source": [
    "# join dataframes a and b on their index\n",
    "joined = f_vc.join(p_vc, how='outer', lsuffix='_f', rsuffix='_p')\n",
    "\n",
    "total = joined[['prefix_sum_f', 'prefix_sum_p']].sum(axis=1)\n",
    "joined['f_pct'] = joined['prefix_sum_f'] / total * 100\n",
    "joined['p_pct'] = joined['prefix_sum_p'] / total * 100"
   ]
  },
  {
   "cell_type": "code",
   "execution_count": 116,
   "id": "031f0f4d-26f4-46af-b50f-34e2eb46eb0d",
   "metadata": {},
   "outputs": [
    {
     "data": {
      "image/png": "[encoded data removed]",
      "text/plain": [
       "<Figure size 720x432 with 1 Axes>"
      ]
     },
     "metadata": {
      "needs_background": "light"
     },
     "output_type": "display_data"
    }
   ],
   "source": [
    "# plot the two series on the same graph\n",
    "\n",
    "tick_spacing = 200\n",
    "\n",
    "plt.figure(figsize=(10, 6))\n",
    "plt.plot(joined.index.astype(str), joined['f_pct'], color='red', label='percent of failure')\n",
    "\n",
    "# set x and y axis labels\n",
    "plt.xlabel('Run duration buckets')\n",
    "plt.ylabel('Percentage of failing')\n",
    "plt.xticks(rotation=90)\n",
    "plt.xticks(np.arange(0, len(joined.index.astype(str)), tick_spacing), joined.index.astype(str)[::tick_spacing])\n",
    "\n",
    "# set title and legend\n",
    "plt.title('Chances of a test failing over time')\n",
    "plt.legend()\n",
    "\n",
    "# show the plot\n",
    "plt.show()"
   ]
  },
  {
   "cell_type": "code",
   "execution_count": 117,
   "id": "575d0bc8-5ef0-47d5-8c28-32a5a00eada7",
   "metadata": {},
   "outputs": [
    {
     "data": {
      "text/plain": [
       "Interval(200.0, 210.0, closed='right')"
      ]
     },
     "execution_count": 117,
     "metadata": {},
     "output_type": "execute_result"
    }
   ],
   "source": [
    "tp = find_turning_point(joined['f_pct'], 60, 75)\n",
    "tp"
   ]
  },
  {
   "cell_type": "code",
   "execution_count": 118,
   "id": "31e79e81-6c85-4cd7-b100-cbacd4a45a90",
   "metadata": {},
   "outputs": [],
   "source": [
    "# Add new column with \"success\" or \"failure\" based on run_duration\n",
    "test_data['predicted_status'] = np.where(test_data['run_duration'] > tp.left, 'failure', 'success')\n",
    "precision, recall, f1_score, support = precision_recall_fscore_support(test_data['predicted_status'], test_data['conclusion'], average='binary', pos_label='success')"
   ]
  },
  {
   "cell_type": "code",
   "execution_count": 119,
   "id": "aa15161b-b3d5-4b9c-a67f-5058507fa4f1",
   "metadata": {},
   "outputs": [
    {
     "data": {
      "text/plain": [
       "0.975609756097561"
      ]
     },
     "execution_count": 119,
     "metadata": {},
     "output_type": "execute_result"
    }
   ],
   "source": [
    "precision"
   ]
  },
  {
   "cell_type": "code",
   "execution_count": 120,
   "id": "3a59a30f-aba8-44d2-920e-91735a66976a",
   "metadata": {},
   "outputs": [
    {
     "data": {
      "text/plain": [
       "0.9922480620155039"
      ]
     },
     "execution_count": 120,
     "metadata": {},
     "output_type": "execute_result"
    }
   ],
   "source": [
    "recall"
   ]
  },
  {
   "cell_type": "code",
   "execution_count": 121,
   "id": "544d3a3b-8e79-461d-b327-31c6e5e51b6f",
   "metadata": {},
   "outputs": [
    {
     "data": {
      "text/plain": [
       "0.9838585703305149"
      ]
     },
     "execution_count": 121,
     "metadata": {},
     "output_type": "execute_result"
    }
   ],
   "source": [
    "f1_score"
   ]
  },
  {
   "cell_type": "markdown",
   "id": "44bf68a1-7950-4796-b228-2169bca2093d",
   "metadata": {},
   "source": [
    "### Test 6: Another larger test dataset"
   ]
  },
  {
   "cell_type": "code",
   "execution_count": 241,
   "id": "362739de-3bf7-498b-81a8-6a0b9cd4a638",
   "metadata": {},
   "outputs": [],
   "source": [
    "test_id = \"14909022\" # \"CodeQL tests\""
   ]
  },
  {
   "cell_type": "code",
   "execution_count": 242,
   "id": "e5c6da95-8631-403b-879a-14daa1d384a6",
   "metadata": {},
   "outputs": [],
   "source": [
    "passing_train = pd.read_csv(\"../data/processed/{}passing_train.csv\".format(test_id))\n",
    "failing_train = pd.read_csv(\"../data/processed/{}failing_train.csv\".format(test_id))"
   ]
  },
  {
   "cell_type": "code",
   "execution_count": 243,
   "id": "080f7d1d-00bb-4b7d-9a53-de5d0681220f",
   "metadata": {},
   "outputs": [],
   "source": [
    "# bucketing into 30 second intervals\n",
    "\n",
    "ranges = np.arange(0, max(passing_train['run_duration'])+1, 10).tolist()\n",
    "ranges.append(np.inf)\n",
    "passing_train['run_duration_ranges'] = pd.cut(passing_train['run_duration'], bins=ranges)\n",
    "failing_train['run_duration_ranges'] = pd.cut(failing_train['run_duration'], bins=ranges)\n",
    "p_vc = pd.DataFrame(passing_train['run_duration_ranges'].value_counts().sort_index())\n",
    "f_vc = pd.DataFrame(failing_train['run_duration_ranges'].value_counts().sort_index())"
   ]
  },
  {
   "cell_type": "code",
   "execution_count": 244,
   "id": "d156f601-0f57-48e2-ad9f-14567daced27",
   "metadata": {},
   "outputs": [],
   "source": [
    "p_vc['prefix_sum'] = p_vc['run_duration_ranges'][::-1].cumsum()[::-1]\n",
    "f_vc['prefix_sum'] = f_vc['run_duration_ranges'][::-1].cumsum()[::-1]"
   ]
  },
  {
   "cell_type": "code",
   "execution_count": 245,
   "id": "37b434ee-3e6c-4860-8d42-e31ab9afbe73",
   "metadata": {},
   "outputs": [
    {
     "data": {
      "text/html": [
       "<div>\n",
       "<style scoped>\n",
       "    .dataframe tbody tr th:only-of-type {\n",
       "        vertical-align: middle;\n",
       "    }\n",
       "\n",
       "    .dataframe tbody tr th {\n",
       "        vertical-align: top;\n",
       "    }\n",
       "\n",
       "    .dataframe thead th {\n",
       "        text-align: right;\n",
       "    }\n",
       "</style>\n",
       "<table border=\"1\" class=\"dataframe\">\n",
       "  <thead>\n",
       "    <tr style=\"text-align: right;\">\n",
       "      <th></th>\n",
       "      <th>run_duration_ranges</th>\n",
       "      <th>prefix_sum</th>\n",
       "      <th>prefix_sum_percentage</th>\n",
       "    </tr>\n",
       "  </thead>\n",
       "  <tbody>\n",
       "    <tr>\n",
       "      <th>(0.0, 10.0]</th>\n",
       "      <td>8</td>\n",
       "      <td>679</td>\n",
       "      <td>100.000000</td>\n",
       "    </tr>\n",
       "    <tr>\n",
       "      <th>(10.0, 20.0]</th>\n",
       "      <td>600</td>\n",
       "      <td>671</td>\n",
       "      <td>98.821797</td>\n",
       "    </tr>\n",
       "    <tr>\n",
       "      <th>(20.0, 30.0]</th>\n",
       "      <td>58</td>\n",
       "      <td>71</td>\n",
       "      <td>10.456554</td>\n",
       "    </tr>\n",
       "    <tr>\n",
       "      <th>(30.0, 40.0]</th>\n",
       "      <td>3</td>\n",
       "      <td>13</td>\n",
       "      <td>1.914580</td>\n",
       "    </tr>\n",
       "    <tr>\n",
       "      <th>(40.0, 50.0]</th>\n",
       "      <td>2</td>\n",
       "      <td>10</td>\n",
       "      <td>1.472754</td>\n",
       "    </tr>\n",
       "    <tr>\n",
       "      <th>(50.0, 60.0]</th>\n",
       "      <td>0</td>\n",
       "      <td>8</td>\n",
       "      <td>1.178203</td>\n",
       "    </tr>\n",
       "    <tr>\n",
       "      <th>(60.0, 70.0]</th>\n",
       "      <td>0</td>\n",
       "      <td>8</td>\n",
       "      <td>1.178203</td>\n",
       "    </tr>\n",
       "    <tr>\n",
       "      <th>(70.0, 80.0]</th>\n",
       "      <td>1</td>\n",
       "      <td>8</td>\n",
       "      <td>1.178203</td>\n",
       "    </tr>\n",
       "    <tr>\n",
       "      <th>(80.0, 90.0]</th>\n",
       "      <td>2</td>\n",
       "      <td>7</td>\n",
       "      <td>1.030928</td>\n",
       "    </tr>\n",
       "    <tr>\n",
       "      <th>(90.0, 100.0]</th>\n",
       "      <td>0</td>\n",
       "      <td>5</td>\n",
       "      <td>0.736377</td>\n",
       "    </tr>\n",
       "    <tr>\n",
       "      <th>(100.0, 110.0]</th>\n",
       "      <td>0</td>\n",
       "      <td>5</td>\n",
       "      <td>0.736377</td>\n",
       "    </tr>\n",
       "    <tr>\n",
       "      <th>(110.0, 120.0]</th>\n",
       "      <td>1</td>\n",
       "      <td>5</td>\n",
       "      <td>0.736377</td>\n",
       "    </tr>\n",
       "    <tr>\n",
       "      <th>(120.0, 130.0]</th>\n",
       "      <td>1</td>\n",
       "      <td>4</td>\n",
       "      <td>0.589102</td>\n",
       "    </tr>\n",
       "    <tr>\n",
       "      <th>(130.0, 140.0]</th>\n",
       "      <td>0</td>\n",
       "      <td>3</td>\n",
       "      <td>0.441826</td>\n",
       "    </tr>\n",
       "    <tr>\n",
       "      <th>(140.0, 150.0]</th>\n",
       "      <td>0</td>\n",
       "      <td>3</td>\n",
       "      <td>0.441826</td>\n",
       "    </tr>\n",
       "    <tr>\n",
       "      <th>(150.0, 160.0]</th>\n",
       "      <td>0</td>\n",
       "      <td>3</td>\n",
       "      <td>0.441826</td>\n",
       "    </tr>\n",
       "    <tr>\n",
       "      <th>(160.0, 170.0]</th>\n",
       "      <td>0</td>\n",
       "      <td>3</td>\n",
       "      <td>0.441826</td>\n",
       "    </tr>\n",
       "    <tr>\n",
       "      <th>(170.0, 180.0]</th>\n",
       "      <td>0</td>\n",
       "      <td>3</td>\n",
       "      <td>0.441826</td>\n",
       "    </tr>\n",
       "    <tr>\n",
       "      <th>(180.0, 190.0]</th>\n",
       "      <td>0</td>\n",
       "      <td>3</td>\n",
       "      <td>0.441826</td>\n",
       "    </tr>\n",
       "    <tr>\n",
       "      <th>(190.0, 200.0]</th>\n",
       "      <td>0</td>\n",
       "      <td>3</td>\n",
       "      <td>0.441826</td>\n",
       "    </tr>\n",
       "    <tr>\n",
       "      <th>(200.0, 210.0]</th>\n",
       "      <td>0</td>\n",
       "      <td>3</td>\n",
       "      <td>0.441826</td>\n",
       "    </tr>\n",
       "    <tr>\n",
       "      <th>(210.0, 220.0]</th>\n",
       "      <td>0</td>\n",
       "      <td>3</td>\n",
       "      <td>0.441826</td>\n",
       "    </tr>\n",
       "    <tr>\n",
       "      <th>(220.0, 230.0]</th>\n",
       "      <td>2</td>\n",
       "      <td>3</td>\n",
       "      <td>0.441826</td>\n",
       "    </tr>\n",
       "    <tr>\n",
       "      <th>(230.0, 240.0]</th>\n",
       "      <td>0</td>\n",
       "      <td>1</td>\n",
       "      <td>0.147275</td>\n",
       "    </tr>\n",
       "    <tr>\n",
       "      <th>(240.0, 250.0]</th>\n",
       "      <td>0</td>\n",
       "      <td>1</td>\n",
       "      <td>0.147275</td>\n",
       "    </tr>\n",
       "    <tr>\n",
       "      <th>(250.0, 260.0]</th>\n",
       "      <td>0</td>\n",
       "      <td>1</td>\n",
       "      <td>0.147275</td>\n",
       "    </tr>\n",
       "    <tr>\n",
       "      <th>(260.0, 270.0]</th>\n",
       "      <td>0</td>\n",
       "      <td>1</td>\n",
       "      <td>0.147275</td>\n",
       "    </tr>\n",
       "    <tr>\n",
       "      <th>(270.0, 280.0]</th>\n",
       "      <td>0</td>\n",
       "      <td>1</td>\n",
       "      <td>0.147275</td>\n",
       "    </tr>\n",
       "    <tr>\n",
       "      <th>(280.0, 290.0]</th>\n",
       "      <td>0</td>\n",
       "      <td>1</td>\n",
       "      <td>0.147275</td>\n",
       "    </tr>\n",
       "    <tr>\n",
       "      <th>(290.0, inf]</th>\n",
       "      <td>1</td>\n",
       "      <td>1</td>\n",
       "      <td>0.147275</td>\n",
       "    </tr>\n",
       "  </tbody>\n",
       "</table>\n",
       "</div>"
      ],
      "text/plain": [
       "                run_duration_ranges  prefix_sum  prefix_sum_percentage\n",
       "(0.0, 10.0]                       8         679             100.000000\n",
       "(10.0, 20.0]                    600         671              98.821797\n",
       "(20.0, 30.0]                     58          71              10.456554\n",
       "(30.0, 40.0]                      3          13               1.914580\n",
       "(40.0, 50.0]                      2          10               1.472754\n",
       "(50.0, 60.0]                      0           8               1.178203\n",
       "(60.0, 70.0]                      0           8               1.178203\n",
       "(70.0, 80.0]                      1           8               1.178203\n",
       "(80.0, 90.0]                      2           7               1.030928\n",
       "(90.0, 100.0]                     0           5               0.736377\n",
       "(100.0, 110.0]                    0           5               0.736377\n",
       "(110.0, 120.0]                    1           5               0.736377\n",
       "(120.0, 130.0]                    1           4               0.589102\n",
       "(130.0, 140.0]                    0           3               0.441826\n",
       "(140.0, 150.0]                    0           3               0.441826\n",
       "(150.0, 160.0]                    0           3               0.441826\n",
       "(160.0, 170.0]                    0           3               0.441826\n",
       "(170.0, 180.0]                    0           3               0.441826\n",
       "(180.0, 190.0]                    0           3               0.441826\n",
       "(190.0, 200.0]                    0           3               0.441826\n",
       "(200.0, 210.0]                    0           3               0.441826\n",
       "(210.0, 220.0]                    0           3               0.441826\n",
       "(220.0, 230.0]                    2           3               0.441826\n",
       "(230.0, 240.0]                    0           1               0.147275\n",
       "(240.0, 250.0]                    0           1               0.147275\n",
       "(250.0, 260.0]                    0           1               0.147275\n",
       "(260.0, 270.0]                    0           1               0.147275\n",
       "(270.0, 280.0]                    0           1               0.147275\n",
       "(280.0, 290.0]                    0           1               0.147275\n",
       "(290.0, inf]                      1           1               0.147275"
      ]
     },
     "execution_count": 245,
     "metadata": {},
     "output_type": "execute_result"
    }
   ],
   "source": [
    "max_duration = max(p_vc['prefix_sum'])\n",
    "p_vc['prefix_sum_percentage'] = p_vc['prefix_sum'] / max_duration * 100\n",
    "p_vc"
   ]
  },
  {
   "cell_type": "code",
   "execution_count": 246,
   "id": "f61daf8f-2b46-425e-86a4-e8f29522d58c",
   "metadata": {},
   "outputs": [
    {
     "data": {
      "text/html": [
       "<div>\n",
       "<style scoped>\n",
       "    .dataframe tbody tr th:only-of-type {\n",
       "        vertical-align: middle;\n",
       "    }\n",
       "\n",
       "    .dataframe tbody tr th {\n",
       "        vertical-align: top;\n",
       "    }\n",
       "\n",
       "    .dataframe thead th {\n",
       "        text-align: right;\n",
       "    }\n",
       "</style>\n",
       "<table border=\"1\" class=\"dataframe\">\n",
       "  <thead>\n",
       "    <tr style=\"text-align: right;\">\n",
       "      <th></th>\n",
       "      <th>run_duration_ranges</th>\n",
       "      <th>prefix_sum</th>\n",
       "      <th>prefix_sum_percentage</th>\n",
       "    </tr>\n",
       "  </thead>\n",
       "  <tbody>\n",
       "    <tr>\n",
       "      <th>(0.0, 10.0]</th>\n",
       "      <td>2</td>\n",
       "      <td>38</td>\n",
       "      <td>100.000000</td>\n",
       "    </tr>\n",
       "    <tr>\n",
       "      <th>(10.0, 20.0]</th>\n",
       "      <td>24</td>\n",
       "      <td>36</td>\n",
       "      <td>94.736842</td>\n",
       "    </tr>\n",
       "    <tr>\n",
       "      <th>(20.0, 30.0]</th>\n",
       "      <td>3</td>\n",
       "      <td>12</td>\n",
       "      <td>31.578947</td>\n",
       "    </tr>\n",
       "    <tr>\n",
       "      <th>(30.0, 40.0]</th>\n",
       "      <td>1</td>\n",
       "      <td>9</td>\n",
       "      <td>23.684211</td>\n",
       "    </tr>\n",
       "    <tr>\n",
       "      <th>(40.0, 50.0]</th>\n",
       "      <td>4</td>\n",
       "      <td>8</td>\n",
       "      <td>21.052632</td>\n",
       "    </tr>\n",
       "    <tr>\n",
       "      <th>(50.0, 60.0]</th>\n",
       "      <td>1</td>\n",
       "      <td>4</td>\n",
       "      <td>10.526316</td>\n",
       "    </tr>\n",
       "    <tr>\n",
       "      <th>(60.0, 70.0]</th>\n",
       "      <td>0</td>\n",
       "      <td>3</td>\n",
       "      <td>7.894737</td>\n",
       "    </tr>\n",
       "    <tr>\n",
       "      <th>(70.0, 80.0]</th>\n",
       "      <td>0</td>\n",
       "      <td>3</td>\n",
       "      <td>7.894737</td>\n",
       "    </tr>\n",
       "    <tr>\n",
       "      <th>(80.0, 90.0]</th>\n",
       "      <td>0</td>\n",
       "      <td>3</td>\n",
       "      <td>7.894737</td>\n",
       "    </tr>\n",
       "    <tr>\n",
       "      <th>(90.0, 100.0]</th>\n",
       "      <td>0</td>\n",
       "      <td>3</td>\n",
       "      <td>7.894737</td>\n",
       "    </tr>\n",
       "    <tr>\n",
       "      <th>(100.0, 110.0]</th>\n",
       "      <td>0</td>\n",
       "      <td>3</td>\n",
       "      <td>7.894737</td>\n",
       "    </tr>\n",
       "    <tr>\n",
       "      <th>(110.0, 120.0]</th>\n",
       "      <td>0</td>\n",
       "      <td>3</td>\n",
       "      <td>7.894737</td>\n",
       "    </tr>\n",
       "    <tr>\n",
       "      <th>(120.0, 130.0]</th>\n",
       "      <td>0</td>\n",
       "      <td>3</td>\n",
       "      <td>7.894737</td>\n",
       "    </tr>\n",
       "    <tr>\n",
       "      <th>(130.0, 140.0]</th>\n",
       "      <td>0</td>\n",
       "      <td>3</td>\n",
       "      <td>7.894737</td>\n",
       "    </tr>\n",
       "    <tr>\n",
       "      <th>(140.0, 150.0]</th>\n",
       "      <td>0</td>\n",
       "      <td>3</td>\n",
       "      <td>7.894737</td>\n",
       "    </tr>\n",
       "    <tr>\n",
       "      <th>(150.0, 160.0]</th>\n",
       "      <td>0</td>\n",
       "      <td>3</td>\n",
       "      <td>7.894737</td>\n",
       "    </tr>\n",
       "    <tr>\n",
       "      <th>(160.0, 170.0]</th>\n",
       "      <td>0</td>\n",
       "      <td>3</td>\n",
       "      <td>7.894737</td>\n",
       "    </tr>\n",
       "    <tr>\n",
       "      <th>(170.0, 180.0]</th>\n",
       "      <td>0</td>\n",
       "      <td>3</td>\n",
       "      <td>7.894737</td>\n",
       "    </tr>\n",
       "    <tr>\n",
       "      <th>(180.0, 190.0]</th>\n",
       "      <td>0</td>\n",
       "      <td>3</td>\n",
       "      <td>7.894737</td>\n",
       "    </tr>\n",
       "    <tr>\n",
       "      <th>(190.0, 200.0]</th>\n",
       "      <td>0</td>\n",
       "      <td>3</td>\n",
       "      <td>7.894737</td>\n",
       "    </tr>\n",
       "    <tr>\n",
       "      <th>(200.0, 210.0]</th>\n",
       "      <td>0</td>\n",
       "      <td>3</td>\n",
       "      <td>7.894737</td>\n",
       "    </tr>\n",
       "    <tr>\n",
       "      <th>(210.0, 220.0]</th>\n",
       "      <td>0</td>\n",
       "      <td>3</td>\n",
       "      <td>7.894737</td>\n",
       "    </tr>\n",
       "    <tr>\n",
       "      <th>(220.0, 230.0]</th>\n",
       "      <td>0</td>\n",
       "      <td>3</td>\n",
       "      <td>7.894737</td>\n",
       "    </tr>\n",
       "    <tr>\n",
       "      <th>(230.0, 240.0]</th>\n",
       "      <td>0</td>\n",
       "      <td>3</td>\n",
       "      <td>7.894737</td>\n",
       "    </tr>\n",
       "    <tr>\n",
       "      <th>(240.0, 250.0]</th>\n",
       "      <td>0</td>\n",
       "      <td>3</td>\n",
       "      <td>7.894737</td>\n",
       "    </tr>\n",
       "    <tr>\n",
       "      <th>(250.0, 260.0]</th>\n",
       "      <td>1</td>\n",
       "      <td>3</td>\n",
       "      <td>7.894737</td>\n",
       "    </tr>\n",
       "    <tr>\n",
       "      <th>(260.0, 270.0]</th>\n",
       "      <td>0</td>\n",
       "      <td>2</td>\n",
       "      <td>5.263158</td>\n",
       "    </tr>\n",
       "    <tr>\n",
       "      <th>(270.0, 280.0]</th>\n",
       "      <td>0</td>\n",
       "      <td>2</td>\n",
       "      <td>5.263158</td>\n",
       "    </tr>\n",
       "    <tr>\n",
       "      <th>(280.0, 290.0]</th>\n",
       "      <td>0</td>\n",
       "      <td>2</td>\n",
       "      <td>5.263158</td>\n",
       "    </tr>\n",
       "    <tr>\n",
       "      <th>(290.0, inf]</th>\n",
       "      <td>2</td>\n",
       "      <td>2</td>\n",
       "      <td>5.263158</td>\n",
       "    </tr>\n",
       "  </tbody>\n",
       "</table>\n",
       "</div>"
      ],
      "text/plain": [
       "                run_duration_ranges  prefix_sum  prefix_sum_percentage\n",
       "(0.0, 10.0]                       2          38             100.000000\n",
       "(10.0, 20.0]                     24          36              94.736842\n",
       "(20.0, 30.0]                      3          12              31.578947\n",
       "(30.0, 40.0]                      1           9              23.684211\n",
       "(40.0, 50.0]                      4           8              21.052632\n",
       "(50.0, 60.0]                      1           4              10.526316\n",
       "(60.0, 70.0]                      0           3               7.894737\n",
       "(70.0, 80.0]                      0           3               7.894737\n",
       "(80.0, 90.0]                      0           3               7.894737\n",
       "(90.0, 100.0]                     0           3               7.894737\n",
       "(100.0, 110.0]                    0           3               7.894737\n",
       "(110.0, 120.0]                    0           3               7.894737\n",
       "(120.0, 130.0]                    0           3               7.894737\n",
       "(130.0, 140.0]                    0           3               7.894737\n",
       "(140.0, 150.0]                    0           3               7.894737\n",
       "(150.0, 160.0]                    0           3               7.894737\n",
       "(160.0, 170.0]                    0           3               7.894737\n",
       "(170.0, 180.0]                    0           3               7.894737\n",
       "(180.0, 190.0]                    0           3               7.894737\n",
       "(190.0, 200.0]                    0           3               7.894737\n",
       "(200.0, 210.0]                    0           3               7.894737\n",
       "(210.0, 220.0]                    0           3               7.894737\n",
       "(220.0, 230.0]                    0           3               7.894737\n",
       "(230.0, 240.0]                    0           3               7.894737\n",
       "(240.0, 250.0]                    0           3               7.894737\n",
       "(250.0, 260.0]                    1           3               7.894737\n",
       "(260.0, 270.0]                    0           2               5.263158\n",
       "(270.0, 280.0]                    0           2               5.263158\n",
       "(280.0, 290.0]                    0           2               5.263158\n",
       "(290.0, inf]                      2           2               5.263158"
      ]
     },
     "execution_count": 246,
     "metadata": {},
     "output_type": "execute_result"
    }
   ],
   "source": [
    "max_duration = max(f_vc['prefix_sum'])\n",
    "f_vc['prefix_sum_percentage'] = f_vc['prefix_sum'] / max_duration * 100\n",
    "f_vc"
   ]
  },
  {
   "cell_type": "code",
   "execution_count": 247,
   "id": "664d200e-5d59-48b0-933d-998578d8a470",
   "metadata": {},
   "outputs": [],
   "source": [
    "# join dataframes a and b on their index\n",
    "joined = f_vc.join(p_vc, how='outer', lsuffix='_f', rsuffix='_p')\n",
    "\n",
    "total = joined[['prefix_sum_f', 'prefix_sum_p']].sum(axis=1)\n",
    "joined['f_pct'] = joined['prefix_sum_f'] / total * 100\n",
    "joined['p_pct'] = joined['prefix_sum_p'] / total * 100"
   ]
  },
  {
   "cell_type": "code",
   "execution_count": 248,
   "id": "8f4d7744-994e-4195-b57f-f609916bf93c",
   "metadata": {},
   "outputs": [
    {
     "data": {
      "image/png": "[encoded data removed]",
      "text/plain": [
       "<Figure size 720x432 with 1 Axes>"
      ]
     },
     "metadata": {
      "needs_background": "light"
     },
     "output_type": "display_data"
    }
   ],
   "source": [
    "# plot the two series on the same graph\n",
    "\n",
    "tick_spacing = 200\n",
    "\n",
    "plt.figure(figsize=(10, 6))\n",
    "plt.plot(joined.index.astype(str), joined['f_pct'], color='red', label='percent of failure')\n",
    "\n",
    "# set x and y axis labels\n",
    "plt.xlabel('Run duration buckets')\n",
    "plt.ylabel('Percentage of failing')\n",
    "plt.xticks(rotation=90)\n",
    "plt.xticks(np.arange(0, len(joined.index.astype(str)), tick_spacing), joined.index.astype(str)[::tick_spacing])\n",
    "\n",
    "# set title and legend\n",
    "plt.title('Chances of a test failing over time')\n",
    "plt.legend()\n",
    "\n",
    "# show the plot\n",
    "plt.show()"
   ]
  },
  {
   "cell_type": "code",
   "execution_count": 249,
   "id": "e53028d0-8db4-4cfa-ac6c-20e800910190",
   "metadata": {},
   "outputs": [],
   "source": [
    "tp = find_turning_point(joined['f_pct'], 60, 75)"
   ]
  },
  {
   "cell_type": "code",
   "execution_count": 250,
   "id": "bc2a5158-a23d-427d-b2f4-72813ee9f433",
   "metadata": {},
   "outputs": [
    {
     "data": {
      "text/plain": [
       "Interval(230.0, 240.0, closed='right')"
      ]
     },
     "execution_count": 250,
     "metadata": {},
     "output_type": "execute_result"
    }
   ],
   "source": [
    "tp"
   ]
  },
  {
   "cell_type": "code",
   "execution_count": 251,
   "id": "72d977fa-e32d-4a95-8394-9749f47ba2e5",
   "metadata": {},
   "outputs": [],
   "source": [
    "passing_test = pd.read_csv(\"../data/processed/{}passing_test.csv\".format(test_id))\n",
    "failing_test = pd.read_csv(\"../data/processed/{}failing_test.csv\".format(test_id))"
   ]
  },
  {
   "cell_type": "code",
   "execution_count": 252,
   "id": "16cfa1d9-b8eb-49cb-a84b-2fe7d1e26405",
   "metadata": {},
   "outputs": [],
   "source": [
    "test_data = pd.concat([passing_test, failing_test], axis=0)"
   ]
  },
  {
   "cell_type": "code",
   "execution_count": 253,
   "id": "2f633510-2205-42b0-b732-f00359ed3bde",
   "metadata": {},
   "outputs": [],
   "source": [
    "# Add new column with \"success\" or \"failure\" based on run_duration\n",
    "test_data['predicted_status'] = np.where(test_data['run_duration'] > tp.left, 'failure', 'success')"
   ]
  },
  {
   "cell_type": "code",
   "execution_count": 254,
   "id": "e692ca80-c1af-4dbd-8a24-5f01b032182d",
   "metadata": {},
   "outputs": [],
   "source": [
    "precision, recall, f1_score, support = precision_recall_fscore_support(test_data['predicted_status'], test_data['conclusion'], average='binary', pos_label='success')"
   ]
  },
  {
   "cell_type": "code",
   "execution_count": 255,
   "id": "b1d54c0e-cd26-4495-932e-66e9f7658ff0",
   "metadata": {},
   "outputs": [
    {
     "data": {
      "text/plain": [
       "0.9941176470588236"
      ]
     },
     "execution_count": 255,
     "metadata": {},
     "output_type": "execute_result"
    }
   ],
   "source": [
    "precision"
   ]
  },
  {
   "cell_type": "code",
   "execution_count": 256,
   "id": "9372db4c-3a09-4501-af0c-d323f53e5f11",
   "metadata": {},
   "outputs": [
    {
     "data": {
      "text/plain": [
       "0.9441340782122905"
      ]
     },
     "execution_count": 256,
     "metadata": {},
     "output_type": "execute_result"
    }
   ],
   "source": [
    "recall"
   ]
  },
  {
   "cell_type": "code",
   "execution_count": 257,
   "id": "4461e886-2d4d-43b0-97e4-ce53733130ba",
   "metadata": {},
   "outputs": [
    {
     "data": {
      "text/plain": [
       "0.9684813753581661"
      ]
     },
     "execution_count": 257,
     "metadata": {},
     "output_type": "execute_result"
    }
   ],
   "source": [
    "f1_score"
   ]
  },
  {
   "cell_type": "markdown",
   "id": "64030daa-1823-44a2-8139-53e946e09ac2",
   "metadata": {},
   "source": [
    "#### Normalize"
   ]
  },
  {
   "cell_type": "code",
   "execution_count": 258,
   "id": "2f3ff7ee-f76d-48de-b0ee-0d4f0c7d9535",
   "metadata": {},
   "outputs": [],
   "source": [
    "scaler = MinMaxScaler()\n",
    "\n",
    "p_vc['run_duration_ranges'] = scaler.fit_transform(p_vc[['run_duration_ranges']])\n",
    "f_vc['run_duration_ranges'] = scaler.fit_transform(f_vc[['run_duration_ranges']])"
   ]
  },
  {
   "cell_type": "code",
   "execution_count": 259,
   "id": "e85f6b2b-83e1-4aa3-9f43-5561b800582b",
   "metadata": {},
   "outputs": [],
   "source": [
    "p_vc['prefix_sum'] = p_vc['run_duration_ranges'][::-1].cumsum()[::-1]\n",
    "f_vc['prefix_sum'] = f_vc['run_duration_ranges'][::-1].cumsum()[::-1]"
   ]
  },
  {
   "cell_type": "code",
   "execution_count": 260,
   "id": "dc3c6ecd-5940-4649-abfe-d0e222f87b4d",
   "metadata": {},
   "outputs": [],
   "source": [
    "# join dataframes a and b on their index\n",
    "joined = f_vc.join(p_vc, how='outer', lsuffix='_f', rsuffix='_p')\n",
    "\n",
    "total = joined[['prefix_sum_f', 'prefix_sum_p']].sum(axis=1)\n",
    "joined['f_pct'] = joined['prefix_sum_f'] / total * 100\n",
    "joined['p_pct'] = joined['prefix_sum_p'] / total * 100"
   ]
  },
  {
   "cell_type": "code",
   "execution_count": 261,
   "id": "af739bad-bb75-4416-857c-1986406515d1",
   "metadata": {},
   "outputs": [
    {
     "data": {
      "image/png": "[encoded data removed]",
      "text/plain": [
       "<Figure size 720x432 with 1 Axes>"
      ]
     },
     "metadata": {
      "needs_background": "light"
     },
     "output_type": "display_data"
    }
   ],
   "source": [
    "# plot the two series on the same graph\n",
    "\n",
    "tick_spacing = 200\n",
    "\n",
    "plt.figure(figsize=(10, 6))\n",
    "plt.plot(joined.index.astype(str), joined['f_pct'], color='red', label='percent of failure')\n",
    "\n",
    "# set x and y axis labels\n",
    "plt.xlabel('Run duration buckets')\n",
    "plt.ylabel('Percentage of failing')\n",
    "plt.xticks(rotation=90)\n",
    "plt.xticks(np.arange(0, len(joined.index.astype(str)), tick_spacing), joined.index.astype(str)[::tick_spacing])\n",
    "\n",
    "# set title and legend\n",
    "plt.title('Chances of a test failing over time')\n",
    "plt.legend()\n",
    "\n",
    "# show the plot\n",
    "plt.show()"
   ]
  },
  {
   "cell_type": "code",
   "execution_count": 263,
   "id": "70776057-2654-4a1b-8457-c26a191be3e8",
   "metadata": {},
   "outputs": [],
   "source": [
    "tp = find_turning_point(joined['f_pct'], 60, 75)"
   ]
  },
  {
   "cell_type": "code",
   "execution_count": 264,
   "id": "98fb8066-4d35-47ed-b46a-9cd78dd51b95",
   "metadata": {},
   "outputs": [
    {
     "data": {
      "text/plain": [
       "Interval(20.0, 30.0, closed='right')"
      ]
     },
     "execution_count": 264,
     "metadata": {},
     "output_type": "execute_result"
    }
   ],
   "source": [
    "tp"
   ]
  },
  {
   "cell_type": "code",
   "execution_count": 265,
   "id": "9d24b1ab-e85e-447e-9d06-b7b3cb0194e8",
   "metadata": {},
   "outputs": [],
   "source": [
    "test_data = pd.concat([passing_test, failing_test], axis=0)"
   ]
  },
  {
   "cell_type": "code",
   "execution_count": 266,
   "id": "c756be2a-a6a4-439a-af62-bec717cacf46",
   "metadata": {},
   "outputs": [],
   "source": [
    "# Add new column with \"success\" or \"failure\" based on run_duration\n",
    "test_data['predicted_status'] = np.where(test_data['run_duration'] > tp.left, 'failure', 'success')"
   ]
  },
  {
   "cell_type": "code",
   "execution_count": 267,
   "id": "7b4a2a92-6dfc-48ba-ac6b-8e56a24903e0",
   "metadata": {},
   "outputs": [],
   "source": [
    "precision, recall, f1_score, support = precision_recall_fscore_support(test_data['predicted_status'], test_data['conclusion'], average='binary', pos_label='success')"
   ]
  },
  {
   "cell_type": "code",
   "execution_count": 268,
   "id": "823ac06e-d952-447a-8bdb-76febde3f946",
   "metadata": {},
   "outputs": [
    {
     "data": {
      "text/plain": [
       "0.9294117647058824"
      ]
     },
     "execution_count": 268,
     "metadata": {},
     "output_type": "execute_result"
    }
   ],
   "source": [
    "precision"
   ]
  },
  {
   "cell_type": "code",
   "execution_count": 269,
   "id": "496d5c4c-76bd-44bd-b137-4a863aa5bd27",
   "metadata": {},
   "outputs": [
    {
     "data": {
      "text/plain": [
       "0.9461077844311377"
      ]
     },
     "execution_count": 269,
     "metadata": {},
     "output_type": "execute_result"
    }
   ],
   "source": [
    "recall"
   ]
  },
  {
   "cell_type": "code",
   "execution_count": 270,
   "id": "29efcd72-0fc1-4032-9518-db1d72532905",
   "metadata": {},
   "outputs": [
    {
     "data": {
      "text/plain": [
       "0.9376854599406529"
      ]
     },
     "execution_count": 270,
     "metadata": {},
     "output_type": "execute_result"
    }
   ],
   "source": [
    "f1_score"
   ]
  },
  {
   "cell_type": "markdown",
   "id": "ca1b116d-a015-455b-9104-102c0a820035",
   "metadata": {},
   "source": [
    "# Conclusion"
   ]
  },
  {
   "cell_type": "markdown",
   "id": "440459ea-de0d-4154-8199-b46df824ef04",
   "metadata": {},
   "source": [
    "In this notebook, I evaluated the trends of passing and failing tests and plotted the likelihood of a test to pass or fail throughout the run duration of tests.\n",
    "\n",
    "For every time interval T, we sum all the successes from T to N (the end if the dataset) divided by the total number of tests in that set. This answers \"Given it is now time T, what is the probability that my test will succeed should I allow it to continue\" \n",
    "\n",
    "Upon normalizing the data, ie. I am scaling the number of tests within each 10 or 30 second time range to be between 0 & 1, we see that the optimal time is lower howver, we are less accurate in stopping the failing tests.\n",
    "\n",
    "We also saw that for some tests there is no optimal stopping point - meaning it never occurs that a test is more likely to fail than pass."
   ]
  }
 ],
 "metadata": {
  "kernelspec": {
   "display_name": "Python 3",
   "language": "python",
   "name": "python3"
  },
  "language_info": {
   "codemirror_mode": {
    "name": "ipython",
    "version": 3
   },
   "file_extension": ".py",
   "mimetype": "text/x-python",
   "name": "python",
   "nbconvert_exporter": "python",
   "pygments_lexer": "ipython3",
   "version": "3.8.6"
  }
 },
 "nbformat": 4,
 "nbformat_minor": 5
}
